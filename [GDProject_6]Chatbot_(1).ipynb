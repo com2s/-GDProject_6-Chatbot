{
  "cells": [
    {
      "cell_type": "markdown",
      "metadata": {
        "id": "6lo4QKpDDYoI"
      },
      "source": [
        "Project: 멋진 챗봇 만들기\n",
        "\n",
        "# 목차\n",
        "\n",
        "* 평가문항\n",
        "* 번역 데이터 준비\n",
        "* 데이터 정제\n",
        "* 데이터 토큰화\n",
        "* 데이터 증강\n",
        "* 데이터 벡터화\n",
        "* 훈련하기\n",
        "* 성능 측정하기\n",
        "* 회고\n",
        "\n"
      ]
    },
    {
      "cell_type": "markdown",
      "metadata": {
        "id": "buTo55p8DqUK"
      },
      "source": [
        "# 번역 데이터 준비"
      ]
    },
    {
      "cell_type": "markdown",
      "metadata": {
        "id": "3wJ6mqCfDyJE"
      },
      "source": [
        "## 라이브러리와 데이터 준비하기"
      ]
    },
    {
      "cell_type": "code",
      "execution_count": null,
      "metadata": {
        "colab": {
          "base_uri": "https://localhost:8080/"
        },
        "id": "3Ig8V7-V-vk5",
        "outputId": "4ea2f7ab-234a-4895-8187-907efe0795f6"
      },
      "outputs": [
        {
          "name": "stdout",
          "output_type": "stream",
          "text": [
            "Requirement already satisfied: sentencepiece in /opt/conda/lib/python3.9/site-packages (0.1.96)\n",
            "\u001b[33mWARNING: Running pip as the 'root' user can result in broken permissions and conflicting behaviour with the system package manager. It is recommended to use a virtual environment instead: https://pip.pypa.io/warnings/venv\u001b[0m\n"
          ]
        }
      ],
      "source": [
        "!pip install sentencepiece"
      ]
    },
    {
      "cell_type": "code",
      "execution_count": null,
      "metadata": {
        "id": "Ac_Kqeq8G__q"
      },
      "outputs": [],
      "source": [
        "import numpy as np\n",
        "import pandas as pd\n",
        "import tensorflow as tf\n",
        "import sentencepiece as spm\n",
        "from nltk.translate.bleu_score import sentence_bleu\n",
        "from nltk.translate.bleu_score import SmoothingFunction\n",
        "\n",
        "import re\n",
        "import os\n",
        "import random\n",
        "import math\n",
        "\n",
        "from tqdm.notebook import tqdm\n",
        "import matplotlib.pyplot as plt"
      ]
    },
    {
      "cell_type": "code",
      "execution_count": null,
      "metadata": {
        "id": "h-x3AhB8Ib5Y"
      },
      "outputs": [],
      "source": [
        "data_path = os.getenv('HOME') + '/aiffel/transformer_chatbot/data/ChatbotData.csv' # 파일명 주의"
      ]
    },
    {
      "cell_type": "code",
      "execution_count": null,
      "metadata": {
        "colab": {
          "base_uri": "https://localhost:8080/",
          "height": 206
        },
        "id": "p2Bn5AiPIueG",
        "outputId": "d56fc511-ab47-4250-8007-1f8f49f8b3f8"
      },
      "outputs": [
        {
          "data": {
            "text/html": [
              "<div>\n",
              "<style scoped>\n",
              "    .dataframe tbody tr th:only-of-type {\n",
              "        vertical-align: middle;\n",
              "    }\n",
              "\n",
              "    .dataframe tbody tr th {\n",
              "        vertical-align: top;\n",
              "    }\n",
              "\n",
              "    .dataframe thead th {\n",
              "        text-align: right;\n",
              "    }\n",
              "</style>\n",
              "<table border=\"1\" class=\"dataframe\">\n",
              "  <thead>\n",
              "    <tr style=\"text-align: right;\">\n",
              "      <th></th>\n",
              "      <th>Q</th>\n",
              "      <th>A</th>\n",
              "      <th>label</th>\n",
              "    </tr>\n",
              "  </thead>\n",
              "  <tbody>\n",
              "    <tr>\n",
              "      <th>0</th>\n",
              "      <td>12시 땡!</td>\n",
              "      <td>하루가 또 가네요.</td>\n",
              "      <td>0</td>\n",
              "    </tr>\n",
              "    <tr>\n",
              "      <th>1</th>\n",
              "      <td>1지망 학교 떨어졌어</td>\n",
              "      <td>위로해 드립니다.</td>\n",
              "      <td>0</td>\n",
              "    </tr>\n",
              "    <tr>\n",
              "      <th>2</th>\n",
              "      <td>3박4일 놀러가고 싶다</td>\n",
              "      <td>여행은 언제나 좋죠.</td>\n",
              "      <td>0</td>\n",
              "    </tr>\n",
              "    <tr>\n",
              "      <th>3</th>\n",
              "      <td>3박4일 정도 놀러가고 싶다</td>\n",
              "      <td>여행은 언제나 좋죠.</td>\n",
              "      <td>0</td>\n",
              "    </tr>\n",
              "    <tr>\n",
              "      <th>4</th>\n",
              "      <td>PPL 심하네</td>\n",
              "      <td>눈살이 찌푸려지죠.</td>\n",
              "      <td>0</td>\n",
              "    </tr>\n",
              "  </tbody>\n",
              "</table>\n",
              "</div>"
            ],
            "text/plain": [
              "                 Q            A  label\n",
              "0           12시 땡!   하루가 또 가네요.      0\n",
              "1      1지망 학교 떨어졌어    위로해 드립니다.      0\n",
              "2     3박4일 놀러가고 싶다  여행은 언제나 좋죠.      0\n",
              "3  3박4일 정도 놀러가고 싶다  여행은 언제나 좋죠.      0\n",
              "4          PPL 심하네   눈살이 찌푸려지죠.      0"
            ]
          },
          "execution_count": 4,
          "metadata": {},
          "output_type": "execute_result"
        }
      ],
      "source": [
        " data = pd.read_csv(data_path)\n",
        " \n",
        " data.head()"
      ]
    },
    {
      "cell_type": "code",
      "execution_count": null,
      "metadata": {
        "id": "_Jk4NbvjJPZM"
      },
      "outputs": [],
      "source": [
        "questions = data['Q']\n",
        "answers = data['A']"
      ]
    },
    {
      "cell_type": "code",
      "execution_count": null,
      "metadata": {
        "colab": {
          "base_uri": "https://localhost:8080/"
        },
        "id": "4EIUffWOJcIR",
        "outputId": "abdfeb50-a66e-4049-884d-afb17e87ece1"
      },
      "outputs": [
        {
          "data": {
            "text/plain": [
              "0             12시 땡!\n",
              "1        1지망 학교 떨어졌어\n",
              "2       3박4일 놀러가고 싶다\n",
              "3    3박4일 정도 놀러가고 싶다\n",
              "4            PPL 심하네\n",
              "Name: Q, dtype: object"
            ]
          },
          "execution_count": 6,
          "metadata": {},
          "output_type": "execute_result"
        }
      ],
      "source": [
        "questions.head()"
      ]
    },
    {
      "cell_type": "code",
      "execution_count": null,
      "metadata": {
        "colab": {
          "base_uri": "https://localhost:8080/"
        },
        "id": "0Q8sP_ylJdE7",
        "outputId": "d1cc5788-f84b-43a4-9ebf-c7feb06872e6"
      },
      "outputs": [
        {
          "data": {
            "text/plain": [
              "0     하루가 또 가네요.\n",
              "1      위로해 드립니다.\n",
              "2    여행은 언제나 좋죠.\n",
              "3    여행은 언제나 좋죠.\n",
              "4     눈살이 찌푸려지죠.\n",
              "Name: A, dtype: object"
            ]
          },
          "execution_count": 7,
          "metadata": {},
          "output_type": "execute_result"
        }
      ],
      "source": [
        "answers.head()"
      ]
    },
    {
      "cell_type": "markdown",
      "metadata": {
        "id": "4jN5W2r9LGHf"
      },
      "source": [
        "# 데이터 정제"
      ]
    },
    {
      "cell_type": "code",
      "execution_count": null,
      "metadata": {
        "id": "ye7RzXIQLDJk"
      },
      "outputs": [],
      "source": [
        "def preprocess_sentence(sentence):\n",
        "    \n",
        "    # 모든 입력은 소문자로 변환\n",
        "    sentence = sentence.lower()\n",
        "    \n",
        "    # 영어, 한글, 숫자, 일부 문장부호만를 제외한 나머지 제거\n",
        "    sentence = re.sub(r\"[^a-zA-Zㄱ-ㅎ가-힣ㅏ-ㅣ0-9.,?!]+\", \" \", sentence)\n",
        "\n",
        "    return sentence"
      ]
    },
    {
      "cell_type": "code",
      "execution_count": null,
      "metadata": {
        "id": "CoazSRetsmqY",
        "outputId": "fe538175-8758-48ed-bafb-595a8bdeacb8"
      },
      "outputs": [
        {
          "name": "stderr",
          "output_type": "stream",
          "text": [
            "/tmp/ipykernel_715/3758651064.py:2: SettingWithCopyWarning: \n",
            "A value is trying to be set on a copy of a slice from a DataFrame\n",
            "\n",
            "See the caveats in the documentation: https://pandas.pydata.org/pandas-docs/stable/user_guide/indexing.html#returning-a-view-versus-a-copy\n",
            "  questions[i] = preprocess_sentence(questions[i])\n"
          ]
        },
        {
          "data": {
            "text/plain": [
              "0             12시 땡!\n",
              "1        1지망 학교 떨어졌어\n",
              "2       3박4일 놀러가고 싶다\n",
              "3    3박4일 정도 놀러가고 싶다\n",
              "4            ppl 심하네\n",
              "Name: Q, dtype: object"
            ]
          },
          "execution_count": 9,
          "metadata": {},
          "output_type": "execute_result"
        }
      ],
      "source": [
        "for i in range(len(questions)):\n",
        "    questions[i] = preprocess_sentence(questions[i])\n",
        "    \n",
        "questions.head()"
      ]
    },
    {
      "cell_type": "code",
      "execution_count": null,
      "metadata": {
        "id": "xl3So2JnsmqY",
        "outputId": "81fc0671-451f-44e5-ba82-54030f0d9453"
      },
      "outputs": [
        {
          "name": "stderr",
          "output_type": "stream",
          "text": [
            "/tmp/ipykernel_715/1336527304.py:2: SettingWithCopyWarning: \n",
            "A value is trying to be set on a copy of a slice from a DataFrame\n",
            "\n",
            "See the caveats in the documentation: https://pandas.pydata.org/pandas-docs/stable/user_guide/indexing.html#returning-a-view-versus-a-copy\n",
            "  answers[i] = preprocess_sentence(answers[i])\n"
          ]
        },
        {
          "data": {
            "text/plain": [
              "0     하루가 또 가네요.\n",
              "1      위로해 드립니다.\n",
              "2    여행은 언제나 좋죠.\n",
              "3    여행은 언제나 좋죠.\n",
              "4     눈살이 찌푸려지죠.\n",
              "Name: A, dtype: object"
            ]
          },
          "execution_count": 10,
          "metadata": {},
          "output_type": "execute_result"
        }
      ],
      "source": [
        "for i in range(len(answers)):\n",
        "    answers[i] = preprocess_sentence(answers[i])\n",
        "    \n",
        "answers.head()"
      ]
    },
    {
      "cell_type": "markdown",
      "metadata": {
        "id": "eOehzPHRsmqY"
      },
      "source": [
        "# 데이터 토큰화"
      ]
    },
    {
      "cell_type": "code",
      "execution_count": null,
      "metadata": {
        "id": "zRUhiVnwsmqY"
      },
      "outputs": [],
      "source": [
        "from konlpy.tag import Mecab"
      ]
    },
    {
      "cell_type": "code",
      "execution_count": null,
      "metadata": {
        "id": "jwPjSNjSsmqZ"
      },
      "outputs": [],
      "source": [
        "mecab = Mecab()"
      ]
    },
    {
      "cell_type": "code",
      "execution_count": null,
      "metadata": {
        "id": "dgPMhiGQsmqZ"
      },
      "outputs": [],
      "source": [
        "def build_corpus(que,ans):\n",
        "    \n",
        "    X = []\n",
        "    Y = []\n",
        "    XX = []\n",
        "    YY = []\n",
        "    que_corpus = []\n",
        "    ans_corpus = []\n",
        "    \n",
        "    for i in range(len(que)):\n",
        "        que[i] = mecab.morphs(que[i])\n",
        "        ans[i] = mecab.morphs(ans[i])\n",
        "        \n",
        "        # 문장의 길이가 40 이하인 데이터만 사용\n",
        "        if len(que[i])<=40 and len(ans[i])<=40:\n",
        "            X.append(que[i])\n",
        "            Y.append(ans[i])\n",
        "            \n",
        "    for j in range(len(X)):\n",
        "        if X[j] not in XX:\n",
        "            XX.append(X[j])\n",
        "            YY.append(Y[j])\n",
        "            \n",
        "    for k in range(len(YY)):\n",
        "        if YY[k] not in ans_corpus:\n",
        "            que_corpus.append(XX[k])\n",
        "            ans_corpus.append(YY[k])\n",
        "            \n",
        "    return que_corpus, ans_corpus"
      ]
    },
    {
      "cell_type": "code",
      "execution_count": null,
      "metadata": {
        "id": "LUSzL7JzsmqZ",
        "outputId": "a66c99bf-c71f-45cf-85db-ea6ba373212d"
      },
      "outputs": [
        {
          "name": "stderr",
          "output_type": "stream",
          "text": [
            "/tmp/ipykernel_715/2326992912.py:11: SettingWithCopyWarning: \n",
            "A value is trying to be set on a copy of a slice from a DataFrame\n",
            "\n",
            "See the caveats in the documentation: https://pandas.pydata.org/pandas-docs/stable/user_guide/indexing.html#returning-a-view-versus-a-copy\n",
            "  que[i] = mecab.morphs(que[i])\n",
            "/tmp/ipykernel_715/2326992912.py:12: SettingWithCopyWarning: \n",
            "A value is trying to be set on a copy of a slice from a DataFrame\n",
            "\n",
            "See the caveats in the documentation: https://pandas.pydata.org/pandas-docs/stable/user_guide/indexing.html#returning-a-view-versus-a-copy\n",
            "  ans[i] = mecab.morphs(ans[i])\n"
          ]
        }
      ],
      "source": [
        "que_corpus, ans_corpus = build_corpus(questions, answers)"
      ]
    },
    {
      "cell_type": "code",
      "execution_count": null,
      "metadata": {
        "id": "MzK3ETHPsmqZ",
        "outputId": "4038f9f1-0b5e-4fc3-b8f3-e0a6f63537f9"
      },
      "outputs": [
        {
          "data": {
            "text/plain": [
              "[['12', '시', '땡', '!'],\n",
              " ['1', '지망', '학교', '떨어졌', '어'],\n",
              " ['3', '박', '4', '일', '놀', '러', '가', '고', '싶', '다'],\n",
              " ['ppl', '심하', '네'],\n",
              " ['sd', '카드', '망가졌', '어'],\n",
              " ['sns', '맞', '팔', '왜', '안', '하', '지', 'ㅠㅠ'],\n",
              " ['sns', '시간', '낭비', '인', '거', '아', '는데', '매일', '하', '는', '중'],\n",
              " ['sns', '보', '면', '나', '만', '빼', '고', '다', '행복', '해', '보여'],\n",
              " ['가끔', '궁금', '해'],\n",
              " ['가끔', '은', '혼자', '인', '게', '좋', '다']]"
            ]
          },
          "execution_count": 15,
          "metadata": {},
          "output_type": "execute_result"
        }
      ],
      "source": [
        "que_corpus[:10]"
      ]
    },
    {
      "cell_type": "code",
      "execution_count": null,
      "metadata": {
        "id": "Tw12g2ZCsmqZ",
        "outputId": "54c5c99d-bad9-4731-9467-8536fdbc1479"
      },
      "outputs": [
        {
          "data": {
            "text/plain": [
              "[['하루', '가', '또', '가', '네요', '.'],\n",
              " ['위로', '해', '드립니다', '.'],\n",
              " ['여행', '은', '언제나', '좋', '죠', '.'],\n",
              " ['눈살', '이', '찌푸려', '지', '죠', '.'],\n",
              " ['다시', '새로', '사', '는', '게', '마음', '편해요', '.'],\n",
              " ['잘', '모르', '고', '있', '을', '수', '도', '있', '어요', '.'],\n",
              " ['시간', '을', '정하', '고', '해', '보', '세요', '.'],\n",
              " ['자랑', '하', '는', '자리', '니까요', '.'],\n",
              " ['그', '사람', '도', '그럴', '거', '예요', '.'],\n",
              " ['혼자', '를', '즐기', '세요', '.']]"
            ]
          },
          "execution_count": 16,
          "metadata": {},
          "output_type": "execute_result"
        }
      ],
      "source": [
        "ans_corpus[:10]"
      ]
    },
    {
      "cell_type": "code",
      "execution_count": null,
      "metadata": {
        "id": "QJxdhi61smqZ",
        "outputId": "aab6ed8c-7f4d-4f50-ecfb-a7ece0560968"
      },
      "outputs": [
        {
          "name": "stdout",
          "output_type": "stream",
          "text": [
            "7674 7674\n"
          ]
        }
      ],
      "source": [
        "print(len(que_corpus), len(ans_corpus))"
      ]
    },
    {
      "cell_type": "markdown",
      "metadata": {
        "id": "15pf4qhwsmqZ"
      },
      "source": [
        "# 데이터 증강"
      ]
    },
    {
      "cell_type": "code",
      "execution_count": null,
      "metadata": {
        "id": "UKoeobjusmqa"
      },
      "outputs": [],
      "source": [
        "wv_path = os.getenv('HOME') + '/aiffel/transformer_chatbot/data/ko.bin'"
      ]
    },
    {
      "cell_type": "code",
      "execution_count": null,
      "metadata": {
        "id": "STU0s2UWsmqa",
        "outputId": "cdd4843c-5c8f-4fe2-bed8-2bc2c7b36726"
      },
      "outputs": [
        {
          "name": "stdout",
          "output_type": "stream",
          "text": [
            "Requirement already satisfied: gensim==3.8.3 in /opt/conda/lib/python3.9/site-packages (3.8.3)\n",
            "Requirement already satisfied: six>=1.5.0 in /opt/conda/lib/python3.9/site-packages (from gensim==3.8.3) (1.16.0)\n",
            "Requirement already satisfied: numpy>=1.11.3 in /opt/conda/lib/python3.9/site-packages (from gensim==3.8.3) (1.21.4)\n",
            "Requirement already satisfied: smart-open>=1.8.1 in /opt/conda/lib/python3.9/site-packages (from gensim==3.8.3) (5.2.1)\n",
            "Requirement already satisfied: scipy>=0.18.1 in /opt/conda/lib/python3.9/site-packages (from gensim==3.8.3) (1.7.1)\n",
            "\u001b[33mWARNING: Running pip as the 'root' user can result in broken permissions and conflicting behaviour with the system package manager. It is recommended to use a virtual environment instead: https://pip.pypa.io/warnings/venv\u001b[0m\n"
          ]
        }
      ],
      "source": [
        "!pip install --upgrade gensim==3.8.3\n",
        "\n",
        "# 아래 모델을 로드하기 위해서는 젠심을 다운그레이드 해야한다."
      ]
    },
    {
      "cell_type": "code",
      "execution_count": null,
      "metadata": {
        "id": "YhkQ7Bs1smqa"
      },
      "outputs": [],
      "source": [
        "from gensim.models import Word2Vec"
      ]
    },
    {
      "cell_type": "code",
      "execution_count": null,
      "metadata": {
        "id": "yKsTSmi4smqa"
      },
      "outputs": [],
      "source": [
        "wv = Word2Vec.load(wv_path)"
      ]
    },
    {
      "cell_type": "code",
      "execution_count": null,
      "metadata": {
        "id": "l8oqjqvnsmqa"
      },
      "outputs": [],
      "source": [
        "# Lexical Substitution 구현하기\n",
        "def lexical_sub(sentence, word2vec):\n",
        "    res = \"\"\n",
        "\n",
        "    try:\n",
        "        _from = random.choice(sentence)\n",
        "        _to = word2vec.most_similar(_from)[0][0]\n",
        "        \n",
        "    except:   # 단어장에 없는 단어\n",
        "        return None\n",
        "\n",
        "    for tok in sentence:\n",
        "        if tok is _from: res += _to + \" \"\n",
        "        else: res += tok + \" \"\n",
        "\n",
        "    return res"
      ]
    },
    {
      "cell_type": "code",
      "execution_count": null,
      "metadata": {
        "colab": {
          "referenced_widgets": [
            "73518d8f5612480dbd8a1d8ad88d0f13"
          ]
        },
        "id": "quA_8jKUsmqa",
        "outputId": "f505a5a6-86d4-48e9-81b3-6b9b016e0c24"
      },
      "outputs": [
        {
          "data": {
            "application/vnd.jupyter.widget-view+json": {
              "model_id": "73518d8f5612480dbd8a1d8ad88d0f13",
              "version_major": 2,
              "version_minor": 0
            },
            "text/plain": [
              "  0%|          | 0/7674 [00:00<?, ?it/s]"
            ]
          },
          "metadata": {},
          "output_type": "display_data"
        },
        {
          "name": "stderr",
          "output_type": "stream",
          "text": [
            "/tmp/ipykernel_715/1235578097.py:7: DeprecationWarning: Call to deprecated `most_similar` (Method will be removed in 4.0.0, use self.wv.most_similar() instead).\n",
            "  _to = word2vec.most_similar(_from)[0][0]\n"
          ]
        },
        {
          "name": "stdout",
          "output_type": "stream",
          "text": [
            "[['12', '시', '땡', '!'], ['1', '중퇴', '학교', '떨어졌', '어'], ['3', '박', '4', '일', '놀', '러', '놀', '드', '고', '싶', '다'], ['ppl', '심하', '카나'], ['sd', '카드', '망가졌', '어'], ['sns', '맞', '팔', '왜', '안', '하', '지', '.', '..'], ['sns', '시간', '낭비', '인', '거', '아서', '는데', '매일', '하', '는', '중'], ['sns', '살펴보', '면', '나', '만', '빼', '고', '다', '행복', '해', '보여'], ['이따금', '궁금', '해'], ['가끔', '은', '혼자', '인', '게', '괜찮', '다']]\n"
          ]
        }
      ],
      "source": [
        "new_que = []\n",
        "\n",
        "for old_src in tqdm(que_corpus):\n",
        "    new_src = lexical_sub(old_src, wv)\n",
        "    if new_src is not None: \n",
        "        new_src = mecab.morphs(new_src)\n",
        "        new_que.append(new_src)\n",
        "\n",
        "    if new_src is None:\n",
        "        new_que.append(old_src)\n",
        "        \n",
        "print(new_que[:10])"
      ]
    },
    {
      "cell_type": "code",
      "execution_count": null,
      "metadata": {
        "colab": {
          "referenced_widgets": [
            "6a9f136e1d6c47af9bed13f9b7cbb64b"
          ]
        },
        "id": "BvRMfc9esmqa",
        "outputId": "2608e46b-c2f3-40b3-ecb6-cd652550beb8"
      },
      "outputs": [
        {
          "data": {
            "application/vnd.jupyter.widget-view+json": {
              "model_id": "6a9f136e1d6c47af9bed13f9b7cbb64b",
              "version_major": 2,
              "version_minor": 0
            },
            "text/plain": [
              "  0%|          | 0/7674 [00:00<?, ?it/s]"
            ]
          },
          "metadata": {},
          "output_type": "display_data"
        },
        {
          "name": "stderr",
          "output_type": "stream",
          "text": [
            "/tmp/ipykernel_715/1235578097.py:7: DeprecationWarning: Call to deprecated `most_similar` (Method will be removed in 4.0.0, use self.wv.most_similar() instead).\n",
            "  _to = word2vec.most_similar(_from)[0][0]\n"
          ]
        },
        {
          "name": "stdout",
          "output_type": "stream",
          "text": [
            "[['하루', '가', '또', '가', '군요', '.'], ['위', '로', '해', '의', '드립니다', '.'], ['여행', '은', '언제나', '괜찮', '죠', '.'], ['눈살', '이', '찌푸려', '꼼짝', '죠', '.'], ['다시', '새로이', '사', '는', '게', '마음', '편해요', '.'], ['잘', '모르', '고', '있', '을', '수', '때문', '있', '어요', '.'], ['시간', '을', '정하', '고', '해', '보', 'ㅂ시오', '.'], ['자랑', '하', '는', '자리', 'ㄴ', '데요', '.'], ['그녀', '사람', '도', '그럴', '거', '예요', '.'], ['거기', '를', '즐기', '세요', '.']]\n"
          ]
        }
      ],
      "source": [
        "new_ans = []\n",
        "\n",
        "for old_src in tqdm(ans_corpus):\n",
        "    new_src = lexical_sub(old_src, wv)\n",
        "    if new_src is not None:\n",
        "        new_src = mecab.morphs(new_src)\n",
        "        new_ans.append(new_src)\n",
        "    \n",
        "    if new_src is None:\n",
        "        new_ans.append(old_src)\n",
        "        \n",
        "print(new_ans[:10])"
      ]
    },
    {
      "cell_type": "code",
      "execution_count": null,
      "metadata": {
        "id": "rLbpS-2_smqa",
        "outputId": "aac813f4-b8f1-45b4-9fbe-a92e842dd2ca"
      },
      "outputs": [
        {
          "name": "stdout",
          "output_type": "stream",
          "text": [
            "7674 7674\n"
          ]
        }
      ],
      "source": [
        "print(len(new_que), len(new_ans))"
      ]
    },
    {
      "cell_type": "code",
      "execution_count": null,
      "metadata": {
        "id": "D8GdkJiHsmqa",
        "outputId": "7d85f52b-4792-4043-a03e-fbc8382f491d"
      },
      "outputs": [
        {
          "data": {
            "text/plain": [
              "23022"
            ]
          },
          "execution_count": 26,
          "metadata": {},
          "output_type": "execute_result"
        }
      ],
      "source": [
        "aug_que = []\n",
        "aug_que = que_corpus + new_que + que_corpus\n",
        "len(aug_que)"
      ]
    },
    {
      "cell_type": "code",
      "execution_count": null,
      "metadata": {
        "id": "I9cUgilEsmqa",
        "outputId": "7a2a4dfb-a49f-4ce3-ed2c-93fa30c32404"
      },
      "outputs": [
        {
          "data": {
            "text/plain": [
              "23022"
            ]
          },
          "execution_count": 27,
          "metadata": {},
          "output_type": "execute_result"
        }
      ],
      "source": [
        "aug_ans = []\n",
        "aug_ans = ans_corpus + ans_corpus + new_ans\n",
        "len(aug_ans)"
      ]
    },
    {
      "cell_type": "markdown",
      "metadata": {
        "id": "PY6CEYXDsmqa"
      },
      "source": [
        "# 데이터 벡터화"
      ]
    },
    {
      "cell_type": "code",
      "execution_count": null,
      "metadata": {
        "id": "AASl7GYVsmqb"
      },
      "outputs": [],
      "source": [
        "# 시작 및 종료 토큰 추가\n",
        "for i in range(len(aug_que)):\n",
        "    aug_que[i] = [\"<start>\"] + aug_que[i] + [\"<end>\"]\n",
        "    aug_ans[i] = [\"<start>\"] + aug_ans[i] + [\"<end>\"]"
      ]
    },
    {
      "cell_type": "code",
      "execution_count": null,
      "metadata": {
        "id": "-nRclmEusmqb",
        "outputId": "493e51b4-7ff6-4a70-9dad-accf2379e0c0"
      },
      "outputs": [
        {
          "name": "stdout",
          "output_type": "stream",
          "text": [
            "[['<start>', '12', '시', '땡', '!', '<end>'], ['<start>', '1', '지망', '학교', '떨어졌', '어', '<end>'], ['<start>', '3', '박', '4', '일', '놀', '러', '가', '고', '싶', '다', '<end>'], ['<start>', 'ppl', '심하', '네', '<end>'], ['<start>', 'sd', '카드', '망가졌', '어', '<end>']]\n",
            "[['<start>', '하루', '가', '또', '가', '네요', '.', '<end>'], ['<start>', '위로', '해', '드립니다', '.', '<end>'], ['<start>', '여행', '은', '언제나', '좋', '죠', '.', '<end>'], ['<start>', '눈살', '이', '찌푸려', '지', '죠', '.', '<end>'], ['<start>', '다시', '새로', '사', '는', '게', '마음', '편해요', '.', '<end>']]\n"
          ]
        }
      ],
      "source": [
        "print(aug_que[:5])\n",
        "print(aug_ans[:5])"
      ]
    },
    {
      "cell_type": "code",
      "execution_count": null,
      "metadata": {
        "id": "R_QRdq_esmqb"
      },
      "outputs": [],
      "source": [
        "from tensorflow.keras.preprocessing.text import Tokenizer"
      ]
    },
    {
      "cell_type": "code",
      "execution_count": null,
      "metadata": {
        "id": "tpK7s_ivsmqb"
      },
      "outputs": [],
      "source": [
        "VOCAB_SIZE = 8000\n",
        "tokenizer = Tokenizer(num_words = VOCAB_SIZE, oov_token = 'OOV')\n",
        "tokenizer.fit_on_texts(aug_que + aug_ans)"
      ]
    },
    {
      "cell_type": "code",
      "execution_count": null,
      "metadata": {
        "id": "4MXMQqf-smqb",
        "outputId": "2316dba2-56e6-480f-9334-4c422a0c1737"
      },
      "outputs": [
        {
          "name": "stdout",
          "output_type": "stream",
          "text": [
            "{'OOV': 1, '<start>': 2, '<end>': 3, '.': 4, '이': 5, '는': 6, '하': 7, '을': 8, '가': 9, '좋': 10, '고': 11, '세요': 12, '어': 13, '거': 14, '있': 15, '해': 16, '은': 17, '지': 18, '보': 19, '나': 20, '?': 21, '아': 22, '도': 23, '게': 24, '에': 25, '는데': 26, '겠': 27, '사람': 28, '예요': 29, '사랑': 30, '를': 31, '어요': 32, '의': 33, '같': 34, '한': 35, '죠': 36, '없': 37, '것': 38, '다': 39, '수': 40, '면': 41, '네': 42, '싶': 43, '네요': 44, '안': 45, '친구': 46, '봐요': 47, '생각': 48, '않': 49, '아요': 50, '말': 51, '마음': 52, '할': 53, '주': 54, '되': 55, '기': 56, '너무': 57, '했': 58, '잘': 59, '었': 60, '내': 61, '이별': 62, '남자': 63, '만': 64, '더': 65, '연락': 66, '일': 67, '여자': 68, '들': 69, '힘들': 70, '남': 71, '해요': 72, '썸': 73, '시간': 74, '많이': 75, '짝': 76, '으로': 77, '길': 78, '요': 79, '한테': 80, '건': 81, '으면': 82, '때': 83, '았': 84, '인': 85, '에서': 86, '적': 87, '에요': 88, '로': 89, '괜찮': 90, '좀': 91, '야': 92, '그': 93, '알': 94, '만나': 95, '받': 96, '많': 97, '연애': 98, '을까': 99, '에게': 100, '저': 101, '애': 102, '못': 103, '습니다': 104, '던': 105, '뭐': 106, '먹': 107, '이제': 108, '오늘': 109, '아니': 110, '!': 111, '그러': 112, '마세요': 113, '해도': 114, '자신': 115, '년': 116, '할까': 117, '타': 118, '모르': 119, '걸': 120, '은데': 121, '끝': 122, '잊': 123, '필요': 124, '데': 125, '지만': 126, '당신': 127, '전': 128, '다시': 129, '과': 130, '라고': 131, '해야': 132, '랑': 133, '다른': 134, '놀': 135, '어떻게': 136, '달': 137, '정리': 138, '살': 139, '정말': 140, '또': 141, '왜': 142, '라': 143, '인데': 144, '드': 145, '결혼': 146, '어서': 147, '시키': 148, '서': 149, '방법': 150, '중': 151, '날': 152, '짝사랑': 153, '오': 154, '될': 155, '제': 156, '이랑': 157, '같이': 158, '니': 159, '돼': 160, '행복': 161, '지요': 162, '헤어지': 163, '참': 164, '고백': 165, '그녀': 166, '봐': 167, '왔': 168, '아직': 169, '가능': 170, '인가': 171, '지금': 172, '봅니다': 173, '보다': 174, '와': 175, '사귀': 176, '면서': 177, '돼요': 178, '싫': 179, '중요': 180, '후회': 181, '는지': 182, '좋아하': 183, '시작': 184, '녀': 185, '서로': 186, '그런': 187, '다면': 188, '아서': 189, '조금': 190, '꿈': 191, '먼저': 192, '고민': 193, '준비': 194, '사': 195, '다고': 196, '힘든': 197, '때문': 198, '혼자': 199, '줄': 200, '합니다': 201, '바랄게요': 202, '물': 203, '감정': 204, '선물': 205, '맞': 206, '계속': 207, '힘드': 208, '술': 209, '자': 210, '하나': 211, '시': 212, '만큼': 213, '될까': 214, '번': 215, '까지': 216, '이야기': 217, '두': 218, '여친': 219, '해서': 220, '그럴': 221, '기분': 222, '든': 223, '..': 224, '후': 225, '헤어진지': 226, '기억': 227, '자꾸': 228, '듯': 229, '진짜': 230, '군요': 231, ',': 232, '너': 233, '나요': 234, '됐': 235, '걸까': 236, '째': 237, '살펴보': 238, '집': 239, '카톡': 240, 'ㄴ다는': 241, '믿': 242, '표현': 243, '쓰': 244, '데이트': 245, '어떨까': 246, '라도': 247, '쉽': 248, '인지': 249, '다가': 250, '바랍니다': 251, '자고': 252, '남친': 253, '다는': 254, '어도': 255, '신경': 256, '관심': 257, '긴': 258, '맘': 259, '상처': 260, '볼까': 261, '입니다': 262, '만들': 263, '어떤': 264, '함께': 265, 'ㅂ시오': 266, '니까요': 267, '언제': 268, '눈': 269, '미련': 270, '걱정': 271, '대화': 272, '보내': 273, '그냥': 274, '쉬': 275, '무슨': 276, '썸남': 277, '몰라요': 278, '러': 279, '꼼짝': 280, '하루': 281, '이상': 282, '이해': 283, '별': 284, '돈': 285, '씩': 286, '헤어졌': 287, '함': 288, '3': 289, '새로운': 290, '2': 291, '셨': 292, '1': 293, '였': 294, '누구': 295, '줘': 296, '여행': 297, '된': 298, '곳': 299, '못하': 300, '아프': 301, '음': 302, '이유': 303, '속': 304, '이렇게': 305, '오래': 306, '그렇게': 307, '어디': 308, '어떡': 309, '라는': 310, '부담': 311, '으며': 312, '결정': 313, '앞': 314, '기다리': 315, '헤어진': 316, '만날': 317, '도록': 318, '니까': 319, '개월': 320, '내일': 321, '잡': 322, '마지막': 323, '궁금': 324, '선택': 325, '생각나': 326, '사이': 327, '공부': 328, '첫': 329, '님': 330, '라면': 331, '결국': 332, '려고': 333, '머리': 334, '바라': 335, 'ㄴ': 336, '따라': 337, '이젠': 338, '추억': 339, '처럼': 340, '을까요': 341, '비': 342, '항상': 343, '텐데': 344, '생겼': 345, '대': 346, '올': 347, '노력': 348, '입': 349, '잠': 350, '슬픔': 351, '늦': 352, '부터': 353, '연인': 354, '거나': 355, '나가': 356, '죽': 357, '건가': 358, '도움': 359, '운동': 360, '분': 361, '노래': 362, '덜': 363, '꼭': 364, '차': 365, '우리': 366, '직접': 367, '반': 368, '느낌': 369, '나이': 370, '뿐': 371, '기에': 372, '문제': 373, '질': 374, '만났': 375, '일까': 376, '순간': 377, '아침': 378, '어제': 379, '정도': 380, '자주': 381, '상대': 382, '상황': 383, '인연': 384, '스럽': 385, '드세요': 386, '가지': 387, '똑같': 388, '모든': 389, '으세요': 390, '용기': 391, '전화': 392, '으니까요': 393, '이런': 394, '답답': 395, '보이': 396, '한가': 397, '헤어짐': 398, '그게': 399, '변화': 400, '인생': 401, '관계': 402, '처음': 403, '충분히': 404, '감': 405, '만남': 406, '의미': 407, '성': 408, '기대': 409, '큰': 410, '대로': 411, '놓': 412, '힘': 413, '어야': 414, '재회': 415, '나쁜': 416, '봤': 417, '다르': 418, '확인': 419, '갑자기': 420, '볼': 421, '진': 422, '5': 423, '진심': 424, '세': 425, '영화': 426, '잘못': 427, '자기': 428, '현실': 429, '가슴': 430, '아닌': 431, '주말': 432, '아도': 433, '세상': 434, '다가가': 435, '매일': 436, '그만': 437, '그렇': 438, '아픔': 439, '상대방': 440, '모두': 441, '어렵': 442, '건지': 443, '넘': 444, '확실': 445, '이나': 446, '남편': 447, '제일': 448, '둘': 449, '짧': 450, '부모': 451, '는데요': 452, '까': 453, '붙잡': 454, '밥': 455, '마시': 456, '울': 457, '찾아보': 458, '그래도': 459, '답': 460, '듣': 461, '후폭풍': 462, '없이': 463, '난': 464, '글': 465, '편': 466, '찾': 467, '줬': 468, '갖': 469, '별로': 470, '지내': 471, '졌': 472, '사진': 473, '다음': 474, '얼른': 475, '몸': 476, '아무': 477, '천천히': 478, '가장': 479, '몇': 480, '스스로': 481, '귀찮': 482, '티': 483, '솔직': 484, '대한': 485, '실수': 486, '마다': 487, '받아들이': 488, '건강': 489, '란': 490, '추천': 491, '을지': 492, '났': 493, '모습': 494, '톡': 495, '그분': 496, '4': 497, '빨리': 498, '챙겨': 499, '선': 500, '언젠간': 501, '행동': 502, '눈물': 503, '맛있': 504, '요즘': 505, '다니': 506, '화': 507, '얼굴': 508, '차단': 509, '갈': 510, '갔': 511, '습관': 512, '복잡': 513, '아픈': 514, '호감': 515, '6': 516, '헤어': 517, '잊혀': 518, '익숙': 519, '힘내': 520, '젊은이': 521, '웃': 522, '밤': 523, '버리': 524, '판단': 525, '만난': 526, '극복': 527, '한두': 528, '형': 529, '나와': 530, '딱': 531, '바쁘': 532, '드릴게요': 533, '가끔': 534, '약': 535, '운명': 536, '법': 537, '차이': 538, '확신': 539, '보여': 540, '뭘': 541, '설레': 542, '포기': 543, '할지': 544, '소개팅': 545, '쯤': 546, '은데요': 547, '회사': 548, '축하': 549, '원': 550, '날씨': 551, '뭘까': 552, '기다려': 553, '새': 554, '정신': 555, '쉬운': 556, '편지': 557, '별후': 558, '변하': 559, '자연': 560, '열심히': 561, '도와': 562, '작': 563, 'sns': 564, '준': 565, '편하': 566, 'ㄴ다면': 567, '냐': 568, '벌써': 569, '스트레스': 570, '아파': 571, '낫': 572, '인정': 573, '얘기': 574, '워낙': 575, '무시': 576, '어때': 577, '척': 578, '한다고': 579, '간': 580, '한다는': 581, '엄청': 582, '나오': 583, '여': 584, 'ㅠ': 585, '무엇': 586, '충분': 587, '게임': 588, '예의': 589, '성공': 590, '말씀': 591, '깊': 592, '카나': 593, '마요': 594, '생활': 595, '아닌데': 596, '스러운': 597, '짜증': 598, '보통': 599, '후련': 600, '크': 601, '동거': 602, '위해': 603, '스러워': 604, '과정': 605, '삶': 606, '괴로움': 607, '학교': 608, '임': 609, '마주치': 610, '며': 611, '부분': 612, '알아보': 613, '탈': 614, '카': 615, '상관': 616, '생일': 617, '약속': 618, '집착': 619, '주변': 620, '점점': 621, '예쁘': 622, '줄까': 623, '어려워': 624, '바람': 625, '기간': 626, '지났': 627, '그리고': 628, '통보': 629, '우울': 630, '슬픈': 631, '주일': 632, '해질': 633, '연습': 634, '동안': 635, '아야': 636, '성격': 637, '거짓말': 638, '관리': 639, '지나': 640, '바': 641, '문자': 642, '카페': 643, '얼마': 644, '미안': 645, '여기': 646, '진정': 647, '가족': 648, '풀': 649, '봄': 650, '맨날': 651, '구': 652, '가져': 653, '커피': 654, '경우': 655, '읽': 656, '때때': 657, '귀': 658, '한데': 659, '대해': 660, '으니': 661, '소중': 662, '잠시': 663, '접': 664, '언제나': 665, '욕': 666, '따뜻': 667, '떠나': 668, '잔': 669, '밖': 670, '마련': 671, '잠깐': 672, '한다면': 673, '시켜': 674, '해야지': 675, '씹': 676, '뭔지': 677, '번호': 678, '소리': 679, '끊': 680, '한지': 681, '조심': 682, '옷': 683, '여러': 684, '부족': 685, '점': 686, '장': 687, '그리워': 688, '려': 689, '흐르': 690, '는다면': 691, '응원': 692, '그럼': 693, '재밌': 694, '엔': 695, '더니': 696, '일어나': 697, '피곤': 698, '아무래도': 699, '두려워': 700, '숨': 701, '달라지': 702, '버렸': 703, '까먹': 704, '이루': 705, '위': 706, '종교': 707, '느껴': 708, '존중': 709, '핸드폰': 710, '깨': 711, '어쩔': 712, '그런가': 713, '어느': 714, '알려': 715, '적극': 716, '다를': 717, '잊어버리': 718, 'ㅠㅠ': 719, '불': 720, '미치': 721, '헷갈리': 722, '짐': 723, '못한': 724, '곧': 725, '사친': 726, '본인': 727, '금방': 728, '자체': 729, '더라고요': 730, '최고': 731, '아무것': 732, '여유': 733, '돌아오': 734, '삭제': 735, '사실': 736, '착각': 737, '생기': 738, '협조': 739, '사세요': 740, '멀': 741, '능력': 742, '뒤': 743, '뭔가': 744, '원래': 745, '질투': 746, '옆': 747, '환승': 748, '이성': 749, '보냈': 750, '테': 751, '맞춰': 752, '아닌지': 753, '그래요': 754, '나눠': 755, '아닐까요': 756, '취미': 757, '본': 758, '분위기': 759, '답장': 760, '조언': 761, '문득': 762, '매력': 763, '겠지': 764, '재미': 765, '어떻': 766, '자존': 767, '바로': 768, '자는': 769, '배려': 770, '어쩌': 771, '예민': 772, '오빠': 773, '손': 774, '찍': 775, '돌아가': 776, '드리': 777, '허전': 778, '흘렀': 779, '7': 780, '전해': 781, '프': 782, '바보': 783, '어느덧': 784, '서운': 785, '걸로': 786, '생길': 787, '거기': 788, '즐거운': 789, '다행': 790, '도전': 791, '완전': 792, '나중': 793, '인사': 794, '새벽': 795, '안녕': 796, '엄마': 797, '인기': 798, '반복': 799, '위로': 800, '시기': 801, '해의': 802, '마': 803, '스타일': 804, '일찍': 805, '어색': 806, '단': 807, '상담': 808, '미리': 809, '거절': 810, '간다': 811, '수록': 812, '괜히': 813, '기본': 814, '예쁜': 815, '상': 816, '칭찬': 817, '써': 818, '해졌': 819, '려면': 820, '타이밍': 821, '10': 822, '소식': 823, '위한': 824, '원망': 825, '흔들리': 826, '답니다': 827, '어려운': 828, '됩니다': 829, '절대': 830, '느끼': 831, '가요': 832, '인가요': 833, '그건': 834, '할게요': 835, '주무세요': 836, '좋아해': 837, '드디어': 838, '한잔': 839, '식': 840, '이기': 841, '그대로': 842, '시원': 843, '구불구불': 844, '놈': 845, '짓': 846, '소개': 847, '해결': 848, '자유': 849, '최선': 850, '지우': 851, '과연': 852, '정말로': 853, '장거리': 854, '부유층': 855, '나왔': 856, '갈까': 857, '당황': 858, '폰': 859, '시험': 860, '그래': 861, '전환': 862, '기회': 863, '배우': 864, '줘야': 865, '몰랐': 866, '떨려': 867, '비밀': 868, '아무리': 869, '알바': 870, '찾아가': 871, '자리': 872, '멋진': 873, '월': 874, '사귄': 875, '8': 876, '땐': 877, '쓰이': 878, '될까요': 879, '대요': 880, '못가': 881, '자책': 882, '야지': 883, '책': 884, '심해': 885, '사과': 886, '집중': 887, '올려': 888, '결심': 889, '휴': 890, '오해': 891, '좋아할': 892, '치': 893, '커플': 894, '제대로': 895, '비싸': 896, '실': 897, '하늘': 898, '부탁': 899, '가사': 900, '더라도': 901, '존재': 902, '고생': 903, '무서워': 904, '어야지': 905, '이러': 906, '지쳤': 907, '담배': 908, '싸우': 909, '끝내': 910, '위험': 911, '냐고': 912, '일상': 913, '찾아오': 914, '떠난': 915, '악몽': 916, '는다는': 917, '할수록': 918, '썸녀': 919, '때론': 920, '그때': 921, '우선': 922, '려나': 923, '쌍': 924, '화장': 925, '의지': 926, '노': 927, '밀': 928, '불안': 929, '뜻': 930, '피하': 931, '언젠가': 932, '꾸준히': 933, '생': 934, '직장': 935, '플': 936, '잠수': 937, '경험': 938, '고통': 939, '누군가': 940, '로서': 941, '오랫동안': 942, '눈치': 943, '발전': 944, '키우': 945, '피': 946, '한다': 947, '바뀌': 948, '래': 949, '무': 950, '실망': 951, '크리스마스': 952, '견디': 953, '높': 954, '캐치': 955, '놓아주': 956, '쇼핑': 957, '걔': 958, '신': 959, '기다릴': 960, '꽃': 961, '꿨': 962, '힘든가': 963, '중간': 964, '누가': 965, '말투': 966, '미친': 967, '피해': 968, '꺼': 969, '기운': 970, '우산': 971, '명': 972, '권태기': 973, '가치관': 974, '제발': 975, '끝난': 976, '영원': 977, '일지': 978, '그것': 979, '무덤덤': 980, '됨': 981, '일까요': 982, '즐기': 983, '할까요': 984, '의식': 985, '의사': 986, '바랄': 987, '슬프': 988, '내리': 989, '군대': 990, '고치': 991, '도서관': 992, '거리': 993, '비슷': 994, '으려고': 995, '이번': 996, '귀엽': 997, '이혼': 998, '상태': 999, '이거': 1000, '어찌': 1001, '정상': 1002, '음식': 1003, '은가': 1004, '분간': 1005, '현재': 1006, '헤아리': 1007, '얼마나': 1008, '방학': 1009, '기념일': 1010, '질까': 1011, '벌': 1012, '선생': 1013, '마무리': 1014, '완벽': 1015, '의심': 1016, '지나가': 1017, '완전히': 1018, '실감': 1019, '지켜보': 1020, '이루어지': 1021, '게요': 1022, '떨리': 1023, '막': 1024, '개': 1025, '져': 1026, '그랬': 1027, '줘도': 1028, '순': 1029, '인간': 1030, '심': 1031, '당당': 1032, '들어가': 1033, '장난': 1034, '예뻐': 1035, '연예인': 1036, '학원': 1037, '희망': 1038, '청소': 1039, '줘서': 1040, '여전히': 1041, '절': 1042, '믿음': 1043, '상상': 1044, '불행': 1045, '살아가': 1046, '어떠': 1047, '오랜만': 1048, '변덕': 1049, '설렘': 1050, '페북': 1051, '공감': 1052, '친해': 1053, '녀랑': 1054, '된다고': 1055, '수많': 1056, '긍정': 1057, '아닐': 1058, '감기': 1059, '걷': 1060, '쓰레기': 1061, '편할': 1062, '커': 1063, '복': 1064, '충전': 1065, '흔적': 1066, '곁': 1067, '내려놓': 1068, '미래': 1069, '못했': 1070, '당연': 1071, '넘겨': 1072, '으로서': 1073, '으시': 1074, '곤': 1075, '끄': 1076, '월급': 1077, '동생': 1078, '리': 1079, '결과': 1080, '으면서': 1081, '적당히': 1082, '그대': 1083, '그리움': 1084, '차라리': 1085, '음악': 1086, '전부': 1087, '등': 1088, '월과': 1089, '각기': 1090, '지도': 1091, '담': 1092, '해야죠': 1093, '관심사': 1094, '떨어졌': 1095, '팔': 1096, '개인': 1097, '알려줘': 1098, '지쳐': 1099, '다양': 1100, '동물': 1101, '제자리': 1102, '배': 1103, '귀여워': 1104, '무서운': 1105, '될지': 1106, '당했': 1107, '지켜': 1108, '조': 1109, '아예': 1110, '이사': 1111, '파혼': 1112, '조급': 1113, '비교': 1114, '재': 1115, '바쁜': 1116, '아름다운': 1117, '지워': 1118, '달째': 1119, '전하': 1120, '헤어져야': 1121, '친한': 1122, '져요': 1123, '취향': 1124, '사귈': 1125, '성행위': 1126, '신가': 1127, '드려요': 1128, '편한': 1129, '정확': 1130, '사소': 1131, '한동안': 1132, '차분히': 1133, '차분': 1134, '라니': 1135, '과거': 1136, '그동안': 1137, '차리': 1138, '취직': 1139, '자격': 1140, '넌': 1141, '놀이': 1142, '느라': 1143, '싸움': 1144, '발': 1145, '신혼': 1146, '인상': 1147, '괴롭': 1148, '저녁': 1149, '듯이': 1150, '공허': 1151, '심리': 1152, '그래서': 1153, '려는': 1154, '죄': 1155, '나쁘': 1156, '정': 1157, '아무렇': 1158, '따로': 1159, '마주': 1160, '감사': 1161, '방식': 1162, '각자': 1163, '계획': 1164, '로맨틱': 1165, '성장': 1166, '살짝': 1167, '더라': 1168, '불편': 1169, '역시': 1170, '다이어트': 1171, '졸업': 1172, '바꾸': 1173, '신청': 1174, '병원': 1175, '온': 1176, '웨딩': 1177, '라서': 1178, '직전': 1179, '억지로': 1180, '이용': 1181, '표정': 1182, '곧바로': 1183, '오자키': 1184, '심하': 1185, '해져': 1186, '멋있': 1187, '얼': 1188, '샀': 1189, '탔': 1190, '만든': 1191, '냄새': 1192, '종일': 1193, '불러': 1194, '외로워': 1195, '적응': 1196, '데려다': 1197, '싸': 1198, '드라마': 1199, '네여': 1200, '버스': 1201, '별거': 1202, '출발': 1203, '인형': 1204, '없애': 1205, '씻': 1206, '바뀔': 1207, '이게': 1208, '때로': 1209, '언니': 1210, '고쳐': 1211, '이름': 1212, '취업': 1213, '점심': 1214, '키': 1215, '장소': 1216, '무색': 1217, '갑니다': 1218, '지난': 1219, '이제야': 1220, '떠오르': 1221, '거울': 1222, '무뎌': 1223, '반대': 1224, '기준': 1225, '찾아올': 1226, '푹': 1227, '외롭': 1228, '부여': 1229, '단계': 1230, '계산': 1231, '당': 1232, '표시': 1233, '청첩장': 1234, '사정': 1235, '어울리': 1236, '콩깍지': 1237, '내보': 1238, '벗어나': 1239, '부러워요': 1240, '예뻐요': 1241, '깔끔': 1242, '견뎌': 1243, '그만큼': 1244, '당장': 1245, '나아졌': 1246, '빼': 1247, '목소리': 1248, '빠르': 1249, '애매': 1250, '끝나': 1251, '외모': 1252, '발표': 1253, '늘': 1254, '변명': 1255, '그립': 1256, '연속': 1257, '편안': 1258, '끈': 1259, '한번': 1260, '솔로': 1261, '확실히': 1262, '태도': 1263, '증거': 1264, '평소': 1265, '걸리': 1266, '이건': 1267, '대학': 1268, '방': 1269, '선배': 1270, '유지': 1271, '빌': 1272, '외로움': 1273, '꾸': 1274, '아물': 1275, '증오': 1276, '성향': 1277, '안타깝': 1278, '살까': 1279, '졸려': 1280, '결혼식': 1281, '울적': 1282, '기술': 1283, '연락처': 1284, '꿀': 1285, '이래': 1286, '야근': 1287, '걸음': 1288, '노래방': 1289, '부러워': 1290, '달달': 1291, '갚': 1292, '빌려': 1293, '걸릴': 1294, '맛': 1295, '마스크': 1296, '싱숭생숭': 1297, '막말': 1298, '싸워': 1299, '멍': 1300, '미세먼지': 1301, '일어났': 1302, '베': 1303, '차별': 1304, '감성': 1305, '재미있': 1306, '길래': 1307, '부럽': 1308, '신나': 1309, '안경': 1310, '피부': 1311, '썼': 1312, '열': 1313, '아플': 1314, '봐야': 1315, '코': 1316, '지나갔': 1317, '떠났': 1318, '내려': 1319, '깨끗': 1320, '조건': 1321, '봐도': 1322, '아닐까': 1323, '채워': 1324, '건데': 1325, '깨달': 1326, '쓸': 1327, '무섭': 1328, '반년': 1329, '마셨': 1330, '산책': 1331, '받아들여야': 1332, '잊혀질': 1333, '외로운': 1334, '이겨': 1335, '헤어질': 1336, '가을': 1337, '순수': 1338, '원하': 1339, '충격': 1340, '빠지': 1341, '무리': 1342, '놓치': 1343, '겨': 1344, '달라진': 1345, '정의': 1346, '돌려': 1347, '걸까요': 1348, '센스': 1349, '불쌍히': 1350, '멈추': 1351, '물리': 1352, '대단': 1353, '어때요': 1354, '지칠': 1355, '텐데요': 1356, '야죠': 1357, '맘고생': 1358, '보단': 1359, '한가요': 1360, '제게': 1361, '걸요': 1362, '우세요': 1363, '생각날': 1364, '심경': 1365, '랍니다': 1366, '과식': 1367, '긴장': 1368, '휴가': 1369, '상사': 1370, '달콤': 1371, '떨어지': 1372, '향': 1373, '는다고': 1374, '스킨': 1375, '아쉽': 1376, '아빠': 1377, '매': 1378, '뽑': 1379, '자신감': 1380, '조절': 1381, '거의': 1382, '아파하': 1383, '냉정': 1384, '해지지': 1385, '비참': 1386, '유효': 1387, '께': 1388, '십': 1389, '여러분': 1390, '통화': 1391, '못할': 1392, '만드': 1393, '지속': 1394, '든지': 1395, '애정': 1396, '그저': 1397, '몰래': 1398, '상관없': 1399, '최악': 1400, '머릿속': 1401, '목': 1402, '명절': 1403, '벚꽃': 1404, '붙': 1405, '소문': 1406, '스타': 1407, '시계': 1408, '꾸미': 1409, '출근': 1410, '애인': 1411, '대하': 1412, '이란': 1413, '오랜': 1414, '지네': 1415, '삼': 1416, '이미': 1417, '디': 1418, '간절': 1419, '이상형': 1420, '맞추': 1421, '분명': 1422, '가리': 1423, '추진': 1424, '휴식': 1425, '강렬': 1426, '닮': 1427, '고파': 1428, '망했': 1429, '과일': 1430, '기다렸': 1431, '교양': 1432, '은근': 1433, '겠다': 1434, '지냈': 1435, '돼서': 1436, '뻔': 1437, '애교': 1438, '집안일': 1439, '들어와': 1440, '만족': 1441, '철': 1442, '들어왔': 1443, '나올': 1444, '수다': 1445, '떨': 1446, '부': 1447, '나온': 1448, '더워': 1449, '고맙': 1450, '밖에': 1451, '돌': 1452, '가야지': 1453, '졌으면': 1454, '마셔야': 1455, '그럴까': 1456, '바꿔': 1457, '향수': 1458, '보낼': 1459, '배워': 1460, '쐬': 1461, '버려야': 1462, '빼빼': 1463, '지치': 1464, '기다려야': 1465, '잤': 1466, '투자': 1467, '놔': 1468, '올까': 1469, '나을': 1470, '넣': 1471, '치과': 1472, '클럽': 1473, '지울': 1474, '9': 1475, '30': 1476, '마침표': 1477, '트라우마': 1478, '드려': 1479, '감당': 1480, '려구': 1481, '앉': 1482, '니다': 1483, '즐겁': 1484, '켠': 1485, '혹시': 1486, 'ㅜㅜ': 1487, '받아들여': 1488, '못해': 1489, '슬퍼': 1490, '버려': 1491, '찌질': 1492, '덤덤': 1493, 'ㅎㅎ': 1494, '에휴': 1495, '마음대로': 1496, '혼란': 1497, '차였': 1498, '멀리': 1499, '해봐도': 1500, '돌리': 1501, '봐서': 1502, '가득': 1503, '변해': 1504, '그리운': 1505, '생긴': 1506, '우린': 1507, '이럴': 1508, '자괴감': 1509, '떨어져': 1510, '친': 1511, '앞두': 1512, '하루하루': 1513, '핑계': 1514, '드립니다': 1515, '계기': 1516, '떠보': 1517, '철벽': 1518, '어린': 1519, '친절': 1520, '프로': 1521, '에선': 1522, '줘요': 1523, '보여요': 1524, '소모': 1525, '가벼운': 1526, '나의': 1527, '굳이': 1528, '허가': 1529, '차례': 1530, '특별': 1531, '잖아요': 1532, '다녀오': 1533, '헛헛': 1534, '웬수': 1535, '이겨낼': 1536, '은연': 1537, '나누': 1538, '기울여': 1539, '셔요': 1540, '겨울': 1541, '학생': 1542, '공무원': 1543, '교회': 1544, '따': 1545, '김': 1546, '털': 1547, '단순': 1548, '다리': 1549, '도대체': 1550, '버티': 1551, '롱': 1552, '멋지': 1553, '이불': 1554, '학기': 1555, '미': 1556, '시어머니': 1557, '미워하': 1558, '구멍': 1559, '막히': 1560, '우연히': 1561, '그만두': 1562, '집들이': 1563, '초대': 1564, '기복': 1565, '심장': 1566, '겨우': 1567, '괴로워': 1568, '축복': 1569, '며칠': 1570, '진실': 1571, '분노': 1572, '치유': 1573, '유학': 1574, '성숙': 1575, '근처': 1576, '후유증': 1577, '최근': 1578, '반응': 1579, '통해': 1580, '포즈': 1581, '모': 1582, '사내': 1583, '몰르': 1584, '순위': 1585, '줄게요': 1586, '단단히': 1587, '가늠': 1588, '소심': 1589, '중독': 1590, '춥': 1591, '소원': 1592, '은지': 1593, '심심': 1594, '샤워': 1595, '아주': 1596, '야경': 1597, '넓': 1598, '산': 1599, '간단': 1600, '탈퇴': 1601, '매번': 1602, '용서': 1603, '전혀': 1604, '꺼내': 1605, '꽤': 1606, '주기': 1607, '이틀': 1608, '관련': 1609, '자존심': 1610, '일정': 1611, '공개': 1612, '진지': 1613, '구분': 1614, '장점': 1615, '야가': 1616, '살아오': 1617, '예상': 1618, '사우스': 1619, '캐롤라이': 1620, '내고': 1621, '바닷물': 1622, '겨드랑': 1623, '약간': 1624, 'ㄴ다': 1625, '현상': 1626, '카드': 1627, '낭비': 1628, '감미': 1629, '개강': 1630, '업무': 1631, '느려': 1632, '했으면': 1633, '태어나': 1634, '무너졌': 1635, '꽃다발': 1636, '허무': 1637, '당한': 1638, '생겨': 1639, '인정받': 1640, '축구': 1641, '애기': 1642, '행운': 1643, '추워': 1644, '화내': 1645, '바빠': 1646, '배우자': 1647, '부르': 1648, '시선': 1649, '쓰여': 1650, '어려울': 1651, '대리': 1652, '대체': 1653, '대출': 1654, '버': 1655, '코스': 1656, '꾼': 1657, '맛집': 1658, '깎': 1659, '면접': 1660, '모른': 1661, '목표': 1662, '기원': 1663, '물건': 1664, '바다': 1665, '발렌타인데이': 1666, '15': 1667, '불면증': 1668, '양말': 1669, '얻': 1670, '새해': 1671, '어떨': 1672, '마셔': 1673, '취해': 1674, '끊겼': 1675, '신뢰': 1676, '몰라': 1677, '전공': 1678, '따라가': 1679, '앞머리': 1680, '나라': 1681, '평가': 1682, '우연': 1683, '딴': 1684, '퇴근': 1685, '고르': 1686, '라네': 1687, '일단': 1688, '오히려': 1689, '맛난': 1690, '생겼으면': 1691, '하우스': 1692, '혼': 1693, '화장실': 1694, '널': 1695, '세월': 1696, '갈수록': 1697, '망상': 1698, '계절': 1699, '화나': 1700, '괜한': 1701, '로부터': 1702, '와서': 1703, '잃': 1704, '찼': 1705, '는구나': 1706, '닿': 1707, '뒤숭숭': 1708, '차갑': 1709, '불금': 1710, '연휴': 1711, '미칠': 1712, '겟': 1713, '가치': 1714, '지옥': 1715, '아름답': 1716, '오락가락': 1717, '이것': 1718, '첫날': 1719, '으신가': 1720, '부부': 1721, '힘듭니다': 1722, '아껴': 1723, '봅시다': 1724, '지키': 1725, '평생': 1726, '흑역사': 1727, '사겼': 1728, '단호': 1729, '외국인': 1730, '옳': 1731, '쏠': 1732, '기한': 1733, '기적': 1734, '담긴': 1735, '아련': 1736, '신고': 1737, '재혼': 1738, '으므로': 1739, '들어맞': 1740, '거짓': 1741, '쉐': 1742, '으나': 1743, '한탄': 1744, '아래': 1745, '소비': 1746, '어필': 1747, '파이팅': 1748, '사용': 1749, '젖': 1750, '드셔': 1751, '그러면': 1752, '골라': 1753, '스러울': 1754, '달려': 1755, '놀랐': 1756, '버릴': 1757, '지나갈': 1758, '애석': 1759, '애틋': 1760, '당분간': 1761, '나아질': 1762, '느냐': 1763, '공통': 1764, '켜': 1765, '감히': 1766, '회복': 1767, '수업': 1768, '진급': 1769, '다툼': 1770, '모으': 1771, '동성': 1772, '반지': 1773, '자격증': 1774, '허리': 1775, '나날': 1776, '똑똑': 1777, '케이스': 1778, '든든': 1779, '질리': 1780, '오르': 1781, '모임': 1782, '헬스': 1783, '출퇴근': 1784, '패턴': 1785, '병': 1786, '겁': 1787, '무작정': 1788, '풀리': 1789, '구나': 1790, '질문': 1791, '너무나': 1792, '다정': 1793, '마주쳤': 1794, '실패': 1795, '활용': 1796, '온전히': 1797, '해석': 1798, '매너': 1799, '죄송': 1800, '남기': 1801, '특징': 1802, '스킨십': 1803, '매주': 1804, '트': 1805, '초': 1806, '거부': 1807, '뛰어넘': 1808, '줄거리': 1809, '반드시': 1810, '검색': 1811, '였을': 1812, '땀': 1813, '강아지': 1814, '공시': 1815, '함부로': 1816, '으니까': 1817, '비난': 1818, '맥주': 1819, '염색': 1820, '뭔': 1821, '사회': 1822, '셀프': 1823, '내내': 1824, '지갑': 1825, '위기': 1826, '깨달음': 1827, '따지': 1828, '무언가': 1829, '더욱': 1830, '기도': 1831, '간사': 1832, '치료': 1833, '다섯': 1834, '가만히': 1835, '고자': 1836, '아쉬움': 1837, '열흘': 1838, '찬': 1839, '꼼꼼': 1840, '까요': 1841, '호칭': 1842, '최대한': 1843, '메': 1844, '아줌마': 1845, '가르치': 1846, '블': 1847, '에드': 1848, '대접': 1849, '독약': 1850, '운전': 1851, '...': 1852, '회상': 1853, '핵심': 1854, '판별': 1855, '성별': 1856, '신중': 1857, '흘러가': 1858, '난다': 1859, '나갔': 1860, '끼리': 1861, '간만에': 1862, '걸린': 1863, '룩': 1864, '옴': 1865, '고독': 1866, '냈': 1867, '근육': 1868, '기다림': 1869, '당연히': 1870, '푸': 1871, '미팅': 1872, '어른': 1873, '천재': 1874, '이벤트': 1875, '한대': 1876, '미워': 1877, '모자라': 1878, '모를': 1879, '클': 1880, '성적': 1881, '무거워': 1882, '떠': 1883, '봇': 1884, '왤케': 1885, '여드름': 1886, '부려': 1887, '드라이브': 1888, '드레스': 1889, '딸기': 1890, '땅': 1891, '로또': 1892, '으련만': 1893, '바꿀까': 1894, '빠져': 1895, '먼지': 1896, '다가오': 1897, '무릎': 1898, '문': 1899, '참견': 1900, '수상': 1901, '반장': 1902, '누나': 1903, '터리': 1904, '보일러': 1905, '부자': 1906, '걸려': 1907, '온다': 1908, '안부': 1909, '깨졌': 1910, '신발': 1911, '휴대폰': 1912, '셀카': 1913, '바르': 1914, '스트레칭': 1915, '아까워': 1916, '끝났으면': 1917, '실내': 1918, '싸웠': 1919, '비워': 1920, '쓸데없': 1921, '으라고': 1922, 'ㅋㅋ': 1923, '어렸': 1924, '어머': 1925, '간대': 1926, '다녀': 1927, '영화관': 1928, '설명': 1929, '지하철': 1930, '얘': 1931, '퇴근길': 1932, '늙': 1933, '이쁜': 1934, '된다': 1935, '써야': 1936, '혼내': 1937, '고칠': 1938, '절약': 1939, '주식': 1940, '가입': 1941, '지진': 1942, '쌩': 1943, '첫눈': 1944, '추석': 1945, '축제': 1946, '준대': 1947, '택배': 1948, '초기': 1949, '구경': 1950, '너무너무': 1951, '헤어져': 1952, '부질없': 1953, '먼': 1954, '가짜': 1955, '찾아갔': 1956, '진행': 1957, '지웠': 1958, '는가': 1959, '아깝': 1960, '벌레': 1961, '겪': 1962, '빈자리': 1963, '욕심': 1964, '버릇': 1965, '찾아온': 1966, '다가왔': 1967, '끝냈': 1968, '떠나간': 1969, '헌신': 1970, '닫': 1971, '쪽': 1972, '니깐': 1973, '알아내': 1974, '씁쓸': 1975, '더라구': 1976, '생생': 1977, '예감': 1978, '독': 1979, '바라보': 1980, '어젯밤': 1981, '나아지': 1982, '보일': 1983, '으셨': 1984, '버린': 1985, '이럴까': 1986, '또한': 1987, '20': 1988, '고서': 1989, '로워': 1990, '했었': 1991, '차인': 1992, '페메': 1993, '당하': 1994, '염탐': 1995, '입장': 1996, '버텨': 1997, '착한': 1998, '쿨': 1999, '지만은': 2000, '기울이': 2001, '예약': 2002, '구속': 2003, '아닌가': 2004, '목적': 2005, '무조건': 2006, '요구': 2007, '달라': 2008, '알리': 2009, '내면': 2010, '낼': 2011, '망설여': 2012, '랜': 2013, '월요일': 2014, '건가요': 2015, '척하': 2016, '오바': 2017, '설렜': 2018, '물어봐': 2019, '띄': 2020, '정성': 2021, '싫어하': 2022, '단점': 2023, '감출': 2024, '남길': 2025, '탓': 2026, '확률': 2027, '지낼': 2028, '씌': 2029, '미만': 2030, '토비': 2031, '책임': 2032, '빠를수록': 2033, '에너지': 2034, '구하': 2035, '자세히': 2036, '호의': 2037, '태어난': 2038, '위해서': 2039, '바디': 2040, '인데요': 2041, '깨닫': 2042, '정답': 2043, '두근거리': 2044, '바쁜가': 2045, '푼': 2046, '멋져요': 2047, '심호흡': 2048, '셔야': 2049, '으신': 2050, '쉴': 2051, '풀렸': 2052, '와요': 2053, '가볍': 2054, '래요': 2055, '줄여': 2056, '가까운': 2057, '나타날': 2058, '아닌가요': 2059, '보듬': 2060, '잡념': 2061, '간직': 2062, '묻어두': 2063, '속박': 2064, '원한다면': 2065, '나을지도': 2066, '그리울': 2067, '사라질': 2068, '받아들일': 2069, '지나간': 2070, '한답니다': 2071, '헤아릴': 2072, '알콩달콩': 2073, '강요': 2074, '정해져': 2075, '슬쩍': 2076, '두근거림': 2077, '낳': 2078, '택시': 2079, '그리': 2080, '금연': 2081, '잼': 2082, '노트북': 2083, '일시': 2084, '하고': 2085, '데려가': 2086, '활동': 2087, '프로필': 2088, '올라': 2089, '넘어가': 2090, '팁': 2091, '명품': 2092, '터지': 2093, '정류장': 2094, '변한': 2095, '성형': 2096, '필름': 2097, '스터디': 2098, '여우': 2099, '예능': 2100, '평온': 2101, '은퇴': 2102, '을수록': 2103, '발견': 2104, '취': 2105, '어쩌면': 2106, '어느새': 2107, '허락': 2108, '잔인': 2109, '내게': 2110, '커지': 2111, '한심': 2112, '부디': 2113, '조차': 2114, '감싸': 2115, '뜨': 2116, '어리석': 2117, '속도': 2118, '잊어': 2119, '수십': 2120, '어장': 2121, '현': 2122, '제안': 2123, '브랜드': 2124, '비용': 2125, '손해': 2126, '세포': 2127, '별도': 2128, '실례': 2129, '영광송': 2130, '전화기': 2131, '요청': 2132, '뉘': 2133, '른': 2134, '욕망': 2135, '치명상': 2136, '회개': 2137, '예': 2138, '습니까': 2139, '새로': 2140, '양해': 2141, '타인': 2142, '일부': 2143, '변해요': 2144, '돌아보': 2145, '면역': 2146, '쟁취': 2147, '컨트롤': 2148, '경쟁': 2149, '동영상': 2150, '멍청': 2151, '스': 2152, '해진': 2153, '노후': 2154, '공원': 2155, '동호회': 2156, '때리': 2157, '반갑': 2158, '불만': 2159, '섬유': 2160, '아이스크림': 2161, '벗': 2162, '여름': 2163, '인턴': 2164, '일기': 2165, '적금': 2166, '예전': 2167, '통장': 2168, '가까이': 2169, '직후': 2170, '답변': 2171, '뛰': 2172, '자마자': 2173, '타나': 2174, '깨지': 2175, '적당': 2176, '나아가': 2177, '와도': 2178, '발르': 2179, '음료': 2180, '오세': 2181, '파악': 2182, '크기': 2183, '어깨': 2184, '증상': 2185, '12': 2186, '박': 2187, '가스': 2188, '간식': 2189, '개념': 2190, '누굴': 2191, '거지': 2192, '동료': 2193, '격려': 2194, '류': 2195, '치열': 2196, '고기': 2197, '구워': 2198, '고마운': 2199, '소화': 2200, '건들': 2201, '금': 2202, '기댈': 2203, '기숙사': 2204, '배울까': 2205, '기프트': 2206, '진다': 2207, '전기': 2208, '들어오': 2209, '봐야지': 2210, '걸렸': 2211, '보이스': 2212, '피싱': 2213, '수학여행': 2214, '계': 2215, '왕따': 2216, '웃겨': 2217, '바꿀': 2218, '난방': 2219, '으려면': 2220, '도와줘': 2221, '회식': 2222, '사라진': 2223, '아이돌': 2224, '보였': 2225, '느껴져': 2226, '제정신': 2227, '못난': 2228, '아파트': 2229, '냉장고': 2230, '잖아': 2231, '너덜너덜': 2232, '동산': 2233, '다쳤': 2234, '눈썹': 2235, '문신': 2236, '재미없': 2237, '베풀': 2238, '키워': 2239, '달력': 2240, '었었': 2241, '효도': 2242, '덕': 2243, '막차': 2244, '등산': 2245, '따듯': 2246, '당첨': 2247, '몸무게': 2248, '다녀왔': 2249, '마실까': 2250, '소주': 2251, '머리카락': 2252, '메뉴': 2253, '면허': 2254, '겠어': 2255, '영': 2256, '반가워요': 2257, '배고파': 2258, '힘든데': 2259, '떴': 2260, '틀': 2261, '비행기': 2262, '빚': 2263, '정규직': 2264, '사랑니': 2265, '삼겹살': 2266, '서점': 2267, '유연제': 2268, '성덕': 2269, '소화제': 2270, '속이': 2271, '시려': 2272, '겁나': 2273, '스타트업': 2274, '지루': 2275, '바늘': 2276, '싸운': 2277, '화해': 2278, '치워': 2279, '안경테': 2280, '길러': 2281, '엉엉': 2282, '엠티': 2283, '롭': 2284, '유난히': 2285, '치맥': 2286, '파도': 2287, '올해': 2288, '체육': 2289, '쓸쓸': 2290, '외국어': 2291, '용돈': 2292, '우정': 2293, '다칠': 2294, '촬영': 2295, '소음': 2296, '의자': 2297, '일요일': 2298, '직업': 2299, '절친': 2300, '쪼금': 2301, '멋져': 2302, '찜질방': 2303, '착하': 2304, '나을까': 2305, '초콜릿': 2306, '축의금': 2307, '막혀': 2308, '뽀': 2309, '쌓인': 2310, '커플링': 2311, '마실': 2312, '컨디션': 2313, '세워': 2314, '피크닉': 2315, '학벌': 2316, '현금': 2317, '현금영수증': 2318, '화장품': 2319, '속상해': 2320, '꾹꾹': 2321, '무뎌질': 2322, '갑작스러운': 2323, '갑작스럽': 2324, '공간': 2325, '열받': 2326, '병신': 2327, '바람난': 2328, '령기': 2329, '돌아올까': 2330, '분하': 2331, '절망': 2332, '구걸': 2333, '넋두리': 2334, '한마디': 2335, '떠나보내': 2336, '을가': 2337, '만난다면': 2338, '근데': 2339, '지친': 2340, '더군': 2341, '듭니다': 2342, '나약': 2343, '지쳐서': 2344, '억울': 2345, '아팠으면': 2346, '돌아올': 2347, '아려': 2348, '추스리': 2349, '먹먹': 2350, '무너진': 2351, '쌓': 2352, '무모': 2353, '밑바닥': 2354, '강제': 2355, '밤새': 2356, '방금': 2357, '고마워': 2358, '돋': 2359, '떠나갔': 2360, '찾아왔': 2361, '돌아와': 2362, '공유': 2363, '유증': 2364, '이후': 2365, '안타까워': 2366, '아님': 2367, '원해': 2368, '취해서': 2369, '나타났': 2370, '붙여': 2371, '런지': 2372, '서서히': 2373, '정확히': 2374, '나타나': 2375, '왠지': 2376, '다네': 2377, '겠죠': 2378, '허허': 2379, '가려': 2380, '들으면': 2381, '100': 2382, '비겁': 2383, '나름': 2384, '이곳': 2385, '놓아줄': 2386, '유부남': 2387, '겁니다': 2388, '잊혀져': 2389, '두려움': 2390, '잠들': 2391, '미련없이': 2392, '주체': 2393, '에겐': 2394, '질긴': 2395, '찢어지': 2396, '수준': 2397, '여부': 2398, '하아': 2399, '가네': 2400, '느꼈': 2401, '추가': 2402, '누': 2403, '영상': 2404, '다짐': 2405, '포근': 2406, '두려운': 2407, '힘껏': 2408, 'cc': 2409, '간접': 2410, '날짜': 2411, '물어봐도': 2412, '좋아했': 2413, '환심': 2414, '꼬시': 2415, '끼': 2416, '향기': 2417, '빠졌': 2418, '숨기': 2419, '그린': 2420, '라이트': 2421, '일반': 2422, '빠른': 2423, '뭘까요': 2424, '서툴러': 2425, '전역': 2426, '살아온': 2427, '헷갈려': 2428, '질려': 2429, '짜': 2430, '반했': 2431, '생긴다는': 2432, '설득': 2433, '먹여': 2434, '알아볼': 2435, '사생활': 2436, '애프터': 2437, '데리': 2438, '간섭': 2439, '바빠서': 2440, '취소': 2441, '미루': 2442, '하트': 2443, '유통': 2444, '갠': 2445, '아마': 2446, '슬플': 2447, '피시방': 2448, '보수': 2449, '영원히': 2450, '리액션': 2451, '작아지': 2452, '정열': 2453, '바람둥이': 2454, '아파요': 2455, '이어지': 2456, '아무런': 2457, '없앨': 2458, '맺': 2459, '은가요': 2460, '둬서': 2461, '방해': 2462, '보여도': 2463, '패션': 2464, '태그': 2465, '이뤄': 2466, '이뤄지지': 2467, '들이대': 2468, '끌': 2469, '점차': 2470, '엉덩이': 2471, '훨씬': 2472, '으리라': 2473, '건과': 2474, '따름': 2475, '영향': 2476, '정하': 2477, '득템': 2478, '살펴': 2479, '안전': 2480, '준다면': 2481, '모아': 2482, '안정': 2483, '셔야죠': 2484, '모아서': 2485, '피할': 2486, '달라져요': 2487, '간절히': 2488, '보답': 2489, '아이': 2490, '외부': 2491, '차근차근': 2492, '뜻대로': 2493, '라요': 2494, '해낼': 2495, '곰곰히': 2496, '청해': 2497, '정해': 2498, '바쁠': 2499, '분담': 2500, '들어도': 2501, '다치': 2502, '흥미': 2503, '이길': 2504, '칼로리': 2505, '다면요': 2506, '큰일': 2507, '풀릴': 2508, '들여': 2509, '어야죠': 2510, '각지': 2511, '흘리': 2512, '아야죠': 2513, '데요': 2514, '양': 2515, '꾸며': 2516, '한창': 2517, '정신없이': 2518, '어떠세요': 2519, '자요': 2520, '프라이버시': 2521, '못해요': 2522, '서툰': 2523, '오래오래': 2524, '해보여요': 2525, '역할': 2526, '즐거울': 2527, '들려': 2528, '끝날': 2529, '채워질': 2530, '달라요': 2531, '아쉬운': 2532, '바란다면': 2533, '고마워요': 2534, '던가요': 2535, '덜할': 2536, '태연': 2537, '착잡': 2538, '해내': 2539, '즐겨': 2540, '인고': 2541, '속상할': 2542, '허상': 2543, '글쎄요': 2544, '기억나': 2545, '잠식': 2546, '예고': 2547, '낸': 2548, '다독여': 2549, '거둬': 2550, '돌아서': 2551, '선연': 2552, '특히': 2553, '쓰일': 2554, '일거': 2555, '이나마': 2556, '저편': 2557, '판단력': 2558, '흐려': 2559, '그렇지만': 2560, '일수록': 2561, '아끼': 2562, '남겨서': 2563, '내릴': 2564, '당사자': 2565, '방향': 2566, '분명히': 2567, '다릅니다': 2568, '부드럽': 2569, '리드': 2570, '감동': 2571, '귀여울': 2572, '반영': 2573, '된다면': 2574, '이어질': 2575, '난다고': 2576, '하필': 2577, '해야겠지': 2578, '농담': 2579, '챙기': 2580, '기력': 2581, '값': 2582, '콘': 2583, '길거리': 2584, '대우': 2585, '낚시': 2586, '맞춤법': 2587, '사업': 2588, '봉사': 2589, '낭만': 2590, '주인공': 2591, '주제': 2592, '후배': 2593, '편해': 2594, '발목': 2595, '주택': 2596, '쌈': 2597, '쳤': 2598, '해외': 2599, '사면': 2600, '피자': 2601, '팩': 2602, '메모': 2603, '센터': 2604, '바지': 2605, '배터리': 2606, '망': 2607, '비오': 2608, '마중': 2609, '손톱': 2610, '스키': 2611, '어둠': 2612, '달래': 2613, '오토바이': 2614, '대회': 2615, '거든': 2616, '요리': 2617, '직': 2618, '쌓이': 2619, '업': 2620, '자취': 2621, '계약': 2622, '과제': 2623, '졸업식': 2624, '아들': 2625, '직구': 2626, '운': 2627, '예정': 2628, '한강': 2629, '우울해': 2630, '끊기': 2631, '방문': 2632, '감각': 2633, '웃기': 2634, '신기': 2635, '낮': 2636, '두렵': 2637, '비우': 2638, '붙이': 2639, '슬퍼하': 2640, '매달리': 2641, '밉': 2642, '펴': 2643, '젤': 2644, '시도': 2645, '??': 2646, '인내': 2647, '추운': 2648, '해선': 2649, '객관적으로': 2650, '지르': 2651, '남녀': 2652, '진도': 2653, '동아리': 2654, '대수': 2655, '영통': 2656, '일부러': 2657, '자제': 2658, '공': 2659, '여지': 2660, '존경': 2661, '액션': 2662, '구별': 2663, '웃음': 2664, '숀': 2665, '회': 2666, '적기': 2667, '현상금': 2668, '오전': 2669, '생명력': 2670, '영혼': 2671, '턱': 2672, '삼키': 2673, '찾아내': 2674, '복수심': 2675, '나머지': 2676, '가져가': 2677, '합격': 2678, '식단': 2679, '잠재력': 2680, '원동력': 2681, '잇': 2682, '최신': 2683, '실행': 2684, '자세': 2685, '합리': 2686, '세우': 2687, '거라': 2688, '약해': 2689, '돌보': 2690, '적어도': 2691, '상하': 2692, '포인트': 2693, '소유': 2694, '들리': 2695, '구요': 2696, '백': 2697, '떡': 2698, '버림': 2699, '승진': 2700, '감추': 2701, '긁': 2702, '공평': 2703, '단수': 2704, '도시락': 2705, '폼': 2706, '배달': 2707, '보름달': 2708, '짜장면': 2709, '소': 2710, '수면': 2711, '으러': 2712, '총회': 2713, '정장': 2714, '조카': 2715, '거래': 2716, '치매': 2717, '터': 2718, '상자': 2719, '밀려오': 2720, '자네': 2721, '보고': 2722, '로맨스': 2723, '무너지': 2724, '!!': 2725, '수백': 2726, '우': 2727, '데이': 2728, '강해': 2729, '짠': 2730, '침묵': 2731, '의도': 2732, '통하': 2733, '자금': 2734, '올리': 2735, '이끌': 2736, '일쑤': 2737, 'ㄹ래': 2738, '쪼': 2739, '저렴': 2740, '단맛': 2741, '속옷': 2742, '입증': 2743, '종료': 2744, '문제점': 2745, '만지': 2746, '지식': 2747, '감수': 2748, '권': 2749, '현명': 2750, '시대': 2751, '그럴지': 2752, '땡': 2753, '망함': 2754, '시켜야': 2755, '같애': 2756, '로운': 2757, '첫인상': 2758, '건너': 2759, '건조': 2760, '깜깜': 2761, '견과': 2762, '빠를': 2763, '하객': 2764, '냐구': 2765, '한숨': 2766, '고시원': 2767, '고양이': 2768, '고집': 2769, '센': 2770, '공복': 2771, '필기': 2772, '공황': 2773, '공휴일': 2774, '구박': 2775, '수저': 2776, '기름': 2777, '올랐': 2778, '그지': 2779, '더러워': 2780, '기침': 2781, '놓쳤': 2782, '말려': 2783, '쉬운가': 2784, '누락': 2785, '대충': 2786, '백수': 2787, '는대': 2788, '주름살': 2789, '본다': 2790, '태어났': 2791, '중국': 2792, '미소': 2793, '호구': 2794, '폭발': 2795, '영양제': 2796, '짱': 2797, '바래다': 2798, '실력': 2799, '잔소리': 2800, '올릴까': 2801, '아기': 2802, '돌봐': 2803, '사수': 2804, '방심': 2805, '초라': 2806, '즐길': 2807, '희생양': 2808, '내년': 2809, '이브': 2810, '미워한다': 2811, '더워서': 2812, '추워서': 2813, '메이크업': 2814, '부팅': 2815, '농구': 2816, '누우': 2817, '누워': 2818, '눈꺼풀': 2819, '뻑뻑': 2820, '나빠졌': 2821, '늦잠': 2822, '때려': 2823, '치우': 2824, '어울릴까': 2825, '단체': 2826, '극': 2827, '대빵': 2828, '대청소': 2829, '잃어버렸': 2830, '천': 2831, '동기': 2832, '약점': 2833, '뒷': 2834, '통수': 2835, '떡볶이': 2836, '액정': 2837, '똑': 2838, '띰': 2839, '갈래': 2840, '레시피': 2841, '빌릴까': 2842, '링': 2843, '청춘': 2844, '막힌다': 2845, '말조심': 2846, '틀리': 2847, '매운': 2848, '닭발': 2849, '티나': 2850, '지끈거려': 2851, '쑤셔': 2852, '쌓였': 2853, '면도기': 2854, '목욕탕': 2855, '투성이': 2856, '무료': 2857, '유료': 2858, '무한리필': 2859, '차가워': 2860, '려다': 2861, '찔려': 2862, '나쁨': 2863, '미용실': 2864, '갔다왔': 2865, '뭘로': 2866, '흘렸': 2867, '탈출': 2868, '아파서': 2869, '뱃살': 2870, '베란다': 2871, '충전기': 2872, '베프': 2873, '별의별': 2874, '보험': 2875, '복전': 2876, '부케': 2877, '비싼': 2878, '비정규직': 2879, '빠': 2880, '떼': 2881, '빽': 2882, '사전': 2883, '사표': 2884, '낼까': 2885, '덮': 2886, '필기구': 2887, '끓여': 2888, '생리통': 2889, '쫄': 2890, '선풍기': 2891, '견적': 2892, '예쁜데': 2893, '소액결제': 2894, '소통': 2895, '손가락': 2896, '손수건': 2897, '다닐': 2898, '아야지': 2899, '수건': 2900, '야겠다': 2901, '수염': 2902, '숙취': 2903, '케': 2904, '거슬려': 2905, '색': 2906, '시급': 2907, '아날로그': 2908, '뒹굴': 2909, '우울증': 2910, '골랐': 2911, '선천': 2912, '아이고': 2913, '독하': 2914, '렌즈': 2915, '알뜰': 2916, '구해야': 2917, '내릴까': 2918, '애완': 2919, '야식': 2920, '나와야': 2921, '된다는': 2922, '여행가': 2923, '짱나': 2924, '한계': 2925, '짰': 2926, '태': 2927, '화났': 2928, '다는데': 2929, '갱신': 2930, '옛': 2931, '침대': 2932, '공기': 2933, '오디션': 2934, '온다고': 2935, '좌절': 2936, '망한': 2937, '구두': 2938, '청약': 2939, '웹툰': 2940, '시끄러워': 2941, '분양': 2942, '쟁이': 2943, '도망가': 2944, '이러다': 2945, '이력서': 2946, '이모티콘': 2947, '인터넷': 2948, '쇼핑몰': 2949, '병행': 2950, '자동차': 2951, '자장면': 2952, '자랑': 2953, '재채기': 2954, '살릴': 2955, '걸어도': 2956, '돼야': 2957, '외출': 2958, '정신없': 2959, '빨': 2960, '중고': 2961, '중국어': 2962, '출근길': 2963, '위축': 2964, '뒷담화': 2965, '맞출까': 2966, '땡기': 2967, '컴퓨터': 2968, '케익': 2969, '거려': 2970, '팬': 2971, '편의점': 2972, '할텐데': 2973, '폭풍': 2974, '요금': 2975, '폭력': 2976, '해외여행': 2977, '혼수': 2978, '무너짐': 2979, '환기': 2980, '황당': 2981, '되돌아보': 2982, '기나긴': 2983, '종지부': 2984, '나와서': 2985, '가량': 2986, '도저히': 2987, '둔': 2988, '배신': 2989, '가혹': 2990, '급': 2991, '일어난': 2992, '욕해': 2993, '비친': 2994, '돌아왔': 2995, '골인': 2996, '놓아줬': 2997, '고야': 2998, '일방': 2999, '생각난': 3000, '고작': 3001, '괘씸': 3002, '펑펑': 3003, '군인': 3004, '흔한': 3005, '느낀': 3006, '보내왔': 3007, '멈춰': 3008, '그리워서': 3009, '그쪽': 3010, '더럽': 3011, '불쑥': 3012, '정량': 3013, '꿈꾸': 3014, 'ㅜ': 3015, '미쳤': 3016, '하지만': 3017, '지켜야': 3018, '는다': 3019, '걍': 3020, '이리': 3021, '발등': 3022, '고는': 3023, '기뻐해': 3024, '매달렸': 3025, '살려': 3026, '독한': 3027, '다가온': 3028, '자면': 3029, '돌아온': 3030, '는군': 3031, '돌아간': 3032, '합시다': 3033, '따끔': 3034, '낮술': 3035, '마냥': 3036, '현관문': 3037, '막장': 3038, '매몰찬': 3039, '터놓': 3040, '회의감': 3041, '매정': 3042, '멘탈': 3043, '터졌': 3044, '막막': 3045, '모처럼': 3046, '훔쳐': 3047, '무거운': 3048, '무뎌진': 3049, '픈': 3050, '어언': 3051, '물질': 3052, '깨진': 3053, '미쳐': 3054, '바보짓': 3055, '버려진': 3056, '소름': 3057, '속상하': 3058, '메시지': 3059, '보름': 3060, '불륜': 3061, '될까봐': 3062, '울컥': 3063, '는데도': 3064, '떠난다는': 3065, '부작용': 3066, '우습': 3067, '찌': 3068, '따위': 3069, '원치': 3070, '설마': 3071, '성급': 3072, '술기운': 3073, '나갈까': 3074, '론가': 3075, '술주정': 3076, '돌려받': 3077, '심난': 3078, '기다려도': 3079, '인걸': 3080, '아픈데': 3081, '아휴': 3082, '고하': 3083, '돌릴': 3084, '어떻하': 3085, '어이없': 3086, '생각났': 3087, '깨어진': 3088, '도자기': 3089, '붙였': 3090, '벗어날': 3091, '그런지': 3092, '연하': 3093, '슬슬': 3094, '버텼': 3095, '머물': 3096, '꾹': 3097, '곡': 3098, '들어와서': 3099, '외로워서': 3100, '들으며': 3101, '애써': 3102, '통해서': 3103, '욜': 3104, '유부녀': 3105, '이대로': 3106, '면서도': 3107, '괴로운': 3108, '경과': 3109, '필수': 3110, '배워가': 3111, '앞둔': 3112, '11': 3113, '무뎌졌': 3114, '댓글': 3115, '잊혀진': 3116, '해줘도': 3117, '잠겨': 3118, '자는데': 3119, '추': 3120, '마저': 3121, '난감': 3122, '온다면': 3123, '뜨겁': 3124, '복합': 3125, '차려야': 3126, '정신병': 3127, '으려니': 3128, '무뎌져': 3129, '지겹': 3130, '지긋지긋': 3131, '갑작': 3132, '지독': 3133, '기네': 3134, '쭉': 3135, '텅': 3136, '다되': 3137, '일주일': 3138, '한때': 3139, '한없이': 3140, '해져야': 3141, '맴': 3142, '찢': 3143, '주인': 3144, 'ㅋ': 3145, '짼데': 3146, '갈등': 3147, '휴우': 3148, '흐음': 3149, '희생': 3150, 'ab': 3151, 'a': 3152, 'b': 3153, '탐': 3154, 'o': 3155, '꼬셔': 3156, '게스트': 3157, '설렐': 3158, '경제력': 3159, '타입': 3160, '락': 3161, '근황': 3162, '놀리': 3163, '상사병': 3164, '설레발': 3165, '쿵': 3166, '사라지': 3167, '뒷모습': 3168, '남사': 3169, '느껴질': 3170, '오지랖': 3171, '취급': 3172, '떠날까': 3173, '예뻐해': 3174, '혼주': 3175, '술자리': 3176, '외박': 3177, '속사정': 3178, '키스': 3179, '코드': 3180, '이뻐서': 3181, '보임': 3182, '혼전': 3183, '순결': 3184, '남잔데': 3185, '환경': 3186, '만져': 3187, '축가': 3188, '나아': 3189, '라더니': 3190, '대부분': 3191, '대학교': 3192, '학번': 3193, '정적': 3194, '떠올라': 3195, '두근두근': 3196, '들켰': 3197, '변할까': 3198, '혈액형': 3199, '화요일': 3200, '모태': 3201, '못생긴': 3202, '당해': 3203, '환장': 3204, '존댓말': 3205, '비추': 3206, '눈빛': 3207, '위대': 3208, '구체': 3209, '달라졌': 3210, '달라져': 3211, '상견례': 3212, '아니면': 3213, '높이': 3214, '스몰': 3215, '스튜디오': 3216, '식상': 3217, '부딪혀': 3218, '깰': 3219, '들이댔': 3220, '유발': 3221, '아냐': 3222, '적절': 3223, '이어': 3224, '간다는데': 3225, '누굴까': 3226, '막상': 3227, '속상한': 3228, '눌러': 3229, '촉': 3230, '플라토닉': 3231, '돌아섰': 3232, '바빠도': 3233, '애니': 3234, '냐는데': 3235, '얇': 3236, '돌아다니': 3237, '소극': 3238, '삐져': 3239, '대신': 3240, '팔찌': 3241, '여행지': 3242, '정치': 3243, '예랑': 3244, '턱시도': 3245, '예식장': 3246, '땜': 3247, '지겨워진': 3248, '묻': 3249, '편식': 3250, '이뤄질': 3251, '이른': 3252, '식사': 3253, '입맛': 3254, '자길': 3255, '경향': 3256, '쳐다보': 3257, '한대요': 3258, '조용': 3259, '어울릴': 3260, '북받쳐': 3261, '진전': 3262, '씨': 3263, '가망': 3264, '차렸': 3265, '어리': 3266, '이전': 3267, '심한': 3268, '꿔': 3269, '끊긴': 3270, '멀리서': 3271, '친해질': 3272, '못나': 3273, '고시': 3274, '받아들여요': 3275, '독서': 3276, '씹하': 3277, '굴': 3278, '파토': 3279, '라인': 3280, '보여서': 3281, '가르쳐': 3282, '줄임': 3283, '그럴까요': 3284, '반하': 3285, '생겨서': 3286, '혼인': 3287, '의결': 3288, '여야': 3289, '걸어가': 3290, '사망': 3291, '겨울철': 3292, '입히': 3293, '비판': 3294, '풍습': 3295, '간혹': 3296, '비바람': 3297, '굉장히': 3298, '도의': 3299, '아강': 3300, '일본': 3301, '즐': 3302, '항해': 3303, '기쁨': 3304, '항성': 3305, '친분': 3306, '좁': 3307, '지출': 3308, '들키': 3309, '들어올': 3310, '식혀': 3311, '가까워질': 3312, '진리': 3313, '갑작스러웠': 3314, '개시': 3315, '낮잠': 3316, '움직이': 3317, '깜빡': 3318, '줄일': 3319, '참석': 3320, '씁니다': 3321, '학점': 3322, '실천': 3323, '뒷감당': 3324, '이겨야': 3325, '맡겨': 3326, '대중교통': 3327, '단단': 3328, '집안': 3329, '취하': 3330, '아름다워요': 3331, '되짚': 3332, '안녕히': 3333, '상종': 3334, '동감': 3335, '관찰': 3336, '느낄': 3337, '벽': 3338, '부딪혔': 3339, '알아봐': 3340, '당당히': 3341, '거르': 3342, '꼰대': 3343, '숫자': 3344, '깨끗이': 3345, '워시': 3346, '로션': 3347, '작동': 3348, '팍팍': 3349, '돕': 3350, '사회생활': 3351, '꽃길': 3352, '흘려': 3353, '지낸': 3354, '슈퍼': 3355, '배울': 3356, '실용': 3357, '명상': 3358, '다운': 3359, '지압': 3360, '식물': 3361, '가짐': 3362, '가게': 3363, 'as': 3364, '맛나': 3365, '꾸준': 3366, '질러': 3367, '쓴': 3368, '두고두고': 3369, '주워': 3370, '깍': 3371, '청결': 3372, '이라도': 3373, '여쭤': 3374, '날려': 3375, '따져': 3376, '색다른': 3377, '찬성': 3378, '변신': 3379, '사계절': 3380, '예뻐질': 3381, '구해': 3382, '고장': 3383, '뚫': 3384, '포장': 3385, '거둘': 3386, '돌아갈': 3387, '초록': 3388, '천국': 3389, '형편': 3390, '종종': 3391, '엮여': 3392, '스릴': 3393, '밝혀': 3394, '뒀': 3395, '귀여운': 3396, '채우': 3397, '식습관': 3398, '장갑': 3399, '마셔요': 3400, '마셔도': 3401, '소소': 3402, '고마움': 3403, '사춘기': 3404, '원인': 3405, '각질': 3406, '월급날': 3407, '사도': 3408, '일어날': 3409, '증명': 3410, '몫': 3411, '이왕이면': 3412, '한결': 3413, '가벼워질': 3414, '양치': 3415, '남겨': 3416, '라면요': 3417, '예비': 3418, '내딛': 3419, '한국': 3420, '대피': 3421, '나갈': 3422, '탈출구': 3423, '느낀다면': 3424, '표출': 3425, '공통점': 3426, '으실': 3427, '본받': 3428, '경제': 3429, '의존': 3430, '멋질': 3431, '달라질': 3432, '사탕': 3433, '흐른': 3434, '놀라': 3435, '상관없이': 3436, '민감': 3437, '비례': 3438, '토닥토닥': 3439, '무너': 3440, '다신': 3441, '헛된': 3442, '화살': 3443, '킥': 3444, '편할지': 3445, '수고': 3446, '마음껏': 3447, '옵니다': 3448, '올라갈': 3449, '섭섭': 3450, '얼떨떨': 3451, '할거': 3452, '버려요': 3453, '삼가': 3454, '되돌릴': 3455, '보냈으니': 3456, '떠날': 3457, '그리웠': 3458, '떨쳐': 3459, '나아요': 3460, '가라앉혀': 3461, '추적추적': 3462, '내려요': 3463, '멈출': 3464, '이랬': 3465, '저랬': 3466, '척도': 3467, '흐를': 3468, '똥차': 3469, '발라': 3470, '거예요': 3471, '편린': 3472, '틀린': 3473, '컸': 3474, '부메랑': 3475, '바니': 3476, '걸려요': 3477, '직감': 3478, '시린': 3479, '을게요': 3480, '숨길': 3481, '건네': 3482, '나눴': 3483, '해줄게요': 3484, '괴로웠을': 3485, '예측': 3486, '아이구': 3487, '닥쳐올': 3488, '이겨냈': 3489, '로워질': 3490, '한데요': 3491, '마음가짐': 3492, '된답니다': 3493, '다가옴': 3494, '더디': 3495, '난다면': 3496, '단어': 3497, '다녀와요': 3498, '고요': 3499, '거릴': 3500, '곱씹': 3501, '했을지도': 3502, '익': 3503, '궁금증': 3504, '씨앗': 3505, '조심스레': 3506, '거두': 3507, '전해졌': 3508, '향하': 3509, '의중': 3510, '커서': 3511, '걸릴지': 3512, '자르': 3513, '버텨요': 3514, '영역': 3515, '생겼을지도': 3516, '해져서': 3517, '비하': 3518, '짐작': 3519, '전해질': 3520, '마주쳐': 3521, '앞모습': 3522, '겉모습': 3523, '헷갈릴': 3524, '알람': 3525, '꼬였': 3526, '차트': 3527, '소중히': 3528, '격식': 3529, '애절': 3530, '딱히': 3531, '호르몬': 3532, '어서요': 3533, '아닐지': 3534, '섣부르': 3535, '볼게요': 3536, '틈틈이': 3537, '쓰인다고': 3538, '가운데': 3539, '드러내': 3540, '대상': 3541, '음료수': 3542, '목도리': 3543, '국경': 3544, '훈련': 3545, '강조': 3546, '가출': 3547, '살찐': 3548, '거꾸로': 3549, '장애': 3550, '그림': 3551, '창업': 3552, '꽝': 3553, '의견': 3554, '아자': 3555, '냄새나': 3556, '문화': 3557, '대답': 3558, '백업': 3559, '용량': 3560, '다육': 3561, '기업': 3562, '대외': 3563, '불가': 3564, '대학원': 3565, '햇': 3566, '빌리': 3567, '스팸': 3568, '지각': 3569, '구매': 3570, '평화': 3571, '자도': 3572, '면도': 3573, '사야': 3574, '배정': 3575, '설계': 3576, '표': 3577, '빨래': 3578, '샌드위치': 3579, '불순': 3580, '서류': 3581, '서울': 3582, '근교': 3583, '서핑': 3584, '설날': 3585, '인테리어': 3586, '썩': 3587, '수영': 3588, '강습': 3589, '스키장': 3590, '시골': 3591, '아부': 3592, '해줘': 3593, '아울렛': 3594, '끝났': 3595, '안주': 3596, '맛없': 3597, '어린이집': 3598, '지적': 3599, '영어': 3600, '처리': 3601, '와인': 3602, '핫': 3603, '혼나': 3604, '위층': 3605, '육아': 3606, '의외': 3607, '저음': 3608, '흐지부지': 3609, '임용': 3610, '방안': 3611, '짬뽕': 3612, '시켰': 3613, '저주': 3614, '은행': 3615, '제주': 3616, '지저분': 3617, '글자': 3618, '볶': 3619, '퇴사': 3620, '판도라': 3621, '나빠': 3622, '자야': 3623, '회의': 3624, '휴학': 3625, '연예': 3626, '인척': 3627, '산다': 3628, '듬': 3629, '옥상': 3630, '앗': 3631, '담담': 3632, '작별': 3633, '빌어먹을': 3634, '새장': 3635, '솔직히': 3636, '메리': 3637, '새끼': 3638, '지니': 3639, '고문': 3640, '들이': 3641, '메인': 3642, '진료': 3643, '흠': 3644, '불타': 3645, '부리': 3646, '못할까': 3647, '무뚝뚝': 3648, '유머': 3649, '연상': 3650, '유명': 3651, '가재': 3652, '명언': 3653, '서툴': 3654, '어차피': 3655, '맞이': 3656, '수수': 3657, '저장': 3658, '필': 3659, '효과': 3660, '찌르': 3661, '줄이': 3662, '사치': 3663, '휘둘리': 3664, '기르': 3665, '감시': 3666, '위생': 3667, '자마': 3668, '끼치': 3669, '코너': 3670, '마침내': 3671, '궤조': 3672, '스폰지': 3673, '위촉': 3674, '투쟁': 3675, '욕계': 3676, '확보': 3677, '그다지': 3678, '교제': 3679, '로마자': 3680, '어지': 3681, '타개': 3682, '떠올리': 3683, '겨드랑이': 3684, '취지': 3685, '단거리': 3686, '경축': 3687, '광경': 3688, '해소': 3689, '아하': 3690, '주위': 3691, '발달': 3692, '질질': 3693, '신가요': 3694, '드릴': 3695, '알아주': 3696, '지극히': 3697, '똑같이': 3698, '진통제': 3699, '품': 3700, '제거': 3701, '달리': 3702, '맨': 3703, '더라구요': 3704, '그럴지도': 3705, '번복': 3706, '마찬가지': 3707, '단지': 3708, '덜하': 3709, '관대': 3710, '따르': 3711, '부딪히': 3712, '난처': 3713, '깊이': 3714, '내키': 3715, '풍부': 3716, '환상': 3717, '권리': 3718, '무난': 3719, '장사': 3720, '페드': 3721, '변동': 3722, '확충': 3723, '만일': 3724, '설정': 3725, '친교': 3726, '화폐': 3727, '치킨': 3728, '수영장': 3729, '골프': 3730, '기획사': 3731, '마른': 3732, '쩌': 3733, '읽히': 3734, '놀이터': 3735, '뜻밖': 3736, '지수': 3737, '자극': 3738, '렴': 3739, '상실': 3740, '일본어': 3741, '헐': 3742, '주행': 3743, '장래': 3744, '장학금': 3745, '와야': 3746, '침착': 3747, '한편': 3748, '찾아다니': 3749, '화가': 3750, '선언': 3751, '매듭': 3752, '이야': 3753, '언젠': 3754, '어째서': 3755, '쏟': 3756, '간신히': 3757, '자다': 3758, '단념': 3759, '객관': 3760, '동성애': 3761, '퍼': 3762, '모호': 3763, '양궁': 3764, '목걸이': 3765, '깨우': 3766, '외국': 3767, '죽음': 3768, '이따금': 3769, '중의': 3770, '이렇': 3771, '인격': 3772, '뇰': 3773, '폐수': 3774, '역량': 3775, '셋': 3776, '극지방': 3777, '자녀': 3778, '디저트': 3779, '되돌아오': 3780, '사로잡히': 3781, '다큐멘터리': 3782, '뒤쪽': 3783, '서신': 3784, '본격': 3785, '보하이': 3786, '보하': 3787, '상냥': 3788, '유적': 3789, '가라앉': 3790, '역임': 3791, 'ㅏ': 3792, '으리': 3793, '토요일': 3794, '의아': 3795, '으려': 3796, '뒤쫓': 3797, '웨': 3798, '사안': 3799, '및': 3800, '울부짖': 3801, '관전': 3802, '순항': 3803, '혐오': 3804, '세심': 3805, '관념': 3806, '대표': 3807, '대다수': 3808, '호': 3809, '선의': 3810, '여도': 3811, '로봇': 3812, '어가': 3813, '응시': 3814, '그러니까': 3815, '상의': 3816, '집니다': 3817, '서적': 3818, '히': 3819, '계시': 3820, '역': 3821, '요인': 3822, '믿기': 3823, '평상시': 3824, '그런데': 3825, '처': 3826, '후각': 3827, '드물': 3828, '긴장감': 3829, '느리': 3830, '끈기': 3831, '동일': 3832, '라지': 3833, 'ppl': 3834, 'sd': 3835, '망가졌': 3836, '가난': 3837, '설움': 3838, '가만': 3839, '쫄딱': 3840, '비싼데': 3841, '서먹': 3842, '간접흡연': 3843, '쓰레기통': 3844, '엉망진창': 3845, '물어봐서': 3846, '남겨야': 3847, '강원도': 3848, '씨방': 3849, '개기름': 3850, '꼈': 3851, '개학': 3852, '검진': 3853, '건물': 3854, '건방져': 3855, '건조기': 3856, '살까봐': 3857, '걸레질': 3858, '겁난다': 3859, '게으른': 3860, '지겨워': 3861, '온천': 3862, '물증': 3863, '엇갈리': 3864, '고구마': 3865, '고무신': 3866, '고의': 3867, '배워야': 3868, '곱창': 3869, '공연': 3870, '공책': 3871, '외비': 3872, '관절염': 3873, '아까운': 3874, '창피': 3875, '괴물': 3876, '교보문고': 3877, '교직이수': 3878, '교통사고': 3879, '났었': 3880, '나나': 3881, '굿모닝': 3882, '가려워': 3883, '귀농': 3884, '시절': 3885, '내버려': 3886, '둬': 3887, '근사': 3888, '금값': 3889, '사빠': 3890, '태어났으면': 3891, '빨렸': 3892, '떨쳐낼': 3893, '기부': 3894, '꿀꿀': 3895, '묘': 3896, '기차': 3897, '미끄러워서': 3898, '미끄러질': 3899, '김치': 3900, '김치볶음밥': 3901, '김치찌개': 3902, '컴백': 3903, '깡': 3904, '꼴': 3905, '사나워': 3906, '말렸': 3907, '탕': 3908, '꽃꽂이': 3909, '꽃놀이': 3910, '꽃바구니': 3911, '바구니': 3912, '무서웠': 3913, '낌새': 3914, '장난친': 3915, '갈구지': 3916, '뭐한': 3917, '놀려먹': 3918, '뒷담': 3919, '스마트폰': 3920, '개불': 3921, '지롱': 3922, '짤릴': 3923, '폭식증': 3924, '그냥저냥': 3925, '모자란': 3926, '태어났을까': 3927, '캐': 3928, '진출': 3929, '나른': 3930, '뒤처지': 3931, '날까': 3932, '일어날까': 3933, '밟': 3934, '풀린': 3935, '죽인다': 3936, '눅눅': 3937, '덥': 3938, '남동생': 3939, '훈훈': 3940, '보인다': 3941, '질린다': 3942, '틀려': 3943, '욕함': 3944, '험해': 3945, '도와줄까': 3946, '였으면': 3947, '깐깐': 3948, '던데': 3949, '가시밭길': 3950, '나야': 3951, '덤빈': 3952, '지인': 3953, '험담': 3954, '그르친': 3955, '생각없이': 3956, '효녀': 3957, '쓸모없': 3958, '질린': 3959, '내기': 3960, '이겼': 3961, '해질려고': 3962, '모의고사': 3963, '스마': 3964, '냉면': 3965, '땡긴다': 3966, '냉방': 3967, '텅비': 3968, '최소': 3969, '뻔뻔': 3970, '시베리아': 3971, '허기지': 3972, '넘어져서': 3973, '삔': 3974, '넘어질': 3975, '네일': 3976, '넥타이핀': 3977, '녹차': 3978, '마실래': 3979, '논문': 3980, '와라': 3981, '진담': 3982, '농촌': 3983, '뇌': 3984, '초과': 3985, '편할까': 3986, '침침': 3987, '뉴': 3988, '뉴스': 3989, '빡빡': 3990, '브런치': 3991, '오지마': 3992, '무감각': 3993, '꼬': 3994, '고쳐져': 3995, '덜덜': 3996, '챗': 3997, '할래': 3998, '단거': 3999, '긴다': 4000, '단독': 4001, '단발': 4002, '마카롱': 4003, '답례품': 4004, '정녀': 4005, '당구': 4006, '대놓고': 4007, '불렀': 4008, '갈구': 4009, '혐': 4010, '대만': 4011, '올라와': 4012, '이자': 4013, '혼났': 4014, '아싸': 4015, '격렬': 4016, '더우': 4017, '못자': 4018, '돌담길': 4019, '침': 4020, '앞자리': 4021, '반납': 4022, '다닐까': 4023, '독감': 4024, '독학': 4025, '려니까': 4026, '굴리': 4027, '두절': 4028, '투': 4029, '잡이': 4030, '빌려줘': 4031, '돌잔치': 4032, '동문서답': 4033, '동상': 4034, '제끼': 4035, '대판': 4036, '잡혔': 4037, '뒤돌': 4038, '뒤척이': 4039, '잡음': 4040, '천일': 4041, '드라이': 4042, '드론': 4043, '딸까': 4044, '등록금': 4045, '휨': 4046, '뷔페': 4047, '제주도': 4048, '떨어뜨려서': 4049, '라이': 4050, '부러지': 4051, '마려': 4052, '레고': 4053, '렌터카': 4054, '로그인': 4055, '불러봐': 4056, '패딩': 4057, '리모': 4058, '델': 4059, '리치': 4060, '치즈': 4061, '마라톤': 4062, '대량': 4063, '무거워져': 4064, '급해져': 4065, '허해': 4066, '헤헤': 4067, '만두': 4068, '말문': 4069, '수시로': 4070, '찔까봐': 4071, '망고': 4072, '빙수': 4073, '칼국수': 4074, '고고': 4075, '매콤': 4076, '낀': 4077, '올게': 4078, '다듬': 4079, '잘라야': 4080, '잘라야지': 4081, '띵한': 4082, '콕콕': 4083, '머릿결': 4084, '찰랑거렸': 4085, '하얘졌': 4086, '콜록콜록': 4087, '메모리': 4088, '찬하': 4089, '면세': 4090, '사지': 4091, '스러울까': 4092, '모공': 4093, '페친': 4094, '쳐다봐': 4095, '지나쳤': 4096, '마르': 4097, '탄다': 4098, '몸매': 4099, '탄탄': 4100, '몸살': 4101, '찌뿌둥': 4102, '알아들': 4103, '앱': 4104, '쿼트': 4105, '무사안일': 4106, '돼지': 4107, '보일까': 4108, '열림': 4109, '무서움': 4110, '끓여서': 4111, '물리치료': 4112, '바꿔야': 4113, '뒷맛': 4114, '분다': 4115, '정동': 4116, '진가': 4117, '치마': 4118, '반가워': 4119, '구만': 4120, '비쌀': 4121, '호수': 4122, '샜': 4123, '밤샜': 4124, '남음': 4125, '밥벌이': 4126, '배고파서': 4127, '배부르': 4128, '꾸룩꾸룩': 4129, '간당간당': 4130, '빵빵': 4131, '멀미': 4132, '탈까': 4133, '허기진': 4134, '요리조리': 4135, '가꿔': 4136, '베트남어': 4137, '프랑': 4138, '벨': 4139, '울리': 4140, '변기': 4141, '막혔': 4142, '별것': 4143, '트집': 4144, '별다를': 4145, '깎였': 4146, '보드': 4147, '보드게임': 4148, '보험료': 4149, '복근': 4150, '봄날': 4151, '동물원': 4152, '부드러운': 4153, '반항': 4154, '모실': 4155, '부산': 4156, '부업': 4157, '분통': 4158, '블랙데이': 4159, '블랙박스': 4160, '찍혔': 4161, '블록체인': 4162, '이어폰': 4163, '오기': 4164, '서럽': 4165, '비타민': 4166, '비트코인': 4167, '날림': 4168, '나감': 4169, '빵꾸': 4170, '뻔하': 4171, '뿌리': 4172, '사다리타기': 4173, '쓸까': 4174, '구상': 4175, '업로드': 4176, '산다는': 4177, '교복': 4178, '갈궈': 4179, '미울': 4180, '찾아올까': 4181, '비와': 4182, '새치': 4183, '입혀': 4184, '샐러드': 4185, '생강차': 4186, '가운': 4187, '유용': 4188, '서비스': 4189, '들렀': 4190, '주세요': 4191, '미워해': 4192, '된대': 4193, '더위': 4194, '날카로워져': 4195, '성적표': 4196, '세금': 4197, '세뱃돈': 4198, '호호': 4199, '세탁소': 4200, '신행': 4201, '보람': 4202, '욕먹': 4203, '소리지르': 4204, '날까봐': 4205, '오름': 4206, '쫙': 4207, '가늘': 4208, '손목': 4209, '수강': 4210, '수도': 4211, '수분': 4212, '크림': 4213, '듬뿍': 4214, '기를까': 4215, '수줍': 4216, '귀여웠': 4217, '숙제': 4218, '고프': 4219, '어지러워': 4220, '스노클링': 4221, '스케일': 4222, '벅스': 4223, '스테이크': 4224, '시각': 4225, '시간표': 4226, '개판': 4227, '표대': 4228, '움직여': 4229, '멈춘': 4230, '바꿔야지': 4231, '내려가': 4232, '시누': 4233, '지로': 4234, '내볼까': 4235, '식비': 4236, '신용': 4237, '신입': 4238, '올라온다': 4239, '신혼집': 4240, '실비': 4241, '심부름': 4242, '싱크대': 4243, '쓰레': 4244, '기기': 4245, '아메리카노': 4246, '피웠으면': 4247, '민망': 4248, '이공': 4249, '아파라': 4250, '꼭꼭': 4251, '조깅': 4252, '껴야': 4253, '훈': 4254, '으려나': 4255, '구함': 4256, '근각': 4257, '찔': 4258, '졸음': 4259, '몰려왔': 4260, '양배추': 4261, '즙': 4262, '양심': 4263, '양초': 4264, '피해자': 4265, '프레임': 4266, '어려': 4267, '할껄': 4268, '입학식': 4269, '다퉜': 4270, '복제': 4271, '까매': 4272, '업데이트': 4273, '라이어': 4274, '가릴까': 4275, '났으면': 4276, '어땠': 4277, '교환': 4278, '역류': 4279, '식도염': 4280, '연금': 4281, '연봉': 4282, '대비': 4283, '근무': 4284, '갱': 4285, '긴가': 4286, '연일': 4287, '열나': 4288, '열쇠': 4289, '뿌': 4290, '가시': 4291, '힘차': 4292, '결재': 4293, '잔잔': 4294, '로라': 4295, '엉망': 4296, '콜': 4297, '들어야': 4298, '외식': 4299, '외제': 4300, '외향': 4301, '왼손잡이': 4302, '어때서': 4303, '요번': 4304, '우아': 4305, '오지': 4306, '해야겠다': 4307, '워킹': 4308, '원두': 4309, '월세': 4310, '위병': 4311, '기견': 4312, '휴직': 4313, '충': 4314, '이놈': 4315, '이래라': 4316, '저래라': 4317, '휙': 4318, '광탈': 4319, '이마': 4320, '이민': 4321, '이삿짐': 4322, '안타': 4323, '가물가물': 4324, '이직각': 4325, '인강': 4326, '원서': 4327, '어니': 4328, '날렸': 4329, '모양': 4330, '잠겼': 4331, '일인자': 4332, '만보': 4333, '임신': 4334, '텁텁': 4335, '만해': 4336, '기어오른다': 4337, '폭식': 4338, '꺽': 4339, '비결': 4340, '자율': 4341, '자장가': 4342, '달랬': 4343, '자취방': 4344, '잡담': 4345, '재택근무': 4346, '재테크': 4347, '저금통': 4348, '깰까': 4349, '놔야': 4350, '전기장판': 4351, '전세': 4352, '전학': 4353, '뺄까': 4354, '눈치봐야': 4355, '가즈': 4356, '정수리': 4357, '급기': 4358, '제사': 4359, '조교': 4360, '이케': 4361, '조별': 4362, '조용히': 4363, '입학': 4364, '졸린데': 4365, '대박': 4366, '주차장': 4367, '히스테리': 4368, '발령': 4369, '배울려면': 4370, '다녀야': 4371, '중소기업': 4372, '지기': 4373, '디딜': 4374, '틈': 4375, '그만둬야': 4376, '완전체': 4377, '피맥': 4378, '빨랑': 4379, '창문': 4380, '책장': 4381, '챙길': 4382, '청강': 4383, '넘나': 4384, '체육복': 4385, '쳇바퀴': 4386, '즐겨야': 4387, '춘곤증': 4388, '원츄': 4389, '층간': 4390, '살인': 4391, '강남': 4392, '예뻐서': 4393, '다님': 4394, '작아져': 4395, '풀려': 4396, '친척': 4397, '휘': 4398, '카풀': 4399, '고장났': 4400, '느려졌': 4401, '근질': 4402, '간지러워': 4403, '코골이': 4404, '코딩': 4405, '코인': 4406, '코코넛': 4407, '콧물': 4408, '쿠폰': 4409, '모았': 4410, '크루즈': 4411, '기막혀': 4412, '태몽': 4413, '텀블러': 4414, '잔고': 4415, '통학': 4416, '팀': 4417, '파마': 4418, '연': 4419, '팔뚝': 4420, '두꺼워': 4421, '패키지여행': 4422, '아르바이트': 4423, '평일': 4424, '먹방': 4425, '꺼질': 4426, '닳': 4427, '나옴': 4428, '젠가': 4429, '프로젝트': 4430, '프리마': 4431, '피어싱': 4432, '본지': 4433, '언젠지': 4434, '하품': 4435, '물린다': 4436, '학회': 4437, '한복': 4438, '한약': 4439, '한자': 4440, '꺼지': 4441, '뿌려도': 4442, '될라나': 4443, '호텔': 4444, '로비': 4445, '혼영': 4446, '홈': 4447, '참으': 4448, '화이트데이': 4449, '휴양지': 4450, '휴지': 4451, '흰머리': 4452, '힌트': 4453, '1000': 4454, '14': 4455, '럽': 4456, '한테서': 4457, '젔': 4458, '갑작스런': 4459, '종착역': 4460, '막바지': 4461, '는대도': 4462, '40': 4463, '목전': 4464, '엊그제': 4465, '600': 4466, '만납니다': 4467, '해야할까': 4468, '바쳤': 4469, '유흥업소': 4470, '해어진': 4471, 'jk': 4472, '김동욱': 4473, '가벼워졌': 4474, '숨쉬기': 4475, '가까웠': 4476, '간통': 4477, '덜컹': 4478, '다녀온': 4479, '올립니다': 4480, '해온': 4481, '개거': 4482, '헤어져서': 4483, '걸핏하면': 4484, '납니다': 4485, '추스렸': 4486, '견딘다는': 4487, '꿈꿨': 4488, '전했': 4489, '사고': 4490, '바꿨': 4491, '전재': 4492, '선다고': 4493, '맴돈': 4494, '증': 4495, '얽매여': 4496, '덜컥': 4497, '다더니': 4498, '다녔': 4499, '그나저나': 4500, '주절주절': 4501, '섞': 4502, '여잘': 4503, '모조리': 4504, '한나': 4505, '졋습니다': 4506, '그놈': 4507, '만약': 4508, '외로울': 4509, '흔들림': 4510, '계신': 4511, '오더': 4512, '라구': 4513, '묘한': 4514, '왜곡': 4515, '마세': 4516, '아파야': 4517, '나온다는': 4518, '나왓': 4519, '무방비': 4520, '라지만': 4521, '해질까': 4522, '거쳐간': 4523, '는다네': 4524, '놓이': 4525, '구질': 4526, '자만심': 4527, '결코': 4528, '네버': 4529, '절대로': 4530, '져서인지': 4531, '남긴': 4532, '이런가': 4533, '지우개': 4534, '이기심': 4535, '부렸': 4536, '생각난다': 4537, '올라왔': 4538, '이듭': 4539, '쓴다': 4540, '말랐': 4541, '슬퍼도': 4542, '잡동사니': 4543, '크리': 4544, '마스': 4545, '어떠셨': 4546, '견딜까': 4547, '세용': 4548, '비해': 4549, '뺏긴': 4550, '원점': 4551, '볼려구': 4552, '답답증': 4553, '본심': 4554, '돌이키': 4555, '동성동본': 4556, '질려고': 4557, '바닥': 4558, '욌': 4559, '기다립니다': 4560, '뜬금': 4561, '뜬금없이': 4562, '뜬눈': 4563, '지새웠': 4564, '뜻밖에': 4565, '롤': 4566, '코스터': 4567, '리턴': 4568, '힘겨움': 4569, '처량': 4570, '꽉': 4571, '막힌': 4572, '초조': 4573, '어려워서': 4574, '보낼까': 4575, '졋': 4576, '약해졌': 4577, '결별': 4578, '망각': 4579, '허황': 4580, '매달린': 4581, '발신자': 4582, '제한': 4583, '내치': 4584, '캔': 4585, '식히': 4586, '듦이': 4587, '핑핑': 4588, '도네': 4589, '멀쩡': 4590, '멘붕': 4591, '잠잠': 4592, '명치': 4593, '매달려': 4594, '진다는데': 4595, '진다는': 4596, 'ㅎ': 4597, '눈물샘': 4598, '덩어리': 4599, '모음': 4600, '아선': 4601, '미운': 4602, '미워할': 4603, '련': 4604, '바빠졌': 4605, '반가운': 4606, '받아들여야지': 4607, '감수성': 4608, '터짐': 4609, '백만': 4610, '즈음': 4611, '다가올까': 4612, '버려졌': 4613, '지침서': 4614, '베인': 4615, '베이': 4616, '별똥별': 4617, '병장': 4618, '칠': 4619, '부서진': 4620, '부치': 4621, '불꽃': 4622, '떠오른다': 4623, '막걸리': 4624, 'ㅎㅎㅎ': 4625, '고픈데': 4626, '됐었': 4627, '으란': 4628, '홧': 4629, '병나': 4630, '모순': 4631, '남긴다': 4632, '반대말': 4633, '회색빛': 4634, '살빼': 4635, '살아간다': 4636, '훌러덩': 4637, '맙': 4638, '앞서': 4639, '새롭': 4640, '신천': 4641, '복마': 4642, '보여준': 4643, '조각': 4644, '서른': 4645, '초반': 4646, '즘': 4647, '게시': 4648, '설레였': 4649, '뻣': 4650, '응어리': 4651, '속시': 4652, '수면제': 4653, '순진': 4654, '술병': 4655, '수지': 4656, '인색': 4657, '위통': 4658, '되돌리': 4659, '지날수록': 4660, '시원섭섭': 4661, '줄래': 4662, '주저': 4663, '터질': 4664, '싸구려': 4665, '쏘': 4666, '버렷': 4667, '아른거려': 4668, '아따': 4669, '엿': 4670, '먹일': 4671, '그만둔': 4672, '치밀': 4673, '매달려도': 4674, '먹히': 4675, '아오': 4676, '힙': 4677, '벌떡': 4678, '답인': 4679, '습니': 4680, '캄캄': 4681, '경기': 4682, '자던': 4683, '양가': 4684, '보일지': 4685, '훌쩍': 4686, '벌주': 4687, '창가': 4688, '매달려서': 4689, '달했었': 4690, '흘': 4691, '립니': 4692, '어째야': 4693, '결말': 4694, '잊혀질까': 4695, '이빠이': 4696, '에이구': 4697, '여섯': 4698, '23': 4699, '떠가': 4700, '헤': 4701, '져야': 4702, '느라고': 4703, '붓': 4704, '세운': 4705, '핸': 4706, '질리나': 4707, '밀려왔': 4708, '충동': 4709, '연말': 4710, '연상녀': 4711, '졋네': 4712, '연차': 4713, '에다가': 4714, '화풀이': 4715, '메일': 4716, '통': 4717, '어여': 4718, '어김없이': 4719, '포장마차': 4720, '텻': 4721, '로써': 4722, '깔끔히': 4723, '내립니다': 4724, '발렌타': 4725, '써볼까': 4726, '매달': 4727, '림': 4728, '오랫만': 4729, '온종일': 4730, '했을까': 4731, '제자신이': 4732, '흔들': 4733, '블로그': 4734, '외로울까': 4735, '의문': 4736, '커져': 4737, '쏟아져': 4738, '조성모': 4739, '퍼붓': 4740, '왓': 4741, '가벼웠': 4742, '도진': 4743, '운세': 4744, '윤종신': 4745, '으으': 4746, '으휴': 4747, '들으면서': 4748, '보낼지': 4749, '하직': 4750, '용납': 4751, '아파도': 4752, '이러면': 4753, '글귀': 4754, '만났었': 4755, '안대용': 4756, '119': 4757, '달차': 4758, '400': 4759, '쓴지': 4760, '덧': 4761, '사유': 4762, '함인': 4763, '해진다': 4764, '버텨라': 4765, '지쳐버렸': 4766, '주년': 4767, '정신병자': 4768, '당시': 4769, '그적': 4770, '힘드신': 4771, '받아들인다는': 4772, '자나': 4773, '해결책': 4774, '순기능': 4775, '별증': 4776, '후군': 4777, '욕했': 4778, '괴롭히': 4779, '성간': 4780, '성큼': 4781, '아름다워': 4782, '꺼져': 4783, '느껴진다': 4784, '퍼즐': 4785, '지운': 4786, '괜잖아진거같아': 4787, '하하': 4788, '잡아가': 4789, '으려구': 4790, '렵니다': 4791, '이제서야': 4792, '아팠': 4793, '스케줄': 4794, '말라버렸': 4795, '줄게': 4796, '해얄': 4797, '줄라고': 4798, '칩니다': 4799, '이해심': 4800, '밥상': 4801, '인과응보': 4802, '도착': 4803, '궁상': 4804, '일전': 4805, '입원': 4806, '마이': 4807, '바뀐': 4808, '무던히': 4809, '그리워지': 4810, '잊혀진다는': 4811, '인듯': 4812, '중심': 4813, '엊그젠데': 4814, '작년': 4815, '설치': 4816, '잡힐': 4817, '잡히': 4818, '장가간': 4819, '장기간': 4820, '다림': 4821, '걸쳐서': 4822, '할라구': 4823, '부친상': 4824, '띄웠': 4825, '곧장': 4826, '꿧': 4827, '나아진다': 4828, '따라온다': 4829, '구제': 4830, '불능': 4831, '멍청이': 4832, '뭉개': 4833, '계신가': 4834, '잡혀': 4835, '칩': 4836, '엊': 4837, '갈림': 4838, '질지': 4839, '웃긴': 4840, '견딜': 4841, '수단': 4842, '동원': 4843, '다녀와서': 4844, '처방전': 4845, '일치': 4846, '냐면': 4847, '인한': 4848, '젠장': 4849, '아픈가': 4850, '껄': 4851, '할걸': 4852, '조바심': 4853, '조울증': 4854, '무한': 4855, '잿빛': 4856, '아라': 4857, '마디': 4858, '후벼': 4859, '파': 4860, '지나간다': 4861, '지난주': 4862, '지루함': 4863, '을려고': 4864, '떠들': 4865, '쩝': 4866, '쫌': 4867, '스러운데': 4868, '더라면': 4869, '악연': 4870, '소박': 4871, '으네': 4872, '자라': 4873, '지껄이': 4874, '뒤집': 4875, '구역': 4876, '참담': 4877, '볼께': 4878, '천사': 4879, '아픕니다': 4880, '초코': 4881, '렛': 4882, '지낸다는': 4883, '카카오톡': 4884, '계정': 4885, '단시': 4886, '빔': 4887, '훅': 4888, '툭하면': 4889, '고놈': 4890, '투덜투덜': 4891, '하나하나': 4892, '사흘': 4893, '하소연': 4894, '터진': 4895, '한달전': 4896, '변한걸': 4897, '진하': 4898, '괜찬아': 4899, '부재': 4900, '미워지': 4901, '쌓여': 4902, '한쪽': 4903, '달라질까': 4904, '해라': 4905, '행여': 4906, '쥐': 4907, '아닙니다': 4908, '헉': 4909, '금기': 4910, '헛웃음': 4911, '려니': 4912, '미움': 4913, '소연': 4914, '다면서': 4915, '자더니': 4916, '행적': 4917, '콘서트': 4918, '티비': 4919, '들어간다고': 4920, '해바라기': 4921, '몰아쳐': 4922, '42': 4923, '삽니다': 4924, '지나다니': 4925, '됬': 4926, '25': 4927, '타협': 4928, '혜진': 4929, '확정': 4930, '혹시나': 4931, '술중': 4932, 'ㅠㅠㅠ': 4933, '홀로': 4934, '화낼': 4935, '화창': 4936, '햇살': 4937, '앞둬': 4938, '후아': 4939, '후우': 4940, '휘성': 4941, '착찹': 4942, '멈춰야': 4943, '흐': 4944, '잌': 4945, '닷': 4946, '제조': 4947, '완료': 4948, '몸부림': 4949, '레알': 4950, '사인': 4951, '간간히': 4952, '감정싸움': 4953, '긋': 4954, '거래처': 4955, '직원': 4956, '먼데': 4957, '아이템': 4958, '결혼식장': 4959, '며느리': 4960, '전제': 4961, '뱄': 4962, '공공': 4963, '마자': 4964, '과묵': 4965, '과함': 4966, '좋아할까요': 4967, '쳐다': 4968, '누름': 4969, '갇혀': 4970, '어울렸': 4971, '뚱뚱': 4972, '화냈': 4973, '윗집': 4974, '엮': 4975, '엮이': 4976, '사귈래': 4977, '사귐': 4978, '바라지': 4979, '생길까': 4980, '줄어든': 4981, '나이트': 4982, '이래도': 4983, '접근': 4984, '금사': 4985, '사라짐': 4986, '성관': 4987, '채': 4988, '영장': 4989, '국밥': 4990, '꽈': 4991, '쳐다봄': 4992, '쪘': 4993, '쎄': 4994, '잊어버려': 4995, '챙겨줘': 4996, '떨어져야': 4997, '싸울까': 4998, '앨범': 4999, '도도': 5000, '방구': 5001, '텄': 5002, '학력': 5003, '떨어진': 5004, '불러야': 5005, '투정': 5006, '불신': 5007, '사이트': 5008, '워커': 5009, '홀릭': 5010, '편복': 5011, '효자': 5012, '들킨': 5013, '온통': 5014, '너야': 5015, '첫사랑': 5016, '배래': 5017, '기댄': 5018, '몰아붙였': 5019, '해줘서': 5020, '깼': 5021, '변함': 5022, '알아챘': 5023, '창': 5024, '누군지': 5025, '둔한데': 5026, '쉬워': 5027, '이뤄진': 5028, '간당': 5029, '울렁거려': 5030, '아네': 5031, '오래갈': 5032, '넘치': 5033, '이쁜데': 5034, '어울린대': 5035, '동네': 5036, '딩크족': 5037, '띠동갑': 5038, '랩': 5039, '밀어내': 5040, '유형': 5041, '말수': 5042, '맞춤': 5043, '매년': 5044, '밟혀': 5045, '수요일': 5046, '메리지': 5047, '블루': 5048, '모닝콜': 5049, '몰두': 5050, '반려자': 5051, '다름': 5052, '바람기': 5053, '박력': 5054, '끌림': 5055, '보태': 5056, '신대': 5057, '칼': 5058, '베기': 5059, '불타올랐': 5060, '들켜서': 5061, '복만': 5062, '써도': 5063, '나쁜데': 5064, '떨린다': 5065, '배워요': 5066, '알려준': 5067, '죄인': 5068, '빠진': 5069, '초월': 5070, '묘약': 5071, '뭔데': 5072, '싹': 5073, '떠난대': 5074, '모잘라': 5075, '미지근': 5076, '덧나': 5077, '아껴야': 5078, '진대': 5079, '살며시': 5080, '섹스': 5081, '리스': 5082, '률': 5083, '할까봐': 5084, '드메': 5085, '승부': 5086, '챘': 5087, '싸운다': 5088, '당함': 5089, '놀려': 5090, '생선': 5091, '야한': 5092, '편해도': 5093, '배낭': 5094, '직장인': 5095, '빼앗길까봐': 5096, '사인데': 5097, '뽀뽀': 5098, '뚝': 5099, '떄': 5100, '갈지': 5101, '발렌타인': 5102, '스윗': 5103, '둔한': 5104, '취한': 5105, '나간대': 5106, '잠궈': 5107, '펜': 5108, '셥': 5109, '궁합': 5110, '모텔': 5111, '지킴': 5112, '넘가': 5113, '싸늘': 5114, '보재': 5115, '지침': 5116, '씨씨': 5117, '아낌없이': 5118, '내편': 5119, '교할': 5120, '정운': 5121, '데려': 5122, '변했': 5123, '어릴': 5124, '동창회': 5125, '여리여리': 5126, '여린': 5127, '여사': 5128, '느릴': 5129, '배신감': 5130, '떨어뜨려': 5131, '챙': 5132, '더치페이': 5133, '베지': 5134, '리언': 5135, '쪄서': 5136, '좋아해서': 5137, '춤': 5138, '춘다는': 5139, '스러움': 5140, '장명': 5141, '퓨저': 5142, '깜놀': 5143, '사려': 5144, '연극': 5145, '친군가': 5146, '감흥': 5147, '사라져': 5148, '고수': 5149, '다를까': 5150, '해줘야': 5151, '해몽': 5152, '사귄다': 5153, '싸울': 5154, '마마보이': 5155, '빈손': 5156, '멋졌': 5157, '이뻤': 5158, '두근거려': 5159, '나와요': 5160, '모은': 5161, '서글퍼': 5162, '돌려도': 5163, '뻔히': 5164, '지점': 5165, '좋아한': 5166, '수학원': 5167, '생겨요': 5168, '장난치': 5169, '맞췄': 5170, '귀국': 5171, '다스릴': 5172, '억제': 5173, '차이점': 5174, '간다고': 5175, '차가워서': 5176, '오래가': 5177, '소재': 5178, '볼까요': 5179, '입대': 5180, '헤어졌으면': 5181, '어린애': 5182, '전할': 5183, '센치': 5184, '친신': 5185, '팔린': 5186, '맞춰야': 5187, '쓴다는': 5188, '다른데': 5189, '스러워할까봐': 5190, '여럿': 5191, '할꺼': 5192, '사연': 5193, '돼라': 5194, '영영': 5195, '당할까봐': 5196, '자자': 5197, '우상': 5198, '여선': 5199, '심각': 5200, '눌렀': 5201, '쪽팔려': 5202, '불쌍': 5203, '시비': 5204, '미워질': 5205, '당해도': 5206, '나올까': 5207, '이쁘': 5208, '모레': 5209, '출국': 5210, '섞인': 5211, '전여': 5212, '뺏길': 5213, '삐딱': 5214, '선수': 5215, '잘생긴': 5216, '착해': 5217, '평': 5218, '더러워졌': 5219, '친해서': 5220, '대잔치': 5221, '밤늦': 5222, '더리': 5223, '시덥': 5224, '은근슬쩍': 5225, '쓰임': 5226, '나옵니다': 5227, '바꿈': 5228, '찝적': 5229, '끌려': 5230, '착가': 5231, '껀': 5232, '물어도': 5233, '쳐요': 5234, '치정': 5235, '다가갈': 5236, '잘나': 5237, '차임': 5238, '랠까': 5239, '솔': 5240, '탈함': 5241, '템': 5242, '반함': 5243, '반해서': 5244, '이를까': 5245, '출산': 5246, '이직': 5247, '브라이': 5248, '예뻐졌': 5249, '커뮤니티': 5250, '벗겨져': 5251, '벗겨지': 5252, '팔베개': 5253, '저린': 5254, '풋풋': 5255, '샘': 5256, '폭': 5257, '내편이': 5258, '숙소': 5259, '볼래요': 5260, '홧김': 5261, '마추': 5262, '쳐': 5263, '흑기사': 5264, '중퇴': 5265, '친지': 5266, '일그러지': 5267, '테니스': 5268, '통지': 5269, '실습': 5270, '광범위': 5271, '배제': 5272, '칭송': 5273, '싫증': 5274, '공표': 5275, '난잡': 5276, '손등': 5277, '항': 5278, '구입': 5279, '퍼뜨리': 5280, '수증기': 5281, '순경': 5282, '부엌': 5283, '찍히': 5284, '혈압': 5285, '매우': 5286, '점막': 5287, '촨': 5288, '별칭': 5289, '대개': 5290, '아약스': 5291, '동작': 5292, '흐트': 5293, '연중': 5294, '일자리': 5295, '째이': 5296, '게시물': 5297, '코미디': 5298, '단락': 5299, '꺾이': 5300, '드가': 5301, '페': 5302, '갇히': 5303, '장해': 5304, '온의': 5305, '대관식': 5306, '거룩': 5307, '기무': 5308, '예진': 5309, '친숙': 5310, '언동': 5311, '씌이': 5312, '쫒기': 5313, '허': 5314, '강력히': 5315, '수꽃': 5316, '지성': 5317, '달르': 5318, '눈살': 5319, '찌푸려': 5320, '편해요': 5321, '기관': 5322, '아픈가요': 5323, '살쪄': 5324, '알아차리': 5325, '알아차려': 5326, '세수': 5327, '건데요': 5328, '아세요': 5329, '이룰': 5330, '인맥': 5331, '천지': 5332, '허례허식': 5333, '뇌세포': 5334, '공급': 5335, '최우선': 5336, '저기압': 5337, '인복': 5338, '밥통': 5339, '금물': 5340, '제철': 5341, '계단': 5342, '채널': 5343, '기다린다는': 5344, '몰라서': 5345, '쉬운데': 5346, '잠길': 5347, '조심히': 5348, '밥심': 5349, '기쁜': 5350, '대인배': 5351, '정색': 5352, '일반인': 5353, '잘라요': 5354, '낙담': 5355, '미끄러우': 5356, '마트': 5357, '갑시다': 5358, '솜씨': 5359, '드라이플라워': 5360, '즐거워요': 5361, '거창': 5362, '경찰': 5363, '취할': 5364, '조취': 5365, '꼬까옷': 5366, '어울려': 5367, '걸으': 5368, '평범': 5369, '초심': 5370, '개발': 5371, '저마다': 5372, '부담감': 5373, '뒤통수': 5374, '만드세요': 5375, '강박': 5376, '분배': 5377, '전형': 5378, '어려서': 5379, '챙겨야': 5380, '나이테': 5381, '킁킁': 5382, '곱': 5383, '헤어나올': 5384, '미스트': 5385, '가습기': 5386, '제습기': 5387, '쓰리': 5388, '몰려가': 5389, '설': 5390, '인공지능': 5391, '전생': 5392, '결단': 5393, '떠올려': 5394, '공동육아': 5395, '그걸': 5396, '포커페이스': 5397, '가져도': 5398, '나빴': 5399, '어딘가': 5400, '천하': 5401, '독특': 5402, '연연': 5403, '저축': 5404, '기우제': 5405, '군침': 5406, '이어주': 5407, '어흥': 5408, '호랑이': 5409, '다워야': 5410, '외로우': 5411, '귤': 5412, '주소': 5413, '내렸': 5414, '줄어들': 5415, '인공': 5416, '해로우': 5417, '친하': 5418, '진실로': 5419, '골반': 5420, '떨기': 5421, '주물주물': 5422, '종아리': 5423, '쉬울': 5424, '기초': 5425, '사량': 5426, '높여': 5427, '0': 5428, '꿩': 5429, '빌렸': 5430, '알아줄': 5431, '장단점': 5432, '분석': 5433, '부러우': 5434, '명확': 5435, '무궁무진': 5436, '찬물': 5437, '차가운': 5438, '보약': 5439, '더없이': 5440, '챙긴다는': 5441, '유의': 5442, '모여': 5443, '차용증': 5444, '차곡차곡': 5445, '눈높이': 5446, '순서': 5447, '뒤돌아봐': 5448, '신선': 5449, '맡기': 5450, '전달': 5451, '망가뜨리': 5452, '의외로': 5453, '봉지': 5454, '손맛': 5455, '회원': 5456, '정보': 5457, '추울': 5458, '손재주': 5459, '생긴다고': 5460, '던데요': 5461, '귀차': 5462, '니즘': 5463, '이치': 5464, '잠자리': 5465, '소맥': 5466, '그러다가': 5467, '압': 5468, '다듬기': 5469, '모발': 5470, '탈모': 5471, '두통약': 5472, '파먹': 5473, '달렸': 5474, '대해서': 5475, '고가': 5476, '반한': 5477, '목감기': 5478, '피로': 5479, '지불': 5480, '려나요': 5481, '평안': 5482, '부지런': 5483, '환해': 5484, '감상': 5485, '배움': 5486, '활기찬': 5487, '탁': 5488, '트인': 5489, '뒤따르': 5490, '맥주병': 5491, '살살': 5492, '문질러': 5493, '녹여서': 5494, '떨려요': 5495, '소분': 5496, '냉동실': 5497, '보관': 5498, '배고프': 5499, '누룽지': 5500, '꼬르륵': 5501, '허리띠': 5502, '졸라': 5503, '꼬리': 5504, '밟힐': 5505, '심플': 5506, '한적': 5507, '깎인': 5508, '재설': 5509, '뿌린': 5510, '윗몸': 5511, '일으키': 5512, '두근': 5513, '거려요': 5514, '동심': 5515, '지상': 5516, '말씀드려': 5517, '셔도': 5518, '향한': 5519, '수없이': 5520, '블록': 5521, '체인': 5522, '보안': 5523, '꼬박꼬박': 5524, '움츠러들': 5525, '참고': 5526, '안전거리': 5527, '탈취제': 5528, '뿌려': 5529, '뿌듯': 5530, '써서': 5531, '인도': 5532, '애그': 5533, '양식': 5534, 'gogo': 5535, '화난': 5536, '스타일러': 5537, '벅찰': 5538, '텐': 5539, '손길': 5540, '달랐': 5541, '부정': 5542, '파급': 5543, '력': 5544, '소액': 5545, '급하': 5546, '소독': 5547, '로망': 5548, '정정': 5549, '노려': 5550, '식초': 5551, '녹여': 5552, '솔솔': 5553, '길러도': 5554, '미리미리': 5555, '주당': 5556, '주량': 5557, '낮춰': 5558, '균형': 5559, '실컷': 5560, '쟁여': 5561, '방면': 5562, '어려우': 5563, '흘러갑니다': 5564, '노려보': 5565, '되게': 5566, '빼앗겼': 5567, '애착': 5568, '놨나': 5569, '곤두세우': 5570, '당번': 5571, '정해서': 5572, '기다릴게요': 5573, '드릴까요': 5574, '북치': 5575, '기박': 5576, '헥헥': 5577, '놔둬야': 5578, '차면': 5579, '분리': 5580, '수거': 5581, '몸약': 5582, '배웠': 5583, '키울': 5584, '색감': 5585, '적성': 5586, '프로그램': 5587, '낙이': 5588, '할인점': 5589, '애국가': 5590, '무죄': 5591, '만화': 5592, '동그란': 5593, '지원': 5594, '내려보': 5595, '꿰': 5596, '빛': 5597, '나온다': 5598, '놓쳐서': 5599, '타임': 5600, '머신': 5601, '불과': 5602, '따라와': 5603, '이뻐': 5604, '지나갑니다': 5605, '구릿빛': 5606, '당해요': 5607, '눕': 5608, '반가울': 5609, '수당': 5610, '내려올': 5611, '예쁠': 5612, '가져오': 5613, '강추위': 5614, '노동': 5615, '광합성': 5616, '착용': 5617, '삼재': 5618, '예보': 5619, '도구': 5620, '필연': 5621, '식이': 5622, '요법': 5623, '멋': 5624, '할땐': 5625, '울면': 5626, '우먼': 5627, '배워도': 5628, '이뻐요': 5629, '다가갔': 5630, '꼼수': 5631, '모아야': 5632, '챙겼': 5633, '자료': 5634, '배상': 5635, '청구': 5636, '이웃': 5637, '으로부터': 5638, '태어날': 5639, '뒹글': 5640, '부추기': 5641, '심한가': 5642, '옷깃': 5643, '스쳐도': 5644, '밑거름': 5645, '체력': 5646, '주무셨': 5647, '내요': 5648, '다녀와': 5649, '헹궈': 5650, '기실': 5651, '녹음': 5652, '악수': 5653, '해져도': 5654, '독립': 5655, '뻐근': 5656, '물가': 5657, '간질간질': 5658, '어쨌든': 5659, '해로워': 5660, '기특': 5661, '살려도': 5662, '뜨끈': 5663, '질척거리': 5664, '쪼잔': 5665, '한눈팔': 5666, '요긴': 5667, '언어': 5668, '위치': 5669, '팀워크': 5670, '망해': 5671, '스러우': 5672, '망하': 5673, '바퀴': 5674, '짠하': 5675, '다녀도': 5676, '중문': 5677, '신상': 5678, '차차': 5679, '별별': 5680, '분출': 5681, '청소기': 5682, '분야': 5683, '고서점': 5684, '바라봤': 5685, '난데': 5686, '종목': 5687, '마치': 5688, '라뇨': 5689, '공채': 5690, '침해': 5691, '따라오': 5692, '유유상종': 5693, '얽힌': 5694, '충부': 5695, '복원': 5696, '카페인': 5697, '쥬스': 5698, '시럽': 5699, '포맷': 5700, '수제': 5701, '건들이': 5702, '정글': 5703, '갈렸': 5704, '케빈': 5705, '나이스': 5706, '기사': 5707, '송장': 5708, '째깍째깍': 5709, '아웃풋': 5710, '주의': 5711, '펭귄': 5712, '들어줄': 5713, '추세': 5714, '졸린가': 5715, '범죄': 5716, '으아': 5717, '발급': 5718, '티끌': 5719, '태산': 5720, '캬': 5721, '지름신': 5722, '강림': 5723, '외쳐': 5724, '픽서': 5725, '허하': 5726, '향해': 5727, '쓰디쓴': 5728, '이어져서': 5729, '쉼표': 5730, '버거울': 5731, '잦': 5732, '가져요': 5733, '어려웠을': 5734, '버텨냈': 5735, '워워': 5736, '종이': 5737, '젹': 5738, '여여': 5739, '는군요': 5740, '괴로울': 5741, '행동파': 5742, '큐피드': 5743, '편치': 5744, '흔들릴': 5745, '365': 5746, '놔주': 5747, '애잔': 5748, '뗄': 5749, '툭툭': 5750, '그랬었': 5751, '나쁠': 5752, '지워질': 5753, '아플까': 5754, '발현': 5755, '본다면': 5756, '만납시다': 5757, '지날': 5758, '스런': 5759, '메워질': 5760, '구질구질': 5761, '계륵': 5762, 'xx': 5763, '변치': 5764, '반짝반짝': 5765, '빈': 5766, '옳소': 5767, '버텨낼': 5768, '내려오': 5769, '끌어올려': 5770, '끄집': 5771, '흘려도': 5772, '두기': 5773, '빨간': 5774, '그런가요': 5775, '꿎': 5776, '되돌이표': 5777, '버렸으면': 5778, '지워져요': 5779, '따질': 5780, '따져요': 5781, '여전': 5782, '어스름': 5783, '차가워질': 5784, '꿰매': 5785, '그럼에도': 5786, '모릅니다': 5787, '전문가': 5788, '한껏': 5789, '잘려나간': 5790, '남겨진': 5791, '처러': 5792, '두려운가': 5793, '가져간': 5794, '잊어버려요': 5795, '멍해질': 5796, '해치': 5797, '마을': 5798, '제목': 5799, '불현듯': 5800, '남겨요': 5801, '목록': 5802, '우릴': 5803, '시킬': 5804, '살랑살랑': 5805, '돌아갑시다': 5806, '져서': 5807, '편히': 5808, '흘러': 5809, '탄생': 5810, '흔들리지마': 5811, '뻥': 5812, '붙일': 5813, '노렸': 5814, '빗소리': 5815, '주룩주룩': 5816, '제길': 5817, '내려놔요': 5818, '잔해': 5819, '잠기': 5820, '놨다': 5821, '무지갯빛': 5822, '지워도': 5823, '벤츠': 5824, '펼쳐질': 5825, '충실': 5826, '벌려': 5827, '바랐': 5828, '아른거리': 5829, '앞일': 5830, '고히': 5831, '휘둘려선': 5832, '마법': 5833, '통했': 5834, '탁월': 5835, '희미': 5836, '토닥여': 5837, '뜁니다': 5838, '설쳤': 5839, '아스피린': 5840, '견뎌냈': 5841, '돌아올지': 5842, '그리워했': 5843, '닦': 5844, '으지': 5845, '깨질지': 5846, '질타': 5847, '돌아와요': 5848, '몹시': 5849, '괴로우': 5850, '속상했': 5851, '버릴수록': 5852, '내려야': 5853, '로울': 5854, '심란': 5855, '변해야할': 5856, '놓친': 5857, '아보': 5858, '물들': 5859, '터닝': 5860, '여느': 5861, '했긴': 5862, '나았': 5863, '사무치': 5864, '안겨': 5865, '편안히': 5866, '헤아려도': 5867, '적적': 5868, '정해진': 5869, '받아들였': 5870, '밀어두': 5871, '떨칠': 5872, '갑진': 5873, '뜨거운': 5874, '사라질지': 5875, '보장': 5876, '다쳐요': 5877, '기에요': 5878, '태연히': 5879, '힘드실': 5880, '다투': 5881, '털털': 5882, '따를': 5883, '계셨': 5884, '밝': 5885, '생긴다면': 5886, '헤치': 5887, '지녔': 5888, '내보내': 5889, '기류': 5890, '머뭇거리': 5891, '그곳': 5892, '커요': 5893, '서러운': 5894, '골': 5895, '느껴졌': 5896, 'ㅊ자아올': 5897, '선명': 5898, '헹': 5899, '타성': 5900, '절반': 5901, '못했으니': 5902, '쏜': 5903, '그래야': 5904, '상책': 5905, '행동반경': 5906, '그럴수록': 5907, '견뎌낼': 5908, '에서부터': 5909, '성취감': 5910, '견뎌왔': 5911, '두려웠': 5912, '스러운가': 5913, '재결합': 5914, '자연스레': 5915, '추스린': 5916, '한꺼번에': 5917, '옥죄': 5918, '돌려보': 5919, '꺼리': 5920, '강': 5921, '반성': 5922, '귀기울이': 5923, '원상': 5924, '복구': 5925, '그럴게요': 5926, '쪼그만': 5927, '했잖아요': 5928, '간다니': 5929, '변덕쟁이': 5930, '롤러코스터': 5931, '슬퍼요': 5932, '했으니': 5933, '연기': 5934, '갑작스러워서': 5935, '지웁시다': 5936, '결론': 5937, '아파할': 5938, '마음놓': 5939, '커졌': 5940, '뜰': 5941, '매몰차': 5942, '빛나': 5943, '개선': 5944, '빠짐없이': 5945, '아마도': 5946, '방약': 5947, '허한': 5948, '흘러갈': 5949, '직시': 5950, '회복력': 5951, '진부': 5952, '퐈': 5953, '흔': 5954, '조그만': 5955, '일어서': 5956, '양파': 5957, '규정지': 5958, '다울': 5959, '옆구리': 5960, '베푸세요': 5961, '제약': 5962, '흐리': 5963, '살펴봐요': 5964, '살랑대': 5965, '움직일': 5966, '적정선': 5967, '그걸로': 5968, '해서요': 5969, '면밀히': 5970, '육체': 5971, '신부': 5972, '발품': 5973, '어머니': 5974, '퍼센트': 5975, '행사': 5976, '욕심쟁이': 5977, '몰': 5978, '성경': 5979, '열정': 5980, '느낄지': 5981, '인내심': 5982, '도피성': 5983, '나위': 5984, '열릴': 5985, '오후': 5986, '왕자': 5987, '왕': 5988, '서방': 5989, '구구절절': 5990, '다그치': 5991, '가깝': 5992, '그런다면': 5993, '친해져': 5994, '부딛히': 5995, '찔러': 5996, '넘쳐날': 5997, '일러요': 5998, '동갑': 5999, '신겨': 6000, '두려워도': 6001, '바빴': 6002, '나타납니다': 6003, '고를': 6004, '트였': 6005, '느껴져요': 6006, '맞장구쳐': 6007, '직설': 6008, '권유': 6009, '가질': 6010, '클리닉': 6011, '굽힐': 6012, '해버려서': 6013, '유도': 6014, '보살': 6015, '다른가': 6016, '떨어진다고': 6017, '왔다갔다': 6018, '생리': 6019, '등등': 6020, '주눅': 6021, '맞춰줄': 6022, '합의점': 6023, '떠서': 6024, '빠질까': 6025, '평행선': 6026, '올인': 6027, '느껴진다면': 6028, '안타까운': 6029, '편합니다': 6030, '깊숙이': 6031, '진중': 6032, '보인': 6033, '통해야': 6034, '테니': 6035, '수월': 6036, '알아차렸': 6037, '어머나': 6038, '탑': 6039, '너그럽': 6040, '고마워할': 6041, '방망이': 6042, '느낀다는': 6043, '홈닥터': 6044, '놀이동산': 6045, '투어': 6046, '즐거워지': 6047, '주길': 6048, '꺼려': 6049, '흔치': 6050, '엄청난': 6051, '몸짓': 6052, '여겨': 6053, '옮기': 6054, '갖춰서': 6055, '뿅뿅': 6056, '활력소': 6057, '결핍': 6058, '떨렸': 6059, '부인사': 6060, '걸림돌': 6061, '기다려줄': 6062, '맡': 6063, '들어갔': 6064, '체질': 6065, '자식': 6066, '화합': 6067, '오를': 6068, '글로': 6069, '생텍쥐베리': 6070, '곳곳': 6071, '끗': 6072, '다정다감': 6073, '이것저것': 6074, '각': 6075, '작아질': 6076, '능동': 6077, '울라프': 6078, '헐크': 6079, '쎌': 6080, '종족': 6081, '번식': 6082, '작용': 6083, '밸': 6084, '내게도': 6085, '상당히': 6086, '가벼움': 6087, '교란': 6088, '노라': 6089, '맞출': 6090, '화학': 6091, '접촉': 6092, '독차지': 6093, '신호': 6094, '한눈': 6095, '자격지심': 6096, '그리우': 6097, '동일시': 6098, '불타오르': 6099, '휴식기': 6100, '나온대요': 6101, '맴도': 6102, '내뱉': 6103, '나빠질': 6104, '어쩐지': 6105, '위하': 6106, '생가': 6107, '뿐이': 6108, '가랑비': 6109, '으셨으면': 6110, '한정식': 6111, '찔러보': 6112, '메에': 6113, '이끌리': 6114, '소용': 6115, '살아왔': 6116, '찾아나서': 6117, '동의': 6118, '아가': 6119, '친근': 6120, '디뎠': 6121, '마인드': 6122, '힘겨울': 6123, '피우': 6124, '이미지': 6125, '바이': 6126, '커피숍': 6127, '스러워질': 6128, '할래요': 6129, '옷차림': 6130, '아함': 6131, '점프': 6132, '타가': 6133, '장답': 6134, '상영': 6135, '디테일': 6136, '녹아내리': 6137, '붙여서': 6138, '끄내': 6139, '줄여줄': 6140, '옮겨': 6141, '락말락': 6142, '양방향': 6143, '날릴': 6144, '공포': 6145, '빈도': 6146, '어딨': 6147, '타일러': 6148, '미녀': 6149, '본전': 6150, '소홀히': 6151, '두려워지': 6152, '깨어난': 6153, '본래': 6154, '난폭': 6155, '정한': 6156, '쏟아진다': 6157, '스러웠': 6158, '얼도': 6159, '여차': 6160, '진구': 6161, '애초': 6162, '별일': 6163, '금상첨화': 6164, '삐지': 6165, '미인': 6166, '잠꾸러기': 6167, '라던데요': 6168, '깔창': 6169, '과하': 6170, '가수': 6171, '고도': 6172, '화날': 6173, '수용': 6174, '나눈': 6175, '꿈꿀': 6176, '깨울': 6177, '편해진': 6178, '친해졌': 6179, '싸워요': 6180, '규칙': 6181, '인식': 6182, '관': 6183, '화려': 6184, '댄디': 6185, '타들': 6186, '늪': 6187, '멋진가': 6188, '아닌게': 6189, '꺼진': 6190, '타오를': 6191, '두근거려서': 6192, '긴가민가': 6193, '존재감': 6194, '그름': 6195, '비로소': 6196, '햇갈리': 6197, '씨익': 6198, '부끄러워서': 6199, '나타났나': 6200, '변할': 6201, '양면': 6202, '농도': 6203, '굴뚝': 6204, '막지': 6205, '서글픈': 6206, '면회': 6207, '갈라': 6208, '놨': 6209, '수순': 6210, '낸다면': 6211, '에게서': 6212, '쌓았': 6213, '심정': 6214, '수학': 6215, '공식': 6216, '무례': 6217, '들여다보': 6218, '도망갈': 6219, '장벽': 6220, '피치': 6221, '동선': 6222, '나서': 6223, '지대': 6224, '예매': 6225, '부끄러운': 6226, '아이쿠': 6227, '쓰인': 6228, '끝낸다면': 6229, '다가와': 6230, '여의치': 6231, '정들': 6232, '애달프': 6233, '생소': 6234, '비비': 6235, '남겼': 6236, '고충': 6237, '지켜볼': 6238, '속상해요': 6239, '경쟁자': 6240, '세계': 6241, '결실': 6242, '은근히': 6243, '겉': 6244, '올지': 6245, '엉킨': 6246, '대기': 6247, '덜한': 6248, '스러워할': 6249, '강가': 6250, '정중히': 6251, '통할지': 6252, '추우': 6253, '버려서': 6254, '그치': 6255, '는다면요': 6256, '갈게요': 6257, '덴': 6258, '걸어다니': 6259, '모자': 6260, '대수롭': 6261, '놔두': 6262, '줄지': 6263, '건냈': 6264, '바이러스': 6265, '감염': 6266, '상했': 6267, '의미심장': 6268, '메세지': 6269, '초면': 6270, '벗겨질': 6271, '콩': 6272, '손잡': 6273, '사라집니다': 6274, '김칫국': 6275, '떨어져서': 6276, '그리워할': 6277, '물어볼': 6278, '제도': 6279, '화끈': 6280, '영류왕': 6281, '좇': 6282, '부끄럽': 6283, '줄곧': 6284, '장면': 6285, '별개': 6286, '신념': 6287, '지망': 6288, '가상': 6289, '간장': 6290, '고데': 6291, '광고': 6292, '금수': 6293, '기능': 6294, '땀나': 6295, '장비': 6296, '비만': 6297, '아재': 6298, '겜': 6299, '비키': 6300, '약초': 6301, '나들이': 6302, '낙엽': 6303, '소풍': 6304, '억': 6305, '학과': 6306, '와플': 6307, '덕수궁': 6308, '유세': 6309, '룸': 6310, '똥': 6311, '끓이': 6312, '아이디': 6313, '만담': 6314, '불공평': 6315, '발레': 6316, '생활비': 6317, '보너스': 6318, '보조': 6319, '보증금': 6320, '블루투스': 6321, '사장': 6322, '사투리': 6323, '소리나': 6324, '손발': 6325, '시트': 6326, '식당': 6327, '식욕': 6328, '실험실': 6329, '잇몸': 6330, '카메라': 6331, '에이': 6332, '닝': 6333, '햇볕': 6334, '원피스': 6335, '유': 6336, '구석': 6337, '설사': 6338, '한참': 6339, '장기': 6340, '전과': 6341, '깔': 6342, '세비': 6343, '조명': 6344, '주름': 6345, '가나': 6346, '온대': 6347, '컴': 6348, '코트': 6349, '타로': 6350, '아저씨': 6351, '엄청나': 6352, '파란': 6353, '켓': 6354, '효율': 6355, '학식': 6356, '황사': 6357, '노무': 6358, '리얼': 6359, '나바': 6360, '나그네': 6361, '기로': 6362, '그나마': 6363, '지려': 6364, '무상': 6365, '따라다니': 6366, '무제': 6367, '사무': 6368, '수신': 6369, '왠': 6370, '시련': 6371, '야구': 6372, '서부터': 6373, '궁': 6374, '혀': 6375, '모질': 6376, '무기력': 6377, '리다': 6378, '종합': 6379, '위안': 6380, '나아질까': 6381, '사별': 6382, '목숨': 6383, '속지': 6384, '못한다면': 6385, '장수': 6386, '자게': 6387, '여운': 6388, '통증': 6389, '싱': 6390, '어쩌다': 6391, '몰려오': 6392, '동굴': 6393, '눈앞': 6394, '짠돌이': 6395, '사로': 6396, '게이': 6397, '발라드': 6398, '본능': 6399, '트레이닝': 6400, '삼각': 6401, '메가': 6402, '마셔서': 6403, '과소비': 6404, '섬세': 6405, '견해': 6406, '진짜로': 6407, '자전거': 6408, '몇일': 6409, '고쳤': 6410, '줬으면': 6411, '중임': 6412, '즉흥': 6413, '곤두서': 6414, '어울림': 6415, '해버림': 6416, '발매': 6417, '경합': 6418, '집중력': 6419, '멍게': 6420, '급료': 6421, '돌아': 6422, '녀석': 6423, '더군요': 6424, '스피': 6425, '일깨우': 6426, '효능': 6427, '제청': 6428, '맹세': 6429, '경량': 6430, '식물원': 6431, '우중문': 6432, '학부': 6433, '형용사': 6434, '깨어나': 6435, '훔치': 6436, '다행히': 6437, '라이징': 6438, '착색': 6439, '편차': 6440, '의류': 6441, '아목': 6442, '불안감': 6443, '단풍': 6444, '오정': 6445, '소시지': 6446, '귀하': 6447, '송만갑': 6448, '시멘트': 6449, '카탈로그': 6450, '언급': 6451, '속설': 6452, '중독자': 6453, '카본': 6454, '태엽': 6455, '범퍼': 6456, '아까': 6457, '외': 6458, '햇빛': 6459, '승용차': 6460, '곤경': 6461, '곤란': 6462, '구불': 6463, 'ㄹ': 6464, '지원금': 6465, '본위제': 6466, '양복': 6467, '숙부': 6468, '라운지': 6469, '성탄절': 6470, '벌어지': 6471, '르': 6472, '내쫓': 6473, '사카이': 6474, '더듬': 6475, '초유': 6476, '난이': 6477, '식과': 6478, '간청': 6479, '으': 6480, '주기도': 6481, '인은': 6482, '더욱더': 6483, '감과': 6484, '바오로': 6485, '총무': 6486, '베이비': 6487, '지단': 6488, '법의': 6489, '므로': 6490, '사실상': 6491, '정작': 6492, '마이클': 6493, '일대기': 6494, '최대': 6495, '부끄러움': 6496, '유감': 6497, '당뇨': 6498, '또는': 6499, '결제': 6500, '박상': 6501, '무지': 6502, '오인': 6503, '러브': 6504, '임은': 6505, '행패': 6506, '예금': 6507, '모친': 6508, '생겨나': 6509, '끝마치': 6510, '해산물': 6511, '카카오': 6512, '급히': 6513, '존칭': 6514, '효': 6515, '근래': 6516, '늘리': 6517, '콕': 6518, '이요': 6519, '경조사': 6520, '온전': 6521, '경쾌': 6522, '빼놓': 6523, '치가': 6524, '고와야': 6525, '체조': 6526, '비틀': 6527, '문의': 6528, '고비': 6529, '퍼가': 6530, '온수': 6531, '디자이너': 6532, '정화': 6533, '특이': 6534, '컨설팅': 6535, '숙면': 6536, '불안해하': 6537, '유행': 6538, '성분': 6539, '라디오': 6540, '사주': 6541, '행실': 6542, '사이즈': 6543, '몸값': 6544, '물론': 6545, '가방': 6546, '무게': 6547, '와우': 6548, '용품': 6549, '텀': 6550, '심해요': 6551, '요소': 6552, '해집니다': 6553, '수긍': 6554, '분과': 6555, '흔하': 6556, '드나': 6557, '떨치': 6558, '낮추': 6559, '정신과': 6560, '끌리': 6561, '주사': 6562, '수천': 6563, '기대치': 6564, '치고': 6565, '이날': 6566, '보입니다': 6567, '약인': 6568, '쏟아지': 6569, '생명': 6570, '다이렉트': 6571, '듀엣': 6572, '믿음직': 6573, '특종': 6574, '충실하': 6575, '쪽지': 6576, '동전': 6577, '못해서': 6578, '원해서': 6579, '장르': 6580, '할테': 6581, '굳건히': 6582, '진정한': 6583, '불빛': 6584, '병동': 6585, '실과': 6586, '입력': 6587, '재즈': 6588, '일일이': 6589, '선구': 6590, '규율': 6591, '풍경': 6592, '들어올리': 6593, '결과물': 6594, '쓸모': 6595, '멋대로': 6596, '증식': 6597, '저절로': 6598, '의리': 6599, '실재': 6600, '저희': 6601, '얕': 6602, '관계없': 6603, '집요': 6604, '넘어서': 6605, '창법': 6606, '가상현실': 6607, '고추장': 6608, '찐': 6609, '화한': 6610, '마리노': 6611, '정무직': 6612, '홍보': 6613, '개신교': 6614, '기병대': 6615, '절구': 6616, '미국': 6617, '시스템': 6618, '최댓값': 6619, '일루': 6620, '찹쌀': 6621, '설비': 6622, '태블릿': 6623, '각목': 6624, '겹': 6625, '로저': 6626, '라가': 6627, '어패류': 6628, '악취': 6629, '활엽': 6630, '고기잡이': 6631, '간쑤': 6632, '낭': 6633, '쓰키': 6634, '천만': 6635, '시동': 6636, '배구': 6637, '사용량': 6638, '육': 6639, '팬케이크': 6640, '대기업': 6641, '진학': 6642, '활약': 6643, '예우': 6644, '부당': 6645, '경복궁': 6646, '느': 6647, '개리슨': 6648, '관권': 6649, '렙': 6650, '맨틀': 6651, '닭': 6652, '튀기': 6653, '가군': 6654, '독백': 6655, '통일안': 6656, '스트로크': 6657, '본뜨': 6658, '전통문화': 6659, '반바지': 6660, '할당': 6661, '오페라': 6662, '남의': 6663, '밸브': 6664, '학비': 6665, '내분': 6666, '대결': 6667, '진한': 6668, '스테이지': 6669, '춘분': 6670, '총괄': 6671, '보험금': 6672, '조립': 6673, '모뎀': 6674, '표의': 6675, '대나무': 6676, '용역': 6677, '부사장': 6678, '방언': 6679, '중개인': 6680, '헝겊': 6681, '과격': 6682, '공문서': 6683, '사무소': 6684, '와이드': 6685, '신체': 6686, '로프': 6687, '골프장': 6688, '메디컬': 6689, '인스턴트': 6690, '빈민': 6691, '계모': 6692, '음식점': 6693, '연구실': 6694, '짚': 6695, '입술': 6696, '상상력': 6697, '사진기': 6698, '바크르': 6699, '의주': 6700, '보육': 6701, '살피': 6702, '직무': 6703, '케이': 6704, '웨이': 6705, '치장': 6706, '활발히': 6707, '검': 6708, '손실': 6709, '청바지': 6710, '올르': 6711, '아래층': 6712, '고우': 6713, '유아': 6714, '저번': 6715, '퇴임': 6716, '직과': 6717, '액세서리': 6718, '골르': 6719, '특채': 6720, '시책': 6721, '구토': 6722, '업의': 6723, '종적': 6724, '단기': 6725, '노와': 6726, '꽂': 6727, '디스': 6728, '씨티': 6729, '서귀포': 6730, '냉난방': 6731, '암갈색': 6732, '주거': 6733, '매드': 6734, '울음': 6735, '취임': 6736, '벤처': 6737, '음절': 6738, '체전': 6739, '색계': 6740, '키나': 6741, '아열대': 6742, '국물': 6743, '향이': 6744, '측정': 6745, '커다랗': 6746, '스즈키': 6747, '운전사': 6748, '어마': 6749, '돌풍': 6750, '메커니즘': 6751, '에디션': 6752, '게시판': 6753, '저드': 6754, '효율성': 6755, '식견': 6756, '낙동강': 6757, '주식회사': 6758, '잔치': 6759, '휴업': 6760, '굴곡': 6761, '팔꿈치': 6762, '즉위식': 6763, '잔혹': 6764, '케어': 6765, '오무': 6766, '너희': 6767, '올라오': 6768, '어드벤처': 6769, '지노': 6770, '느긋': 6771, 'ㄹ수록': 6772, '무너뜨리': 6773, '뺏': 6774, '해탈': 6775, '구로': 6776, '여생': 6777, '플리트': 6778, '맞닥뜨리': 6779, '제보': 6780, '급식': 6781, '애제': 6782, '그제서야': 6783, '마가': 6784, '레그': 6785, '세의': 6786, '해명': 6787, '기울어지': 6788, '격노': 6789, '정이': 6790, '필두': 6791, '솥': 6792, '불운': 6793, '송신': 6794, '괄목': 6795, '브라스': 6796, '암컷': 6797, '빌어먹': 6798, '엔젤': 6799, '알프레': 6800, '의롭': 6801, '혁': 6802, '숏': 6803, '간부': 6804, '갖추': 6805, '삭': 6806, '제치': 6807, '전산': 6808, '사돈': 6809, '시물': 6810, '훙': 6811, '실제': 6812, '게다가': 6813, '금요일': 6814, '중풍': 6815, '께서': 6816, '합본': 6817, '명확히': 6818, '고뇌': 6819, '판': 6820, '호걸': 6821, '프론트': 6822, '태의': 6823, '라이플': 6824, '두통': 6825, '려오': 6826, '라이터': 6827, '시노': 6828, '윤원로': 6829, '굉': 6830, '심문': 6831, '충고': 6832, '연못': 6833, '너르': 6834, '어메이': 6835, '좀처럼': 6836, '출토': 6837, '끔찍': 6838, '답신': 6839, '신지': 6840, '남성': 6841, '특색': 6842, '국경일': 6843, 'ㄴ지라': 6844, '얌전': 6845, '완도': 6846, '풍자': 6847, '카바': 6848, '반감': 6849, '오징어': 6850, '늦어지': 6851, '터미널': 6852, '마음속': 6853, '보컬': 6854, '트로트': 6855, '운영': 6856, '간의': 6857, '서투르': 6858, '복소수': 6859, '사각': 6860, '귀리': 6861, '약정': 6862, '심이': 6863, '참기름': 6864, '전송': 6865, '양반': 6866, '아크': 6867, '갯벌': 6868, '발리': 6869, '떠돌아다니': 6870, '코닥': 6871, '셔서': 6872, '원비': 6873, '만이': 6874, '매혹': 6875, '모세포': 6876, '학설': 6877, '꾀하': 6878, '간담회': 6879, '아롱': 6880, '출옥': 6881, '최고점': 6882, '연임': 6883, '블랑': 6884, '기악': 6885, '연관': 6886, '옛날': 6887, '곤두': 6888, '소리치': 6889, '현은': 6890, '나눔': 6891, '기흥': 6892, '새로이': 6893, '오줌': 6894, '피시': 6895, '공은': 6896, '셋쓰': 6897, '경조': 6898, '근로': 6899, '대단히': 6900, '편중': 6901, '테일': 6902, '은총': 6903, '훌륭': 6904, '장과': 6905, '빈약': 6906, '배드민턴': 6907, '깁': 6908, '공지': 6909, '툰드라': 6910, '박물관': 6911, '번은': 6912, '달라붙': 6913, '하수': 6914, '깨뜨리': 6915, '사진가': 6916, '시찰': 6917, '교화': 6918, '적재': 6919, '뚜렷': 6920, '마케팅': 6921, '행태': 6922, '단순히': 6923, '품의': 6924, '숙': 6925, 'ㅂ': 6926, '대략': 6927, '상륙함': 6928, '어쨌': 6929, '원숭이': 6930, '불매': 6931, '백화점': 6932, '성행': 6933, '불순물': 6934, '분쇄': 6935, '텔레비전': 6936, '비호': 6937, '인품': 6938, '즐거움': 6939, '계획안': 6940, '봉사자': 6941, '파브': 6942, '보상금': 6943, '명함': 6944, '새기': 6945, '일례': 6946, '탄핵': 6947, '돌려보내': 6948, '자연환경': 6949, '신입생': 6950, '악영향': 6951, '연방': 6952, '서덜': 6953, '버드': 6954, '두께': 6955, '뚜껑': 6956, '인근': 6957, '바우': 6958, '라구요': 6959, '자키': 6960, '팰리스': 6961, '되풀이': 6962, '약혼': 6963, '어쨌거나': 6964, '기뻐하': 6965, '따내': 6966, '깃털': 6967, '지하실': 6968, '때때로': 6969, '흥분': 6970, '격언': 6971, '시발점': 6972, '기념': 6973, '최소한': 6974, '달음': 6975, '보살피': 6976, '에브': 6977, '데려오': 6978, '사죄': 6979, 'ㅁ': 6980, '호시': 6981, '상가': 6982, '오류': 6983, '온몸': 6984, '기울': 6985, '에워싸': 6986, '간질': 6987, '치료제': 6988, '시가': 6989, '피력': 6990, '천차만별': 6991, '늠': 6992, '라고요': 6993, '부문': 6994, '리시버': 6995, '셔틀콕': 6996, '별다르': 6997, '감사원': 6998, '항체': 6999, '그러므로': 7000, '뒤잇': 7001, '해지': 7002, '그간': 7003, '담백': 7004, '갑작스레': 7005, '상세': 7006, '과오': 7007, '드높이': 7008, '피부색': 7009, '점유': 7010, '교외': 7011, '각서': 7012, '메우': 7013, '뇌졸중': 7014, '헤매': 7015, '심도': 7016, '질환': 7017, '바람직': 7018, '승낙': 7019, '서울시': 7020, '빻': 7021, '화이트': 7022, '인간성': 7023, '탁지부': 7024, '상표': 7025, '띄우': 7026, '아름다움': 7027, '하이': 7028, '심리학': 7029, '비옥': 7030, '인본': 7031, '부딪': 7032, '컴파일': 7033, '아서요': 7034, '당일': 7035, '용모': 7036, '착실': 7037, '어음': 7038, '랭킹': 7039, '꾀': 7040, '변': 7041, '속력': 7042, '홈런': 7043, '결렬': 7044, '멀티미디어': 7045, '액티브': 7046, '의존도': 7047, '색채': 7048, '간결': 7049, '개개인': 7050, '원곡': 7051, '눈길': 7052, '음직': 7053, '잡아먹히': 7054, '월등히': 7055, '손바닥': 7056, '표준': 7057, '여주인공': 7058, '언론': 7059, '지극': 7060, '최': 7061, '제시': 7062, '레': 7063, '킬로미터': 7064, '지폐': 7065, '척의': 7066, '찬미': 7067, '펑크': 7068, '젊': 7069, '태수': 7070, '명탐정': 7071, 'ㄹ지라도': 7072, '유사': 7073, '향락': 7074, '술집': 7075, '확고히': 7076, '선례': 7077, '내려지': 7078}\n"
          ]
        }
      ],
      "source": [
        "print(tokenizer.word_index)"
      ]
    },
    {
      "cell_type": "code",
      "execution_count": null,
      "metadata": {
        "id": "1j-6ubu7smqb"
      },
      "outputs": [],
      "source": [
        "enc_train = tokenizer.texts_to_sequences(aug_que)\n",
        "dec_train = tokenizer.texts_to_sequences(aug_ans)"
      ]
    },
    {
      "cell_type": "code",
      "execution_count": null,
      "metadata": {
        "id": "Eyq3mmt4smqb"
      },
      "outputs": [],
      "source": [
        "# 앞에서 설정한 문장 길이 40에 시작, 종료 토큰 합쳐서 42의 크기로 패딩한다.\n",
        "\n",
        "from tensorflow.keras.preprocessing.sequence import pad_sequences\n",
        "\n",
        "enc_train = pad_sequences(enc_train, padding='post', maxlen=42)\n",
        "dec_train = pad_sequences(dec_train, padding='post', maxlen=42)"
      ]
    },
    {
      "cell_type": "markdown",
      "metadata": {
        "id": "mobTdW0rsmqb"
      },
      "source": [
        "# 훈련하기\n",
        "\n",
        "이전 노드에서 미리 만들어둔 함수를 사용한다."
      ]
    },
    {
      "cell_type": "code",
      "execution_count": null,
      "metadata": {
        "id": "aO0xuaf9smqb"
      },
      "outputs": [],
      "source": [
        "# Positional Encoding 구현\n",
        "def positional_encoding(pos, d_model):\n",
        "    def cal_angle(position, i):\n",
        "        return position / np.power(10000, (2*(i//2)) / np.float32(d_model))\n",
        "\n",
        "    def get_posi_angle_vec(position):\n",
        "        return [cal_angle(position, i) for i in range(d_model)]\n",
        "\n",
        "    sinusoid_table = np.array([get_posi_angle_vec(pos_i) for pos_i in range(pos)])\n",
        "\n",
        "    sinusoid_table[:, 0::2] = np.sin(sinusoid_table[:, 0::2])\n",
        "    sinusoid_table[:, 1::2] = np.cos(sinusoid_table[:, 1::2])\n",
        "\n",
        "    return sinusoid_table"
      ]
    },
    {
      "cell_type": "code",
      "execution_count": null,
      "metadata": {
        "id": "zSJXx2BKsmqb"
      },
      "outputs": [],
      "source": [
        "# Mask  생성하기\n",
        "def generate_padding_mask(seq):\n",
        "    seq = tf.cast(tf.math.equal(seq, 0), tf.float32)\n",
        "    return seq[:, tf.newaxis, tf.newaxis, :]\n",
        "\n",
        "def generate_lookahead_mask(size):\n",
        "    mask = 1 - tf.linalg.band_part(tf.ones((size, size)), -1, 0)\n",
        "    return mask\n",
        "\n",
        "def generate_masks(src, tgt):\n",
        "    enc_mask = generate_padding_mask(src)\n",
        "    dec_enc_mask = generate_padding_mask(src)\n",
        "\n",
        "    dec_lookahead_mask = generate_lookahead_mask(tgt.shape[1])\n",
        "    dec_tgt_padding_mask = generate_padding_mask(tgt)\n",
        "    dec_mask = tf.maximum(dec_tgt_padding_mask, dec_lookahead_mask)\n",
        "\n",
        "    return enc_mask, dec_enc_mask, dec_mask"
      ]
    },
    {
      "cell_type": "code",
      "execution_count": null,
      "metadata": {
        "id": "OthpwpDssmqb"
      },
      "outputs": [],
      "source": [
        "# Multi Head Attention 구현\n",
        "class MultiHeadAttention(tf.keras.layers.Layer):\n",
        "    def __init__(self, d_model, num_heads):\n",
        "        super(MultiHeadAttention, self).__init__()\n",
        "        self.num_heads = num_heads\n",
        "        self.d_model = d_model\n",
        "        \n",
        "        self.depth = d_model // self.num_heads\n",
        "        \n",
        "        self.W_q = tf.keras.layers.Dense(d_model)\n",
        "        self.W_k = tf.keras.layers.Dense(d_model)\n",
        "        self.W_v = tf.keras.layers.Dense(d_model)\n",
        "        \n",
        "        self.linear = tf.keras.layers.Dense(d_model)\n",
        "\n",
        "    def scaled_dot_product_attention(self, Q, K, V, mask):\n",
        "        d_k = tf.cast(K.shape[-1], tf.float32)\n",
        "        QK = tf.matmul(Q, K, transpose_b=True)\n",
        "\n",
        "        scaled_qk = QK / tf.math.sqrt(d_k)\n",
        "\n",
        "        if mask is not None: scaled_qk += (mask * -1e9)  \n",
        "\n",
        "        attentions = tf.nn.softmax(scaled_qk, axis=-1)\n",
        "        out = tf.matmul(attentions, V)\n",
        "\n",
        "        return out, attentions\n",
        "        \n",
        "\n",
        "    def split_heads(self, x):\n",
        "        bsz = x.shape[0]\n",
        "        split_x = tf.reshape(x, (bsz, -1, self.num_heads, self.depth))\n",
        "        split_x = tf.transpose(split_x, perm=[0, 2, 1, 3])\n",
        "\n",
        "        return split_x\n",
        "\n",
        "    def combine_heads(self, x):\n",
        "        bsz = x.shape[0]\n",
        "        combined_x = tf.transpose(x, perm=[0, 2, 1, 3])\n",
        "        combined_x = tf.reshape(combined_x, (bsz, -1, self.d_model))\n",
        "\n",
        "        return combined_x\n",
        "\n",
        "    \n",
        "    def call(self, Q, K, V, mask):\n",
        "        WQ = self.W_q(Q)\n",
        "        WK = self.W_k(K)\n",
        "        WV = self.W_v(V)\n",
        "        \n",
        "        WQ_splits = self.split_heads(WQ)\n",
        "        WK_splits = self.split_heads(WK)\n",
        "        WV_splits = self.split_heads(WV)\n",
        "        \n",
        "        out, attention_weights = self.scaled_dot_product_attention(\n",
        "            WQ_splits, WK_splits, WV_splits, mask)\n",
        "                        \n",
        "        out = self.combine_heads(out)\n",
        "        out = self.linear(out)\n",
        "            \n",
        "        return out, attention_weights"
      ]
    },
    {
      "cell_type": "code",
      "execution_count": null,
      "metadata": {
        "id": "YnS3SE-bsmqb"
      },
      "outputs": [],
      "source": [
        "# Position-wise Feed Forward Network 구현\n",
        "class PoswiseFeedForwardNet(tf.keras.layers.Layer):\n",
        "    def __init__(self, d_model, d_ff):\n",
        "        super(PoswiseFeedForwardNet, self).__init__()\n",
        "        self.d_model = d_model\n",
        "        self.d_ff = d_ff\n",
        "\n",
        "        self.fc1 = tf.keras.layers.Dense(d_ff, activation='relu')\n",
        "        self.fc2 = tf.keras.layers.Dense(d_model)\n",
        "\n",
        "    def call(self, x):\n",
        "        out = self.fc1(x)\n",
        "        out = self.fc2(out)\n",
        "            \n",
        "        return out"
      ]
    },
    {
      "cell_type": "code",
      "execution_count": null,
      "metadata": {
        "id": "ZrTZVsE7smqb"
      },
      "outputs": [],
      "source": [
        "# Encoder의 레이어 구현\n",
        "class EncoderLayer(tf.keras.layers.Layer):\n",
        "    def __init__(self, d_model, n_heads, d_ff, dropout):\n",
        "        super(EncoderLayer, self).__init__()\n",
        "\n",
        "        self.enc_self_attn = MultiHeadAttention(d_model, n_heads)\n",
        "        self.ffn = PoswiseFeedForwardNet(d_model, d_ff)\n",
        "\n",
        "        self.norm_1 = tf.keras.layers.LayerNormalization(epsilon=1e-6)\n",
        "        self.norm_2 = tf.keras.layers.LayerNormalization(epsilon=1e-6)\n",
        "\n",
        "        self.do = tf.keras.layers.Dropout(dropout)\n",
        "        \n",
        "    def call(self, x, mask):\n",
        "        '''\n",
        "        Multi-Head Attention\n",
        "        '''\n",
        "        residual = x\n",
        "        out = self.norm_1(x)\n",
        "        out, enc_attn = self.enc_self_attn(out, out, out, mask)\n",
        "        out = self.do(out)\n",
        "        out += residual\n",
        "        \n",
        "        '''\n",
        "        Position-Wise Feed Forward Network\n",
        "        '''\n",
        "        residual = out\n",
        "        out = self.norm_2(out)\n",
        "        out = self.ffn(out)\n",
        "        out = self.do(out)\n",
        "        out += residual\n",
        "        \n",
        "        return out, enc_attn"
      ]
    },
    {
      "cell_type": "code",
      "execution_count": null,
      "metadata": {
        "id": "Diya_kR3smqc"
      },
      "outputs": [],
      "source": [
        "# Decoder 레이어 구현\n",
        "class DecoderLayer(tf.keras.layers.Layer):\n",
        "    def __init__(self, d_model, num_heads, d_ff, dropout):\n",
        "        super(DecoderLayer, self).__init__()\n",
        "\n",
        "        self.dec_self_attn = MultiHeadAttention(d_model, num_heads)\n",
        "        self.enc_dec_attn = MultiHeadAttention(d_model, num_heads)\n",
        "\n",
        "        self.ffn = PoswiseFeedForwardNet(d_model, d_ff)\n",
        "\n",
        "        self.norm_1 = tf.keras.layers.LayerNormalization(epsilon=1e-6)\n",
        "        self.norm_2 = tf.keras.layers.LayerNormalization(epsilon=1e-6)\n",
        "        self.norm_3 = tf.keras.layers.LayerNormalization(epsilon=1e-6)\n",
        "\n",
        "        self.do = tf.keras.layers.Dropout(dropout)\n",
        "    \n",
        "    def call(self, x, enc_out, dec_enc_mask, padding_mask):\n",
        "        '''\n",
        "        Masked Multi-Head Attention\n",
        "        '''\n",
        "        residual = x\n",
        "        out = self.norm_1(x)\n",
        "        out, dec_attn = self.dec_self_attn(out, out, out, padding_mask)\n",
        "        out = self.do(out)\n",
        "        out += residual\n",
        "\n",
        "        '''\n",
        "        Multi-Head Attention\n",
        "        '''\n",
        "        residual = out\n",
        "        out = self.norm_2(out)\n",
        "        # Q, K, V 순서에 주의하세요!\n",
        "        out, dec_enc_attn = self.enc_dec_attn(Q=out, K=enc_out, V=enc_out, mask=dec_enc_mask)\n",
        "        out = self.do(out)\n",
        "        out += residual\n",
        "        \n",
        "        '''\n",
        "        Position-Wise Feed Forward Network\n",
        "        '''\n",
        "        residual = out\n",
        "        out = self.norm_3(out)\n",
        "        out = self.ffn(out)\n",
        "        out = self.do(out)\n",
        "        out += residual\n",
        "\n",
        "        return out, dec_attn, dec_enc_attn"
      ]
    },
    {
      "cell_type": "code",
      "execution_count": null,
      "metadata": {
        "id": "_tqXhz6tsmqc"
      },
      "outputs": [],
      "source": [
        "# Encoder 구현\n",
        "class Encoder(tf.keras.Model):\n",
        "    def __init__(self,\n",
        "                    n_layers,\n",
        "                    d_model,\n",
        "                    n_heads,\n",
        "                    d_ff,\n",
        "                    dropout):\n",
        "        super(Encoder, self).__init__()\n",
        "        self.n_layers = n_layers\n",
        "        self.enc_layers = [EncoderLayer(d_model, n_heads, d_ff, dropout) \n",
        "                        for _ in range(n_layers)]\n",
        "    \n",
        "        self.do = tf.keras.layers.Dropout(dropout)\n",
        "        \n",
        "    def call(self, x, mask):\n",
        "        out = x\n",
        "    \n",
        "        enc_attns = list()\n",
        "        for i in range(self.n_layers):\n",
        "            out, enc_attn = self.enc_layers[i](out, mask)\n",
        "            enc_attns.append(enc_attn)\n",
        "        \n",
        "        return out, enc_attns"
      ]
    },
    {
      "cell_type": "code",
      "execution_count": null,
      "metadata": {
        "id": "8-GbsMXGsmqc"
      },
      "outputs": [],
      "source": [
        "# Decoder 구현\n",
        "class Decoder(tf.keras.Model):\n",
        "    def __init__(self,\n",
        "                    n_layers,\n",
        "                    d_model,\n",
        "                    n_heads,\n",
        "                    d_ff,\n",
        "                    dropout):\n",
        "        super(Decoder, self).__init__()\n",
        "        self.n_layers = n_layers\n",
        "        self.dec_layers = [DecoderLayer(d_model, n_heads, d_ff, dropout) \n",
        "                            for _ in range(n_layers)]\n",
        "                            \n",
        "    def call(self, x, enc_out, dec_enc_mask, padding_mask):\n",
        "        out = x\n",
        "    \n",
        "        dec_attns = list()\n",
        "        dec_enc_attns = list()\n",
        "        for i in range(self.n_layers):\n",
        "            out, dec_attn, dec_enc_attn = \\\n",
        "            self.dec_layers[i](out, enc_out, dec_enc_mask, padding_mask)\n",
        "\n",
        "            dec_attns.append(dec_attn)\n",
        "            dec_enc_attns.append(dec_enc_attn)\n",
        "\n",
        "        return out, dec_attns, dec_enc_attns"
      ]
    },
    {
      "cell_type": "markdown",
      "metadata": {
        "id": "eDsHiFpFsmqc"
      },
      "source": [
        "## Transformer 전체 모델 조립"
      ]
    },
    {
      "cell_type": "code",
      "execution_count": null,
      "metadata": {
        "id": "ehRaxXo-smqc"
      },
      "outputs": [],
      "source": [
        "class Transformer(tf.keras.Model):\n",
        "    def __init__(self,\n",
        "                    n_layers,\n",
        "                    d_model,\n",
        "                    n_heads,\n",
        "                    d_ff,\n",
        "                    src_vocab_size,\n",
        "                    tgt_vocab_size,\n",
        "                    pos_len,\n",
        "                    dropout=0.2,\n",
        "                    shared_fc=True,\n",
        "                    shared_emb=False):\n",
        "        super(Transformer, self).__init__()\n",
        "        \n",
        "        self.d_model = tf.cast(d_model, tf.float32)\n",
        "\n",
        "        if shared_emb:\n",
        "            self.enc_emb = self.dec_emb = \\\n",
        "            tf.keras.layers.Embedding(src_vocab_size, d_model)\n",
        "        else:\n",
        "            self.enc_emb = tf.keras.layers.Embedding(src_vocab_size, d_model)\n",
        "            self.dec_emb = tf.keras.layers.Embedding(tgt_vocab_size, d_model)\n",
        "\n",
        "        self.pos_encoding = positional_encoding(pos_len, d_model)\n",
        "        self.do = tf.keras.layers.Dropout(dropout)\n",
        "\n",
        "        self.encoder = Encoder(n_layers, d_model, n_heads, d_ff, dropout)\n",
        "        self.decoder = Decoder(n_layers, d_model, n_heads, d_ff, dropout)\n",
        "\n",
        "        self.fc = tf.keras.layers.Dense(tgt_vocab_size)\n",
        "\n",
        "        self.shared_fc = shared_fc\n",
        "\n",
        "        if shared_fc:\n",
        "            self.fc.set_weights(tf.transpose(self.dec_emb.weights))\n",
        "\n",
        "    def embedding(self, emb, x):\n",
        "        seq_len = x.shape[1]\n",
        "\n",
        "        out = emb(x)\n",
        "\n",
        "        if self.shared_fc: out *= tf.math.sqrt(self.d_model)\n",
        "\n",
        "        out += self.pos_encoding[np.newaxis, ...][:, :seq_len, :]\n",
        "        out = self.do(out)\n",
        "\n",
        "        return out\n",
        "\n",
        "        \n",
        "    def call(self, enc_in, dec_in, enc_mask, dec_enc_mask, dec_mask):\n",
        "        enc_in = self.embedding(self.enc_emb, enc_in)\n",
        "        dec_in = self.embedding(self.dec_emb, dec_in)\n",
        "\n",
        "        enc_out, enc_attns = self.encoder(enc_in, enc_mask)\n",
        "        \n",
        "        dec_out, dec_attns, dec_enc_attns = \\\n",
        "        self.decoder(dec_in, enc_out, dec_enc_mask, dec_mask)\n",
        "        \n",
        "        logits = self.fc(dec_out)\n",
        "        \n",
        "        return logits, enc_attns, dec_attns, dec_enc_attns"
      ]
    },
    {
      "cell_type": "code",
      "execution_count": null,
      "metadata": {
        "id": "Pilo76wlsmqc"
      },
      "outputs": [],
      "source": [
        "# 주어진 하이퍼파라미터로 Transformer 인스턴스 생성\n",
        "transformer = Transformer(\n",
        "    n_layers=1,\n",
        "    d_model=368,\n",
        "    n_heads=8,\n",
        "    d_ff=1024,\n",
        "    src_vocab_size=VOCAB_SIZE,\n",
        "    tgt_vocab_size=VOCAB_SIZE,\n",
        "    pos_len=200,\n",
        "    dropout=0.2,\n",
        "    shared_fc=True,\n",
        "    shared_emb=True)"
      ]
    },
    {
      "cell_type": "code",
      "execution_count": null,
      "metadata": {
        "id": "X0z5cmO1smqc"
      },
      "outputs": [],
      "source": [
        "d_model=368"
      ]
    },
    {
      "cell_type": "code",
      "execution_count": null,
      "metadata": {
        "id": "8uGnDnLVsmqc"
      },
      "outputs": [],
      "source": [
        "# Learning Rate Scheduler 구현\n",
        "class LearningRateScheduler(tf.keras.optimizers.schedules.LearningRateSchedule):\n",
        "    def __init__(self, d_model, warmup_steps=1000):\n",
        "        super(LearningRateScheduler, self).__init__()\n",
        "        \n",
        "        self.d_model = d_model\n",
        "        self.warmup_steps = warmup_steps\n",
        "    \n",
        "    def __call__(self, step):\n",
        "        arg1 = step ** -0.5\n",
        "        arg2 = step * (self.warmup_steps ** -1.5)\n",
        "        \n",
        "        return (self.d_model ** -0.5) * tf.math.minimum(arg1, arg2)"
      ]
    },
    {
      "cell_type": "code",
      "execution_count": null,
      "metadata": {
        "id": "e80GyHvhsmqc"
      },
      "outputs": [],
      "source": [
        "# Learning Rate 인스턴스 선언 & Optimizer 구현\n",
        "learning_rate = LearningRateScheduler(d_model)\n",
        "\n",
        "optimizer = tf.keras.optimizers.Adam(learning_rate,\n",
        "                                        beta_1=0.9,\n",
        "                                        beta_2=0.98, \n",
        "                                        epsilon=1e-9)"
      ]
    },
    {
      "cell_type": "code",
      "execution_count": null,
      "metadata": {
        "id": "FMAg5y_Lsmqc"
      },
      "outputs": [],
      "source": [
        "# Loss Function 정의\n",
        "loss_object = tf.keras.losses.SparseCategoricalCrossentropy(\n",
        "    from_logits=True, reduction='none')\n",
        "\n",
        "def loss_function(real, pred):\n",
        "    mask = tf.math.logical_not(tf.math.equal(real, 0))\n",
        "    loss_ = loss_object(real, pred)\n",
        "\n",
        "    mask = tf.cast(mask, dtype=loss_.dtype)\n",
        "    loss_ *= mask\n",
        "\n",
        "    return tf.reduce_sum(loss_)/tf.reduce_sum(mask)"
      ]
    },
    {
      "cell_type": "code",
      "execution_count": null,
      "metadata": {
        "id": "FJtq2cW9smqc"
      },
      "outputs": [],
      "source": [
        "# Train Step 정의\n",
        "@tf.function()\n",
        "def train_step(src, tgt, model, optimizer):\n",
        "    tgt_in = tgt[:, :-1]  # Decoder의 input\n",
        "    gold = tgt[:, 1:]     # Decoder의 output과 비교하기 위해 right shift를 통해 생성한 최종 타겟\n",
        "\n",
        "    enc_mask, dec_enc_mask, dec_mask = generate_masks(src, tgt_in)\n",
        "\n",
        "    with tf.GradientTape() as tape:\n",
        "        predictions, enc_attns, dec_attns, dec_enc_attns = \\\n",
        "        model(src, tgt_in, enc_mask, dec_enc_mask, dec_mask)\n",
        "        loss = loss_function(gold, predictions)\n",
        "\n",
        "    gradients = tape.gradient(loss, model.trainable_variables)    \n",
        "    optimizer.apply_gradients(zip(gradients, model.trainable_variables))\n",
        "\n",
        "    return loss, enc_attns, dec_attns, dec_enc_attns"
      ]
    },
    {
      "cell_type": "code",
      "execution_count": null,
      "metadata": {
        "id": "P5zkGR9ismqc"
      },
      "outputs": [],
      "source": [
        "BATCH_SIZE = 64\n",
        "train_dataset = tf.data.Dataset.from_tensor_slices((enc_train, dec_train)).batch(batch_size=BATCH_SIZE)"
      ]
    },
    {
      "cell_type": "code",
      "execution_count": null,
      "metadata": {
        "colab": {
          "referenced_widgets": [
            "521ff8a31290413bb79ec002e0620557",
            "49c7fdb5597f4f3cb8e9abfb981ce741",
            "6270bf54283046cb833f79c630681a94",
            "3613e47ecb72485cabe14cbdd5bc3f4d",
            "6236a47d069a4e3fbee0d69b6a1e92fa",
            "10c75d69f98547019499b146ea957cca",
            "d9820201c09c4ee38460ab8c4964092f",
            "ed5ee680fb5f450f866961da0fc93791",
            "9f129d66e79e4fd3813c5a5ddf3c0bce",
            "bca2e9e471d74c08b2232e99047609b8"
          ]
        },
        "id": "EirbnLrAsmqc",
        "outputId": "fe33dff9-87e0-471d-97e9-86fe7ae67196"
      },
      "outputs": [
        {
          "data": {
            "application/vnd.jupyter.widget-view+json": {
              "model_id": "521ff8a31290413bb79ec002e0620557",
              "version_major": 2,
              "version_minor": 0
            },
            "text/plain": [
              "  0%|          | 0/360 [00:00<?, ?it/s]"
            ]
          },
          "metadata": {},
          "output_type": "display_data"
        },
        {
          "data": {
            "application/vnd.jupyter.widget-view+json": {
              "model_id": "49c7fdb5597f4f3cb8e9abfb981ce741",
              "version_major": 2,
              "version_minor": 0
            },
            "text/plain": [
              "  0%|          | 0/360 [00:00<?, ?it/s]"
            ]
          },
          "metadata": {},
          "output_type": "display_data"
        },
        {
          "data": {
            "application/vnd.jupyter.widget-view+json": {
              "model_id": "6270bf54283046cb833f79c630681a94",
              "version_major": 2,
              "version_minor": 0
            },
            "text/plain": [
              "  0%|          | 0/360 [00:00<?, ?it/s]"
            ]
          },
          "metadata": {},
          "output_type": "display_data"
        },
        {
          "data": {
            "application/vnd.jupyter.widget-view+json": {
              "model_id": "3613e47ecb72485cabe14cbdd5bc3f4d",
              "version_major": 2,
              "version_minor": 0
            },
            "text/plain": [
              "  0%|          | 0/360 [00:00<?, ?it/s]"
            ]
          },
          "metadata": {},
          "output_type": "display_data"
        },
        {
          "data": {
            "application/vnd.jupyter.widget-view+json": {
              "model_id": "6236a47d069a4e3fbee0d69b6a1e92fa",
              "version_major": 2,
              "version_minor": 0
            },
            "text/plain": [
              "  0%|          | 0/360 [00:00<?, ?it/s]"
            ]
          },
          "metadata": {},
          "output_type": "display_data"
        },
        {
          "data": {
            "application/vnd.jupyter.widget-view+json": {
              "model_id": "10c75d69f98547019499b146ea957cca",
              "version_major": 2,
              "version_minor": 0
            },
            "text/plain": [
              "  0%|          | 0/360 [00:00<?, ?it/s]"
            ]
          },
          "metadata": {},
          "output_type": "display_data"
        },
        {
          "data": {
            "application/vnd.jupyter.widget-view+json": {
              "model_id": "d9820201c09c4ee38460ab8c4964092f",
              "version_major": 2,
              "version_minor": 0
            },
            "text/plain": [
              "  0%|          | 0/360 [00:00<?, ?it/s]"
            ]
          },
          "metadata": {},
          "output_type": "display_data"
        },
        {
          "data": {
            "application/vnd.jupyter.widget-view+json": {
              "model_id": "ed5ee680fb5f450f866961da0fc93791",
              "version_major": 2,
              "version_minor": 0
            },
            "text/plain": [
              "  0%|          | 0/360 [00:00<?, ?it/s]"
            ]
          },
          "metadata": {},
          "output_type": "display_data"
        },
        {
          "data": {
            "application/vnd.jupyter.widget-view+json": {
              "model_id": "9f129d66e79e4fd3813c5a5ddf3c0bce",
              "version_major": 2,
              "version_minor": 0
            },
            "text/plain": [
              "  0%|          | 0/360 [00:00<?, ?it/s]"
            ]
          },
          "metadata": {},
          "output_type": "display_data"
        },
        {
          "data": {
            "application/vnd.jupyter.widget-view+json": {
              "model_id": "bca2e9e471d74c08b2232e99047609b8",
              "version_major": 2,
              "version_minor": 0
            },
            "text/plain": [
              "  0%|          | 0/360 [00:00<?, ?it/s]"
            ]
          },
          "metadata": {},
          "output_type": "display_data"
        }
      ],
      "source": [
        "# 훈련시키기\n",
        "EPOCHS = 10\n",
        "\n",
        "for epoch in range(EPOCHS):\n",
        "    total_loss = 0\n",
        "    \n",
        "    dataset_count = tf.data.experimental.cardinality(train_dataset).numpy()\n",
        "    tqdm_bar = tqdm(total=dataset_count)\n",
        "    for step, (enc_batch, dec_batch) in enumerate(train_dataset):\n",
        "        batch_loss, enc_attns, dec_attns, dec_enc_attns = \\\n",
        "        train_step(enc_batch,\n",
        "                    dec_batch,\n",
        "                    transformer,\n",
        "                    optimizer)\n",
        "\n",
        "        total_loss += batch_loss\n",
        "        \n",
        "        tqdm_bar.set_description_str('Epoch %2d' % (epoch + 1))\n",
        "        tqdm_bar.set_postfix_str('Loss %.4f' % (total_loss.numpy() / (step + 1)))\n",
        "        tqdm_bar.update()"
      ]
    },
    {
      "cell_type": "code",
      "execution_count": null,
      "metadata": {
        "id": "Js2CKfIOsmqd"
      },
      "outputs": [],
      "source": [
        "def calculate_bleu(reference, candidate, weights=[0.25, 0.25, 0.25, 0.25]):\n",
        "    return sentence_bleu([reference],\n",
        "                            candidate,\n",
        "                            weights=weights,\n",
        "                            smoothing_function=SmoothingFunction().method1)"
      ]
    },
    {
      "cell_type": "code",
      "execution_count": null,
      "metadata": {
        "id": "k5Dsrwg1smqd"
      },
      "outputs": [],
      "source": [
        "# bleu 계산\n",
        "\n",
        "def eval_bleu_single(model, src_sentence, tgt_sentence, src_tokenizer, tgt_tokenizer, verbose=True):\n",
        "    src_tokens = src_tokenizer.encode_as_ids(src_sentence)\n",
        "    tgt_tokens = tgt_tokenizer.encode_as_ids(tgt_sentence)\n",
        "\n",
        "    if (len(src_tokens) > 42): return None\n",
        "    if (len(tgt_tokens) > 42): return None\n",
        "\n",
        "    reference = tgt_sentence.split()\n",
        "    candidate = translate(src_tokens, model, src_tokenizer, tgt_tokenizer).split()\n",
        "\n",
        "    score = sentence_bleu([reference], candidate,\n",
        "                          smoothing_function=SmoothingFunction().method1)\n",
        "\n",
        "    if verbose:\n",
        "        print(\"Source Sentence: \", src_sentence)\n",
        "        print(\"Model Prediction: \", candidate)\n",
        "        print(\"Real: \", reference)\n",
        "        print(\"Score: %lf\\n\" % score)\n",
        "        \n",
        "    return score"
      ]
    },
    {
      "cell_type": "code",
      "execution_count": null,
      "metadata": {
        "id": "qNVNIzYFsmqd"
      },
      "outputs": [],
      "source": [
        "MAX_LEN = 42"
      ]
    },
    {
      "cell_type": "code",
      "execution_count": null,
      "metadata": {
        "id": "SJAtwSRysmqd"
      },
      "outputs": [],
      "source": [
        "def v2w(dict):\n",
        "    vec_to_word = {}\n",
        "    for k,v in dict.items():\n",
        "        vec_to_word[v]=k\n",
        "    \n",
        "    return vec_to_word    "
      ]
    },
    {
      "cell_type": "code",
      "execution_count": null,
      "metadata": {
        "id": "Mghc6H1Csmqd"
      },
      "outputs": [],
      "source": [
        "vec_to_word = v2w(tokenizer.word_index)"
      ]
    },
    {
      "cell_type": "code",
      "execution_count": null,
      "metadata": {
        "id": "1R3mVbposmqd"
      },
      "outputs": [],
      "source": [
        "def gen_sen(tokens, model=transformer, src_tokenizer=tokenizer, tgt_tokenizer=tokenizer):\n",
        "    tokens = preprocess_sentence(tokens)\n",
        "    tokens = mecab.morphs(tokens)\n",
        "    tokens = tokenizer.texts_to_sequences(tokens)\n",
        "    padded_tokens = tf.keras.preprocessing.sequence.pad_sequences(tokens,\n",
        "                                                           maxlen=MAX_LEN,\n",
        "                                                           padding='post')\n",
        "    ids = []\n",
        "    output = tf.expand_dims([2], 0)   \n",
        "    for i in range(MAX_LEN):\n",
        "        enc_padding_mask, combined_mask, dec_padding_mask = \\\n",
        "        generate_masks(padded_tokens, output)\n",
        "\n",
        "        predictions, _, _, _ = model(padded_tokens, \n",
        "                                      output,\n",
        "                                      enc_padding_mask,\n",
        "                                      combined_mask,\n",
        "                                      dec_padding_mask)\n",
        "\n",
        "        predicted_id = \\\n",
        "        tf.argmax(tf.math.softmax(predictions, axis=-1)[0, -1]).numpy().item()\n",
        "\n",
        "        if 3 == predicted_id:\n",
        "             \n",
        "            return ids\n",
        "\n",
        "        ids.append(predicted_id)\n",
        "        output = tf.concat([output, tf.expand_dims([predicted_id], 0)], axis=-1)\n",
        "\n",
        "    #result = tgt_tokenizer.decode_ids(ids)\n",
        "    \n",
        "    return ids"
      ]
    },
    {
      "cell_type": "markdown",
      "source": [
        "# 성능 측정하기"
      ],
      "metadata": {
        "id": "LNgMytQbtUU1"
      }
    },
    {
      "cell_type": "code",
      "execution_count": null,
      "metadata": {
        "id": "0ctY463Gsmqd",
        "outputId": "fd714c09-9946-440b-d3ba-ed0faca0b594"
      },
      "outputs": [
        {
          "name": "stdout",
          "output_type": "stream",
          "text": [
            "다른 답답 답답 해 다른 생각 해 보 세요 . "
          ]
        }
      ],
      "source": [
        "for i in gen_sen('지루하다, 놀러가고 싶어.'):\n",
        "    print(vec_to_word[i], end=' ')"
      ]
    },
    {
      "cell_type": "code",
      "execution_count": null,
      "metadata": {
        "id": "H-0SCc54smqd",
        "outputId": "fa68fd10-1ed1-4231-acd5-2b4e17a8603e"
      },
      "outputs": [
        {
          "name": "stdout",
          "output_type": "stream",
          "text": [
            "오늘 은 버티 성장 을 해 의 보 세요 . "
          ]
        }
      ],
      "source": [
        "for i in gen_sen('오늘 일찍 일어났더니 피곤하다.'):\n",
        "    print(vec_to_word[i], end=' ')"
      ]
    },
    {
      "cell_type": "code",
      "execution_count": null,
      "metadata": {
        "id": "KXkB3hdLsmqd",
        "outputId": "33dd04a7-6003-4f24-e797-11660a82c7d9"
      },
      "outputs": [
        {
          "name": "stdout",
          "output_type": "stream",
          "text": [
            "떨리 죠 . "
          ]
        }
      ],
      "source": [
        "for i in gen_sen('간만에 여자친구랑 데이트 하기로 했어.'):\n",
        "    print(vec_to_word[i], end=' ')"
      ]
    },
    {
      "cell_type": "code",
      "execution_count": null,
      "metadata": {
        "id": "HlkkYGN7smqd",
        "outputId": "98858578-e790-495f-9f32-e9020bd9b3ef"
      },
      "outputs": [
        {
          "name": "stdout",
          "output_type": "stream",
          "text": [
            "우연 로서 풀 내 집 에 도 갖 는 좋 은데요 . "
          ]
        }
      ],
      "source": [
        "for i in gen_sen('집에 있는다는 소리야.'):\n",
        "    print(vec_to_word[i], end=' ')"
      ]
    },
    {
      "cell_type": "code",
      "execution_count": null,
      "metadata": {
        "id": "FtIwnSZNsmqd"
      },
      "outputs": [],
      "source": [
        "    n_layers=1,\n",
        "    d_model=368,\n",
        "    n_heads=8,\n",
        "    d_ff=1024,\n",
        "    src_vocab_size=VOCAB_SIZE,\n",
        "    tgt_vocab_size=VOCAB_SIZE,\n",
        "    pos_len=200,\n",
        "    dropout=0.2,\n",
        "    EPOCHS = 10\n",
        "    warmup_steps=1000\n",
        "    BATCH_SIZE = 64"
      ]
    },
    {
      "cell_type": "markdown",
      "source": [
        "* epoch=5 일 때의 결과 일부\n",
        "\n",
        "![[GDProject_6]Chatbot - Jupyter Notebook.png](data:image/png;base64,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)"
      ],
      "metadata": {
        "id": "CN0lNvB4tEJ5"
      }
    },
    {
      "cell_type": "markdown",
      "source": [
        "# 회고\n",
        "\n",
        "이번 노드에서는 번역기와 비슷한 방식을 가지고 챗봇을 만들었다. 번역기는 번역 대상이 되는 언어의 문장과 타겟이 되는 문장의 쌍으로 이루어져 있어서 이것들을 연결해 모델을 학습하고 결과를 얻는다. 마찬가지로 qna 역시 문장의 쌍으로 이루어져 있으므로 같은 방법을 사용할 수 있는 것이다. \n",
        "\n",
        "그러나 몇 가지 문제점이 있었는데 얼마나 학습해야 좋을지 알기 어렵다는 점이었다. 학습이 부족하면 위의 사진처럼 일부 단어만을 반복하는 문제가 심각하게 발생했으며 너무 많이 학습하면 데이터의 부족으로 오버피팅이 발생할 수 있었기 때문이다. 그런데 이런 오류를 발견하기 위해서는 사람이 직접 확인해야하므로 꽤나 쉽지 않은 일이었다.\n",
        "\n",
        "우리가 처음 가진 데이터는 각 문장쌍의 갯수가 7000개 정도였다. 이는 매우 적은 양이기 때문에 데이터 증강을 하는 과정을 가졌다. 문장 내에 있는 한 단어를 무작위로 고른 후 그것과 비슷한 다른 단어로 대체한 것이다. word2vec으로 유사한 단어를 찾을 수 있었으며 이렇게 각 질문 데이터와 대답 데이터에 같은 방식으로 데이터의 양을 2배로 늘릴 수 있었으며 실제로 우리가 사용할 데이터는 이것들의 문장 쌍이므로 결합하는 방식을 다르게 함으로써 실제 데이터를 3배로 늘려 사용했다."
      ],
      "metadata": {
        "id": "NImYWJC9s9wx"
      }
    }
  ],
  "metadata": {
    "colab": {
      "provenance": [],
      "toc_visible": true
    },
    "kernelspec": {
      "display_name": "Python 3 (ipykernel)",
      "language": "python",
      "name": "python3"
    },
    "language_info": {
      "codemirror_mode": {
        "name": "ipython",
        "version": 3
      },
      "file_extension": ".py",
      "mimetype": "text/x-python",
      "name": "python",
      "nbconvert_exporter": "python",
      "pygments_lexer": "ipython3",
      "version": "3.9.7"
    }
  },
  "nbformat": 4,
  "nbformat_minor": 0
}